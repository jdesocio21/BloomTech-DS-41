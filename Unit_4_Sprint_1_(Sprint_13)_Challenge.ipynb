{
  "cells": [
    {
      "cell_type": "markdown",
      "metadata": {
        "deletable": false,
        "editable": false,
        "nbgrader": {
          "cell_type": "markdown",
          "checksum": "b29cb9a438a53a188052be3a3371c6f7",
          "grade": false,
          "grade_id": "cell-e98be1092b48b377",
          "locked": true,
          "schema_version": 3,
          "solution": false,
          "task": false
        },
        "id": "8IHaRyO38eEW"
      },
      "source": [
        "# Sprint Challenge\n",
        "## *Data Science Unit 4 Sprint 1*\n",
        "\n",
        "After a week of Natural Language Processing, you've learned some cool new stuff: how to process text, how turn text into vectors, and how to model topics from documents. Apply your newly acquired skills to one of the most famous NLP datasets out there: [Yelp](https://www.yelp.com/dataset). As part of the job selection process, some of my friends have been asked to create analysis of this dataset, so I want to empower you to have a head start.  \n",
        "\n",
        "The real dataset is massive (almost 8 gigs uncompressed). The data is sampled for you to something more manageable for the Sprint Challenge. You can analyze the full dataset as a stretch goal or after the sprint challenge. As you work on the challenge, add comments and conclusions about your findings and describe anything you want to analyze in the future.\n",
        "\n",
        "## Challenge Objectives\n",
        "Successfully complete all these objectives to earn full credit. \n",
        "\n",
        "**Successful completion is defined as passing all the unit tests in each objective.**  \n",
        "\n",
        "Each unit test that you pass is 1 point. \n",
        "\n",
        "There are 5 total possible points in this sprint challenge. \n",
        "\n",
        "\n",
        "There are more details on each objective further down in the notebook.*\n",
        "* <a href=\"#p1\">Part 1</a>: Write a function to tokenize the yelp reviews\n",
        "* <a href=\"#p2\">Part 2</a>: Create a vector representation of those tokens\n",
        "* <a href=\"#p3\">Part 3</a>: Use your tokens in a classification model on Yelp rating\n",
        "* <a href=\"#p4\">Part 4</a>: Estimate & Interpret a topic model of the Yelp reviews\n",
        "\n",
        "____\n",
        "\n",
        "# Before you submit your notebook you must first\n",
        "\n",
        "1) Restart your notebook's Kernel\n",
        "\n",
        "2) Run all cells sequentially, from top to bottom, so that cell numbers are sequential numbers (i.e. 1,2,3,4,5...)\n",
        "- Easiest way to do this is to click on the **Cell** tab at the top of your notebook and select **Run All** from the drop down menu. \n",
        "\n",
        "3) **Comment out the cell that generates a pyLDAvis visual in objective 4 (see instructions in that section).** \n",
        "____"
      ]
    },
    {
      "cell_type": "markdown",
      "metadata": {
        "deletable": false,
        "editable": false,
        "nbgrader": {
          "cell_type": "markdown",
          "checksum": "a0fb09b9e122fc2f2a2baae91a22a818",
          "grade": false,
          "grade_id": "cell-e6c3d2173420a581",
          "locked": true,
          "schema_version": 3,
          "solution": false,
          "task": false
        },
        "id": "zKHGctMZ8eEe"
      },
      "source": [
        "### Part 0: Import Necessary Packages\n",
        "For this section, you will need to import:\n",
        "- `spacy` \n",
        "- `Pandas`\n",
        "- `Seaborn`\n",
        "- `Matplotlib`\n",
        "- `NearestNeighbors`\n",
        "- `Pipeline` \n",
        "- `TfidfVectorizer`\n",
        "- `KneighborsClassifier`\n",
        "- `GridSearchCV`\n",
        "- `corpora`\n",
        "- `LdaModel`\n",
        "- `gensim`\n",
        "- `re`\n",
        "\n",
        "> **Note: This assignment is optimized to work with these specific packages. You can use import different packages, but note that this may affect how CodeGrade works, and may cause CodeGrade to fail.**"
      ]
    },
    {
      "cell_type": "code",
      "execution_count": null,
      "metadata": {
        "deletable": false,
        "nbgrader": {
          "cell_type": "code",
          "checksum": "8d3d0719eecd5609256125d84cc4218a",
          "grade": false,
          "grade_id": "cell-b29df5c5bfb8c0d8",
          "locked": false,
          "schema_version": 3,
          "solution": true,
          "task": false
        },
        "id": "7VY4UmMk8eEg"
      },
      "outputs": [],
      "source": [
        "# YOUR CODE HERE\n",
        "# !python -m spacy download en_core_web_sm "
      ]
    },
    {
      "cell_type": "code",
      "source": [
        "!pip install gensim==3.8.1"
      ],
      "metadata": {
        "colab": {
          "base_uri": "https://localhost:8080/"
        },
        "id": "THoUl2Uqex1F",
        "outputId": "9c6c34ca-8ff2-4a8d-8b46-47ee14932634"
      },
      "execution_count": null,
      "outputs": [
        {
          "output_type": "stream",
          "name": "stdout",
          "text": [
            "Looking in indexes: https://pypi.org/simple, https://us-python.pkg.dev/colab-wheels/public/simple/\n",
            "Requirement already satisfied: gensim==3.8.1 in /usr/local/lib/python3.7/dist-packages (3.8.1)\n",
            "Requirement already satisfied: six>=1.5.0 in /usr/local/lib/python3.7/dist-packages (from gensim==3.8.1) (1.15.0)\n",
            "Requirement already satisfied: numpy>=1.11.3 in /usr/local/lib/python3.7/dist-packages (from gensim==3.8.1) (1.21.6)\n",
            "Requirement already satisfied: scipy>=0.18.1 in /usr/local/lib/python3.7/dist-packages (from gensim==3.8.1) (1.7.3)\n",
            "Requirement already satisfied: smart-open>=1.8.1 in /usr/local/lib/python3.7/dist-packages (from gensim==3.8.1) (5.2.1)\n"
          ]
        }
      ]
    },
    {
      "cell_type": "code",
      "source": [
        "import re\n",
        "import pandas as pd\n",
        "import numpy as np\n",
        "\n",
        "\n",
        "# Plotting\n",
        "# import squarify\n",
        "import matplotlib.pyplot as plt\n",
        "import seaborn as sns\n",
        "sns.set() \n",
        "# NLP Libraries\n",
        "import spacy\n",
        "from spacy.tokenizer import Tokenizer\n",
        "from sklearn.neighbors import NearestNeighbors #NearestNeighbors \n",
        "from sklearn.pipeline import Pipeline #Pipeline\n",
        "from sklearn.feature_extraction.text import CountVectorizer, TfidfVectorizer #TfidfVectorizer\n",
        "from sklearn.neighbors import KNeighborsClassifier #KneighborsClassifier\n",
        "from sklearn.model_selection import GridSearchCV #GridSearchCV\n",
        "import gensim #gensim\n",
        "import gensim.corpora as corpora #corpora\n",
        "from gensim.models.ldamodel import LdaModel #LdaModel\n",
        "from gensim.test.utils import common_corpus, common_dictionary\n",
        "from gensim.models.ldamulticore import LdaMulticore\n",
        "\n"
      ],
      "metadata": {
        "id": "oUNME1xbD6MM"
      },
      "execution_count": null,
      "outputs": []
    },
    {
      "cell_type": "code",
      "execution_count": null,
      "metadata": {
        "deletable": false,
        "editable": false,
        "nbgrader": {
          "cell_type": "code",
          "checksum": "6b8ad4a1ac317df7b82aced26eee406f",
          "grade": true,
          "grade_id": "cell-be1ef923d085ceb5",
          "locked": true,
          "points": 1,
          "schema_version": 3,
          "solution": false,
          "task": false
        },
        "id": "GVHCI0LQ8eEj"
      },
      "outputs": [],
      "source": [
        "# Visible Testing\n",
        "assert pd.__package__ == 'pandas'\n"
      ]
    },
    {
      "cell_type": "markdown",
      "metadata": {
        "deletable": false,
        "editable": false,
        "nbgrader": {
          "cell_type": "markdown",
          "checksum": "11b700564f5d76c1ec246d8fece821c1",
          "grade": false,
          "grade_id": "cell-c94bee05bece8c59",
          "locked": true,
          "schema_version": 3,
          "solution": false,
          "task": false
        },
        "id": "sNTUFd0u8eEk"
      },
      "source": [
        "\n",
        "\n",
        "### Part 0: Import Data"
      ]
    },
    {
      "cell_type": "code",
      "execution_count": null,
      "metadata": {
        "deletable": false,
        "nbgrader": {
          "cell_type": "code",
          "checksum": "150e28699f961709cb59be5e0f8ddbe0",
          "grade": false,
          "grade_id": "cell-395851cd95d17235",
          "locked": false,
          "schema_version": 3,
          "solution": true,
          "task": false
        },
        "id": "4Kf6fysR8eEl"
      },
      "outputs": [],
      "source": [
        "# Load reviews from URL\n",
        "data_url = 'https://raw.githubusercontent.com/bloominstituteoftechnology/data-science-practice-datasets/main/unit_4/unit1_nlp/review_sample.json'\n",
        "\n",
        "# Import data into a DataFrame named df\n",
        "# YOUR CODE HERE\n",
        "df = pd.read_json(data_url, lines = True)"
      ]
    },
    {
      "cell_type": "code",
      "source": [
        "df"
      ],
      "metadata": {
        "colab": {
          "base_uri": "https://localhost:8080/",
          "height": 633
        },
        "id": "LJ_2NRQc3wQi",
        "outputId": "e34bd821-dd1a-4d9a-8833-fcaad32c0813"
      },
      "execution_count": null,
      "outputs": [
        {
          "output_type": "execute_result",
          "data": {
            "text/plain": [
              "                 business_id  cool                date  funny  \\\n",
              "0     nDuEqIyRc8YKS1q1fX0CZg     1 2015-03-31 16:50:30      0   \n",
              "1     eMYeEapscbKNqUDCx705hg     0 2015-12-16 05:31:03      0   \n",
              "2     6Q7-wkCPc1KF75jZLOTcMw     1 2010-06-20 19:14:48      1   \n",
              "3     k3zrItO4l9hwfLRwHBDc9w     3 2010-07-13 00:33:45      4   \n",
              "4     6hpfRwGlOzbNv7k5eP9rsQ     1 2018-06-30 02:30:01      0   \n",
              "...                      ...   ...                 ...    ...   \n",
              "9995  1h3ysSuSazvXc1aeLiiOew     0 2017-10-07 10:57:15      1   \n",
              "9996  Rwahe1zbFpw6VIjb5ngZeg     0 2014-01-18 15:52:52      0   \n",
              "9997  8itGZAOBMiTbHKOwLuh4_Q     0 2018-08-26 02:53:21      0   \n",
              "9998  A5Rkh7UymKm0_Rxm9K2PJw     0 2018-04-23 23:36:07      0   \n",
              "9999  xtYiHTmunjfCN2sUaQxBjA     0 2016-06-02 23:37:51      0   \n",
              "\n",
              "                   review_id  stars  \\\n",
              "0     eZs2tpEJtXPwawvHnHZIgQ      1   \n",
              "1     DoQDWJsNbU0KL1O29l_Xug      4   \n",
              "2     DDOdGU7zh56yQHmUnL1idQ      3   \n",
              "3     LfTMUWnfGFMOfOIyJcwLVA      1   \n",
              "4     zJSUdI7bJ8PNJAg4lnl_Gg      4   \n",
              "...                      ...    ...   \n",
              "9995  kAYnguBAJ2Ovzz5s49fMcQ      1   \n",
              "9996  5Huai3nJAaeN8X0vCXqOew      3   \n",
              "9997  wmRCto8yNnmMCNc_nfL5Dg      2   \n",
              "9998  zlIU9GEI3MP5LXBpEM5qsw      4   \n",
              "9999  _656ilBKoc-ZjjA5dRRoyw      1   \n",
              "\n",
              "                                                   text  useful  \\\n",
              "0     BEWARE!!! FAKE, FAKE, FAKE....We also own a sm...      10   \n",
              "1     Came here for lunch Togo. Service was quick. S...       0   \n",
              "2     I've been to Vegas dozens of times and had nev...       2   \n",
              "3     We went here on a night where they closed off ...       5   \n",
              "4     3.5 to 4 stars\\n\\nNot bad for the price, $12.9...       5   \n",
              "...                                                 ...     ...   \n",
              "9995  My family and I were hungry and this Subway is...       1   \n",
              "9996  My wife and I came here with a a couple of fri...       0   \n",
              "9997  The food was just OK and not anything to brag ...       0   \n",
              "9998  Today's visit is great!! Love and enjoy Town S...       0   \n",
              "9999  This is the absolute worst place I have ever s...       0   \n",
              "\n",
              "                     user_id  \n",
              "0     n1LM36qNg4rqGXIcvVXv8w  \n",
              "1     5CgjjDAic2-FAvCtiHpytA  \n",
              "2     BdV-cf3LScmb8kZ7iiBcMA  \n",
              "3     cZZnBqh4gAEy4CdNvJailQ  \n",
              "4     n9QO4ClYAS7h9fpQwa5bhA  \n",
              "...                      ...  \n",
              "9995  QFYqAk8n5Z1O3t7zwjA7Hg  \n",
              "9996  X7jQ-4788irfe5ABZNvYcA  \n",
              "9997  _pi5J_1CIQWceLhTJkx_yA  \n",
              "9998  PP1K311ZKbpDgTjwic3u5Q  \n",
              "9999  Y1tHSar3k-_clZVCM7JBZQ  \n",
              "\n",
              "[10000 rows x 9 columns]"
            ],
            "text/html": [
              "\n",
              "  <div id=\"df-39e42145-ab3a-4005-91a1-3eb8cacb6093\">\n",
              "    <div class=\"colab-df-container\">\n",
              "      <div>\n",
              "<style scoped>\n",
              "    .dataframe tbody tr th:only-of-type {\n",
              "        vertical-align: middle;\n",
              "    }\n",
              "\n",
              "    .dataframe tbody tr th {\n",
              "        vertical-align: top;\n",
              "    }\n",
              "\n",
              "    .dataframe thead th {\n",
              "        text-align: right;\n",
              "    }\n",
              "</style>\n",
              "<table border=\"1\" class=\"dataframe\">\n",
              "  <thead>\n",
              "    <tr style=\"text-align: right;\">\n",
              "      <th></th>\n",
              "      <th>business_id</th>\n",
              "      <th>cool</th>\n",
              "      <th>date</th>\n",
              "      <th>funny</th>\n",
              "      <th>review_id</th>\n",
              "      <th>stars</th>\n",
              "      <th>text</th>\n",
              "      <th>useful</th>\n",
              "      <th>user_id</th>\n",
              "    </tr>\n",
              "  </thead>\n",
              "  <tbody>\n",
              "    <tr>\n",
              "      <th>0</th>\n",
              "      <td>nDuEqIyRc8YKS1q1fX0CZg</td>\n",
              "      <td>1</td>\n",
              "      <td>2015-03-31 16:50:30</td>\n",
              "      <td>0</td>\n",
              "      <td>eZs2tpEJtXPwawvHnHZIgQ</td>\n",
              "      <td>1</td>\n",
              "      <td>BEWARE!!! FAKE, FAKE, FAKE....We also own a sm...</td>\n",
              "      <td>10</td>\n",
              "      <td>n1LM36qNg4rqGXIcvVXv8w</td>\n",
              "    </tr>\n",
              "    <tr>\n",
              "      <th>1</th>\n",
              "      <td>eMYeEapscbKNqUDCx705hg</td>\n",
              "      <td>0</td>\n",
              "      <td>2015-12-16 05:31:03</td>\n",
              "      <td>0</td>\n",
              "      <td>DoQDWJsNbU0KL1O29l_Xug</td>\n",
              "      <td>4</td>\n",
              "      <td>Came here for lunch Togo. Service was quick. S...</td>\n",
              "      <td>0</td>\n",
              "      <td>5CgjjDAic2-FAvCtiHpytA</td>\n",
              "    </tr>\n",
              "    <tr>\n",
              "      <th>2</th>\n",
              "      <td>6Q7-wkCPc1KF75jZLOTcMw</td>\n",
              "      <td>1</td>\n",
              "      <td>2010-06-20 19:14:48</td>\n",
              "      <td>1</td>\n",
              "      <td>DDOdGU7zh56yQHmUnL1idQ</td>\n",
              "      <td>3</td>\n",
              "      <td>I've been to Vegas dozens of times and had nev...</td>\n",
              "      <td>2</td>\n",
              "      <td>BdV-cf3LScmb8kZ7iiBcMA</td>\n",
              "    </tr>\n",
              "    <tr>\n",
              "      <th>3</th>\n",
              "      <td>k3zrItO4l9hwfLRwHBDc9w</td>\n",
              "      <td>3</td>\n",
              "      <td>2010-07-13 00:33:45</td>\n",
              "      <td>4</td>\n",
              "      <td>LfTMUWnfGFMOfOIyJcwLVA</td>\n",
              "      <td>1</td>\n",
              "      <td>We went here on a night where they closed off ...</td>\n",
              "      <td>5</td>\n",
              "      <td>cZZnBqh4gAEy4CdNvJailQ</td>\n",
              "    </tr>\n",
              "    <tr>\n",
              "      <th>4</th>\n",
              "      <td>6hpfRwGlOzbNv7k5eP9rsQ</td>\n",
              "      <td>1</td>\n",
              "      <td>2018-06-30 02:30:01</td>\n",
              "      <td>0</td>\n",
              "      <td>zJSUdI7bJ8PNJAg4lnl_Gg</td>\n",
              "      <td>4</td>\n",
              "      <td>3.5 to 4 stars\\n\\nNot bad for the price, $12.9...</td>\n",
              "      <td>5</td>\n",
              "      <td>n9QO4ClYAS7h9fpQwa5bhA</td>\n",
              "    </tr>\n",
              "    <tr>\n",
              "      <th>...</th>\n",
              "      <td>...</td>\n",
              "      <td>...</td>\n",
              "      <td>...</td>\n",
              "      <td>...</td>\n",
              "      <td>...</td>\n",
              "      <td>...</td>\n",
              "      <td>...</td>\n",
              "      <td>...</td>\n",
              "      <td>...</td>\n",
              "    </tr>\n",
              "    <tr>\n",
              "      <th>9995</th>\n",
              "      <td>1h3ysSuSazvXc1aeLiiOew</td>\n",
              "      <td>0</td>\n",
              "      <td>2017-10-07 10:57:15</td>\n",
              "      <td>1</td>\n",
              "      <td>kAYnguBAJ2Ovzz5s49fMcQ</td>\n",
              "      <td>1</td>\n",
              "      <td>My family and I were hungry and this Subway is...</td>\n",
              "      <td>1</td>\n",
              "      <td>QFYqAk8n5Z1O3t7zwjA7Hg</td>\n",
              "    </tr>\n",
              "    <tr>\n",
              "      <th>9996</th>\n",
              "      <td>Rwahe1zbFpw6VIjb5ngZeg</td>\n",
              "      <td>0</td>\n",
              "      <td>2014-01-18 15:52:52</td>\n",
              "      <td>0</td>\n",
              "      <td>5Huai3nJAaeN8X0vCXqOew</td>\n",
              "      <td>3</td>\n",
              "      <td>My wife and I came here with a a couple of fri...</td>\n",
              "      <td>0</td>\n",
              "      <td>X7jQ-4788irfe5ABZNvYcA</td>\n",
              "    </tr>\n",
              "    <tr>\n",
              "      <th>9997</th>\n",
              "      <td>8itGZAOBMiTbHKOwLuh4_Q</td>\n",
              "      <td>0</td>\n",
              "      <td>2018-08-26 02:53:21</td>\n",
              "      <td>0</td>\n",
              "      <td>wmRCto8yNnmMCNc_nfL5Dg</td>\n",
              "      <td>2</td>\n",
              "      <td>The food was just OK and not anything to brag ...</td>\n",
              "      <td>0</td>\n",
              "      <td>_pi5J_1CIQWceLhTJkx_yA</td>\n",
              "    </tr>\n",
              "    <tr>\n",
              "      <th>9998</th>\n",
              "      <td>A5Rkh7UymKm0_Rxm9K2PJw</td>\n",
              "      <td>0</td>\n",
              "      <td>2018-04-23 23:36:07</td>\n",
              "      <td>0</td>\n",
              "      <td>zlIU9GEI3MP5LXBpEM5qsw</td>\n",
              "      <td>4</td>\n",
              "      <td>Today's visit is great!! Love and enjoy Town S...</td>\n",
              "      <td>0</td>\n",
              "      <td>PP1K311ZKbpDgTjwic3u5Q</td>\n",
              "    </tr>\n",
              "    <tr>\n",
              "      <th>9999</th>\n",
              "      <td>xtYiHTmunjfCN2sUaQxBjA</td>\n",
              "      <td>0</td>\n",
              "      <td>2016-06-02 23:37:51</td>\n",
              "      <td>0</td>\n",
              "      <td>_656ilBKoc-ZjjA5dRRoyw</td>\n",
              "      <td>1</td>\n",
              "      <td>This is the absolute worst place I have ever s...</td>\n",
              "      <td>0</td>\n",
              "      <td>Y1tHSar3k-_clZVCM7JBZQ</td>\n",
              "    </tr>\n",
              "  </tbody>\n",
              "</table>\n",
              "<p>10000 rows × 9 columns</p>\n",
              "</div>\n",
              "      <button class=\"colab-df-convert\" onclick=\"convertToInteractive('df-39e42145-ab3a-4005-91a1-3eb8cacb6093')\"\n",
              "              title=\"Convert this dataframe to an interactive table.\"\n",
              "              style=\"display:none;\">\n",
              "        \n",
              "  <svg xmlns=\"http://www.w3.org/2000/svg\" height=\"24px\"viewBox=\"0 0 24 24\"\n",
              "       width=\"24px\">\n",
              "    <path d=\"M0 0h24v24H0V0z\" fill=\"none\"/>\n",
              "    <path d=\"M18.56 5.44l.94 2.06.94-2.06 2.06-.94-2.06-.94-.94-2.06-.94 2.06-2.06.94zm-11 1L8.5 8.5l.94-2.06 2.06-.94-2.06-.94L8.5 2.5l-.94 2.06-2.06.94zm10 10l.94 2.06.94-2.06 2.06-.94-2.06-.94-.94-2.06-.94 2.06-2.06.94z\"/><path d=\"M17.41 7.96l-1.37-1.37c-.4-.4-.92-.59-1.43-.59-.52 0-1.04.2-1.43.59L10.3 9.45l-7.72 7.72c-.78.78-.78 2.05 0 2.83L4 21.41c.39.39.9.59 1.41.59.51 0 1.02-.2 1.41-.59l7.78-7.78 2.81-2.81c.8-.78.8-2.07 0-2.86zM5.41 20L4 18.59l7.72-7.72 1.47 1.35L5.41 20z\"/>\n",
              "  </svg>\n",
              "      </button>\n",
              "      \n",
              "  <style>\n",
              "    .colab-df-container {\n",
              "      display:flex;\n",
              "      flex-wrap:wrap;\n",
              "      gap: 12px;\n",
              "    }\n",
              "\n",
              "    .colab-df-convert {\n",
              "      background-color: #E8F0FE;\n",
              "      border: none;\n",
              "      border-radius: 50%;\n",
              "      cursor: pointer;\n",
              "      display: none;\n",
              "      fill: #1967D2;\n",
              "      height: 32px;\n",
              "      padding: 0 0 0 0;\n",
              "      width: 32px;\n",
              "    }\n",
              "\n",
              "    .colab-df-convert:hover {\n",
              "      background-color: #E2EBFA;\n",
              "      box-shadow: 0px 1px 2px rgba(60, 64, 67, 0.3), 0px 1px 3px 1px rgba(60, 64, 67, 0.15);\n",
              "      fill: #174EA6;\n",
              "    }\n",
              "\n",
              "    [theme=dark] .colab-df-convert {\n",
              "      background-color: #3B4455;\n",
              "      fill: #D2E3FC;\n",
              "    }\n",
              "\n",
              "    [theme=dark] .colab-df-convert:hover {\n",
              "      background-color: #434B5C;\n",
              "      box-shadow: 0px 1px 3px 1px rgba(0, 0, 0, 0.15);\n",
              "      filter: drop-shadow(0px 1px 2px rgba(0, 0, 0, 0.3));\n",
              "      fill: #FFFFFF;\n",
              "    }\n",
              "  </style>\n",
              "\n",
              "      <script>\n",
              "        const buttonEl =\n",
              "          document.querySelector('#df-39e42145-ab3a-4005-91a1-3eb8cacb6093 button.colab-df-convert');\n",
              "        buttonEl.style.display =\n",
              "          google.colab.kernel.accessAllowed ? 'block' : 'none';\n",
              "\n",
              "        async function convertToInteractive(key) {\n",
              "          const element = document.querySelector('#df-39e42145-ab3a-4005-91a1-3eb8cacb6093');\n",
              "          const dataTable =\n",
              "            await google.colab.kernel.invokeFunction('convertToInteractive',\n",
              "                                                     [key], {});\n",
              "          if (!dataTable) return;\n",
              "\n",
              "          const docLinkHtml = 'Like what you see? Visit the ' +\n",
              "            '<a target=\"_blank\" href=https://colab.research.google.com/notebooks/data_table.ipynb>data table notebook</a>'\n",
              "            + ' to learn more about interactive tables.';\n",
              "          element.innerHTML = '';\n",
              "          dataTable['output_type'] = 'display_data';\n",
              "          await google.colab.output.renderOutput(dataTable, element);\n",
              "          const docLink = document.createElement('div');\n",
              "          docLink.innerHTML = docLinkHtml;\n",
              "          element.appendChild(docLink);\n",
              "        }\n",
              "      </script>\n",
              "    </div>\n",
              "  </div>\n",
              "  "
            ]
          },
          "metadata": {},
          "execution_count": 44
        }
      ]
    },
    {
      "cell_type": "code",
      "execution_count": null,
      "metadata": {
        "deletable": false,
        "editable": false,
        "nbgrader": {
          "cell_type": "code",
          "checksum": "356579363f311da83f4ef7abaf3c9212",
          "grade": true,
          "grade_id": "cell-cb5006475e42b8f9",
          "locked": true,
          "points": 1,
          "schema_version": 3,
          "solution": false,
          "task": false
        },
        "id": "YkXOthYZ8eEm"
      },
      "outputs": [],
      "source": [
        "# Visible Testing\n",
        "assert isinstance(df, pd.DataFrame), 'df is not a DataFrame. Did you import the data into df?'\n",
        "assert df.shape[0] == 10000, 'DataFrame df has the wrong number of rows.'"
      ]
    },
    {
      "cell_type": "markdown",
      "metadata": {
        "deletable": false,
        "editable": false,
        "nbgrader": {
          "cell_type": "markdown",
          "checksum": "aedd47e33e28a74846b51e236deef316",
          "grade": false,
          "grade_id": "cell-27dc6b438d2f2722",
          "locked": true,
          "schema_version": 3,
          "solution": false,
          "task": false
        },
        "id": "ttbq7lWK8eEo"
      },
      "source": [
        "## Part 1: Tokenize Function\n",
        "<a id=\"#p1\"></a>\n",
        "\n",
        "Complete the function `tokenize`. Your function should\n",
        "- Accept one document at a time\n",
        "- Return a list of tokens\n",
        "\n",
        "You are free to use any method you have learned this week."
      ]
    },
    {
      "cell_type": "code",
      "execution_count": null,
      "metadata": {
        "id": "cBmVfgW88eEp"
      },
      "outputs": [],
      "source": [
        "# Optional: Consider using spaCy in your function. The spaCy library can be imported by running this cell.\n",
        "# A pre-trained model (en_core_web_sm) has been made available to you in the CodeGrade container.\n",
        "# If you DON'T need use the en_core_web_sm model, you can comment it out below.\n",
        "\n",
        "nlp = spacy.load('en_core_web_sm')"
      ]
    },
    {
      "cell_type": "code",
      "source": [
        "def tokenize(doc):\n",
        "  docu = nlp(doc)\n",
        "  lemma_list = [token.lemma_.lower().strip() for token in docu if (not token.is_stop) \n",
        "                                                                and (not token.is_punct)\n",
        "                                                                and (not token.is_digit)\n",
        "                                                                and (not token.like_num)\n",
        "                                                                and (token.lemma_.strip()!=\"\") \n",
        "                                                                and (len(token.lemma_.strip())>1)]\n",
        "  return lemma_list"
      ],
      "metadata": {
        "id": "ATQ1svve6qSu"
      },
      "execution_count": null,
      "outputs": []
    },
    {
      "cell_type": "code",
      "execution_count": null,
      "metadata": {
        "deletable": false,
        "editable": false,
        "nbgrader": {
          "cell_type": "code",
          "checksum": "2181ca9d36070260b1f75dcfd9e58965",
          "grade": true,
          "grade_id": "cell-02da164f6fbe730a",
          "locked": true,
          "points": 1,
          "schema_version": 3,
          "solution": false,
          "task": false
        },
        "id": "bKOXIBUc8eEr"
      },
      "outputs": [],
      "source": [
        "'''Testing'''\n",
        "assert isinstance(tokenize(df.sample(n=1)[\"text\"].iloc[0]), list), \"Make sure your tokenizer function accepts a single document and returns a list of tokens!\""
      ]
    },
    {
      "cell_type": "code",
      "source": [
        "# df['tokens'] = df['text'].apply(tokenize)"
      ],
      "metadata": {
        "id": "ZwYVNrnF3sNl"
      },
      "execution_count": null,
      "outputs": []
    },
    {
      "cell_type": "code",
      "source": [
        "df\n"
      ],
      "metadata": {
        "colab": {
          "base_uri": "https://localhost:8080/",
          "height": 633
        },
        "id": "cFs0kXLZ36gF",
        "outputId": "cc8c34c9-5782-4ae4-a7f1-da248adffa28"
      },
      "execution_count": null,
      "outputs": [
        {
          "output_type": "execute_result",
          "data": {
            "text/plain": [
              "                 business_id  cool                date  funny  \\\n",
              "0     nDuEqIyRc8YKS1q1fX0CZg     1 2015-03-31 16:50:30      0   \n",
              "1     eMYeEapscbKNqUDCx705hg     0 2015-12-16 05:31:03      0   \n",
              "2     6Q7-wkCPc1KF75jZLOTcMw     1 2010-06-20 19:14:48      1   \n",
              "3     k3zrItO4l9hwfLRwHBDc9w     3 2010-07-13 00:33:45      4   \n",
              "4     6hpfRwGlOzbNv7k5eP9rsQ     1 2018-06-30 02:30:01      0   \n",
              "...                      ...   ...                 ...    ...   \n",
              "9995  1h3ysSuSazvXc1aeLiiOew     0 2017-10-07 10:57:15      1   \n",
              "9996  Rwahe1zbFpw6VIjb5ngZeg     0 2014-01-18 15:52:52      0   \n",
              "9997  8itGZAOBMiTbHKOwLuh4_Q     0 2018-08-26 02:53:21      0   \n",
              "9998  A5Rkh7UymKm0_Rxm9K2PJw     0 2018-04-23 23:36:07      0   \n",
              "9999  xtYiHTmunjfCN2sUaQxBjA     0 2016-06-02 23:37:51      0   \n",
              "\n",
              "                   review_id  stars  \\\n",
              "0     eZs2tpEJtXPwawvHnHZIgQ      1   \n",
              "1     DoQDWJsNbU0KL1O29l_Xug      4   \n",
              "2     DDOdGU7zh56yQHmUnL1idQ      3   \n",
              "3     LfTMUWnfGFMOfOIyJcwLVA      1   \n",
              "4     zJSUdI7bJ8PNJAg4lnl_Gg      4   \n",
              "...                      ...    ...   \n",
              "9995  kAYnguBAJ2Ovzz5s49fMcQ      1   \n",
              "9996  5Huai3nJAaeN8X0vCXqOew      3   \n",
              "9997  wmRCto8yNnmMCNc_nfL5Dg      2   \n",
              "9998  zlIU9GEI3MP5LXBpEM5qsw      4   \n",
              "9999  _656ilBKoc-ZjjA5dRRoyw      1   \n",
              "\n",
              "                                                   text  useful  \\\n",
              "0     BEWARE!!! FAKE, FAKE, FAKE....We also own a sm...      10   \n",
              "1     Came here for lunch Togo. Service was quick. S...       0   \n",
              "2     I've been to Vegas dozens of times and had nev...       2   \n",
              "3     We went here on a night where they closed off ...       5   \n",
              "4     3.5 to 4 stars\\n\\nNot bad for the price, $12.9...       5   \n",
              "...                                                 ...     ...   \n",
              "9995  My family and I were hungry and this Subway is...       1   \n",
              "9996  My wife and I came here with a a couple of fri...       0   \n",
              "9997  The food was just OK and not anything to brag ...       0   \n",
              "9998  Today's visit is great!! Love and enjoy Town S...       0   \n",
              "9999  This is the absolute worst place I have ever s...       0   \n",
              "\n",
              "                     user_id  \n",
              "0     n1LM36qNg4rqGXIcvVXv8w  \n",
              "1     5CgjjDAic2-FAvCtiHpytA  \n",
              "2     BdV-cf3LScmb8kZ7iiBcMA  \n",
              "3     cZZnBqh4gAEy4CdNvJailQ  \n",
              "4     n9QO4ClYAS7h9fpQwa5bhA  \n",
              "...                      ...  \n",
              "9995  QFYqAk8n5Z1O3t7zwjA7Hg  \n",
              "9996  X7jQ-4788irfe5ABZNvYcA  \n",
              "9997  _pi5J_1CIQWceLhTJkx_yA  \n",
              "9998  PP1K311ZKbpDgTjwic3u5Q  \n",
              "9999  Y1tHSar3k-_clZVCM7JBZQ  \n",
              "\n",
              "[10000 rows x 9 columns]"
            ],
            "text/html": [
              "\n",
              "  <div id=\"df-a901428c-2d9e-4bbe-b6d4-1c9b4bb66756\">\n",
              "    <div class=\"colab-df-container\">\n",
              "      <div>\n",
              "<style scoped>\n",
              "    .dataframe tbody tr th:only-of-type {\n",
              "        vertical-align: middle;\n",
              "    }\n",
              "\n",
              "    .dataframe tbody tr th {\n",
              "        vertical-align: top;\n",
              "    }\n",
              "\n",
              "    .dataframe thead th {\n",
              "        text-align: right;\n",
              "    }\n",
              "</style>\n",
              "<table border=\"1\" class=\"dataframe\">\n",
              "  <thead>\n",
              "    <tr style=\"text-align: right;\">\n",
              "      <th></th>\n",
              "      <th>business_id</th>\n",
              "      <th>cool</th>\n",
              "      <th>date</th>\n",
              "      <th>funny</th>\n",
              "      <th>review_id</th>\n",
              "      <th>stars</th>\n",
              "      <th>text</th>\n",
              "      <th>useful</th>\n",
              "      <th>user_id</th>\n",
              "    </tr>\n",
              "  </thead>\n",
              "  <tbody>\n",
              "    <tr>\n",
              "      <th>0</th>\n",
              "      <td>nDuEqIyRc8YKS1q1fX0CZg</td>\n",
              "      <td>1</td>\n",
              "      <td>2015-03-31 16:50:30</td>\n",
              "      <td>0</td>\n",
              "      <td>eZs2tpEJtXPwawvHnHZIgQ</td>\n",
              "      <td>1</td>\n",
              "      <td>BEWARE!!! FAKE, FAKE, FAKE....We also own a sm...</td>\n",
              "      <td>10</td>\n",
              "      <td>n1LM36qNg4rqGXIcvVXv8w</td>\n",
              "    </tr>\n",
              "    <tr>\n",
              "      <th>1</th>\n",
              "      <td>eMYeEapscbKNqUDCx705hg</td>\n",
              "      <td>0</td>\n",
              "      <td>2015-12-16 05:31:03</td>\n",
              "      <td>0</td>\n",
              "      <td>DoQDWJsNbU0KL1O29l_Xug</td>\n",
              "      <td>4</td>\n",
              "      <td>Came here for lunch Togo. Service was quick. S...</td>\n",
              "      <td>0</td>\n",
              "      <td>5CgjjDAic2-FAvCtiHpytA</td>\n",
              "    </tr>\n",
              "    <tr>\n",
              "      <th>2</th>\n",
              "      <td>6Q7-wkCPc1KF75jZLOTcMw</td>\n",
              "      <td>1</td>\n",
              "      <td>2010-06-20 19:14:48</td>\n",
              "      <td>1</td>\n",
              "      <td>DDOdGU7zh56yQHmUnL1idQ</td>\n",
              "      <td>3</td>\n",
              "      <td>I've been to Vegas dozens of times and had nev...</td>\n",
              "      <td>2</td>\n",
              "      <td>BdV-cf3LScmb8kZ7iiBcMA</td>\n",
              "    </tr>\n",
              "    <tr>\n",
              "      <th>3</th>\n",
              "      <td>k3zrItO4l9hwfLRwHBDc9w</td>\n",
              "      <td>3</td>\n",
              "      <td>2010-07-13 00:33:45</td>\n",
              "      <td>4</td>\n",
              "      <td>LfTMUWnfGFMOfOIyJcwLVA</td>\n",
              "      <td>1</td>\n",
              "      <td>We went here on a night where they closed off ...</td>\n",
              "      <td>5</td>\n",
              "      <td>cZZnBqh4gAEy4CdNvJailQ</td>\n",
              "    </tr>\n",
              "    <tr>\n",
              "      <th>4</th>\n",
              "      <td>6hpfRwGlOzbNv7k5eP9rsQ</td>\n",
              "      <td>1</td>\n",
              "      <td>2018-06-30 02:30:01</td>\n",
              "      <td>0</td>\n",
              "      <td>zJSUdI7bJ8PNJAg4lnl_Gg</td>\n",
              "      <td>4</td>\n",
              "      <td>3.5 to 4 stars\\n\\nNot bad for the price, $12.9...</td>\n",
              "      <td>5</td>\n",
              "      <td>n9QO4ClYAS7h9fpQwa5bhA</td>\n",
              "    </tr>\n",
              "    <tr>\n",
              "      <th>...</th>\n",
              "      <td>...</td>\n",
              "      <td>...</td>\n",
              "      <td>...</td>\n",
              "      <td>...</td>\n",
              "      <td>...</td>\n",
              "      <td>...</td>\n",
              "      <td>...</td>\n",
              "      <td>...</td>\n",
              "      <td>...</td>\n",
              "    </tr>\n",
              "    <tr>\n",
              "      <th>9995</th>\n",
              "      <td>1h3ysSuSazvXc1aeLiiOew</td>\n",
              "      <td>0</td>\n",
              "      <td>2017-10-07 10:57:15</td>\n",
              "      <td>1</td>\n",
              "      <td>kAYnguBAJ2Ovzz5s49fMcQ</td>\n",
              "      <td>1</td>\n",
              "      <td>My family and I were hungry and this Subway is...</td>\n",
              "      <td>1</td>\n",
              "      <td>QFYqAk8n5Z1O3t7zwjA7Hg</td>\n",
              "    </tr>\n",
              "    <tr>\n",
              "      <th>9996</th>\n",
              "      <td>Rwahe1zbFpw6VIjb5ngZeg</td>\n",
              "      <td>0</td>\n",
              "      <td>2014-01-18 15:52:52</td>\n",
              "      <td>0</td>\n",
              "      <td>5Huai3nJAaeN8X0vCXqOew</td>\n",
              "      <td>3</td>\n",
              "      <td>My wife and I came here with a a couple of fri...</td>\n",
              "      <td>0</td>\n",
              "      <td>X7jQ-4788irfe5ABZNvYcA</td>\n",
              "    </tr>\n",
              "    <tr>\n",
              "      <th>9997</th>\n",
              "      <td>8itGZAOBMiTbHKOwLuh4_Q</td>\n",
              "      <td>0</td>\n",
              "      <td>2018-08-26 02:53:21</td>\n",
              "      <td>0</td>\n",
              "      <td>wmRCto8yNnmMCNc_nfL5Dg</td>\n",
              "      <td>2</td>\n",
              "      <td>The food was just OK and not anything to brag ...</td>\n",
              "      <td>0</td>\n",
              "      <td>_pi5J_1CIQWceLhTJkx_yA</td>\n",
              "    </tr>\n",
              "    <tr>\n",
              "      <th>9998</th>\n",
              "      <td>A5Rkh7UymKm0_Rxm9K2PJw</td>\n",
              "      <td>0</td>\n",
              "      <td>2018-04-23 23:36:07</td>\n",
              "      <td>0</td>\n",
              "      <td>zlIU9GEI3MP5LXBpEM5qsw</td>\n",
              "      <td>4</td>\n",
              "      <td>Today's visit is great!! Love and enjoy Town S...</td>\n",
              "      <td>0</td>\n",
              "      <td>PP1K311ZKbpDgTjwic3u5Q</td>\n",
              "    </tr>\n",
              "    <tr>\n",
              "      <th>9999</th>\n",
              "      <td>xtYiHTmunjfCN2sUaQxBjA</td>\n",
              "      <td>0</td>\n",
              "      <td>2016-06-02 23:37:51</td>\n",
              "      <td>0</td>\n",
              "      <td>_656ilBKoc-ZjjA5dRRoyw</td>\n",
              "      <td>1</td>\n",
              "      <td>This is the absolute worst place I have ever s...</td>\n",
              "      <td>0</td>\n",
              "      <td>Y1tHSar3k-_clZVCM7JBZQ</td>\n",
              "    </tr>\n",
              "  </tbody>\n",
              "</table>\n",
              "<p>10000 rows × 9 columns</p>\n",
              "</div>\n",
              "      <button class=\"colab-df-convert\" onclick=\"convertToInteractive('df-a901428c-2d9e-4bbe-b6d4-1c9b4bb66756')\"\n",
              "              title=\"Convert this dataframe to an interactive table.\"\n",
              "              style=\"display:none;\">\n",
              "        \n",
              "  <svg xmlns=\"http://www.w3.org/2000/svg\" height=\"24px\"viewBox=\"0 0 24 24\"\n",
              "       width=\"24px\">\n",
              "    <path d=\"M0 0h24v24H0V0z\" fill=\"none\"/>\n",
              "    <path d=\"M18.56 5.44l.94 2.06.94-2.06 2.06-.94-2.06-.94-.94-2.06-.94 2.06-2.06.94zm-11 1L8.5 8.5l.94-2.06 2.06-.94-2.06-.94L8.5 2.5l-.94 2.06-2.06.94zm10 10l.94 2.06.94-2.06 2.06-.94-2.06-.94-.94-2.06-.94 2.06-2.06.94z\"/><path d=\"M17.41 7.96l-1.37-1.37c-.4-.4-.92-.59-1.43-.59-.52 0-1.04.2-1.43.59L10.3 9.45l-7.72 7.72c-.78.78-.78 2.05 0 2.83L4 21.41c.39.39.9.59 1.41.59.51 0 1.02-.2 1.41-.59l7.78-7.78 2.81-2.81c.8-.78.8-2.07 0-2.86zM5.41 20L4 18.59l7.72-7.72 1.47 1.35L5.41 20z\"/>\n",
              "  </svg>\n",
              "      </button>\n",
              "      \n",
              "  <style>\n",
              "    .colab-df-container {\n",
              "      display:flex;\n",
              "      flex-wrap:wrap;\n",
              "      gap: 12px;\n",
              "    }\n",
              "\n",
              "    .colab-df-convert {\n",
              "      background-color: #E8F0FE;\n",
              "      border: none;\n",
              "      border-radius: 50%;\n",
              "      cursor: pointer;\n",
              "      display: none;\n",
              "      fill: #1967D2;\n",
              "      height: 32px;\n",
              "      padding: 0 0 0 0;\n",
              "      width: 32px;\n",
              "    }\n",
              "\n",
              "    .colab-df-convert:hover {\n",
              "      background-color: #E2EBFA;\n",
              "      box-shadow: 0px 1px 2px rgba(60, 64, 67, 0.3), 0px 1px 3px 1px rgba(60, 64, 67, 0.15);\n",
              "      fill: #174EA6;\n",
              "    }\n",
              "\n",
              "    [theme=dark] .colab-df-convert {\n",
              "      background-color: #3B4455;\n",
              "      fill: #D2E3FC;\n",
              "    }\n",
              "\n",
              "    [theme=dark] .colab-df-convert:hover {\n",
              "      background-color: #434B5C;\n",
              "      box-shadow: 0px 1px 3px 1px rgba(0, 0, 0, 0.15);\n",
              "      filter: drop-shadow(0px 1px 2px rgba(0, 0, 0, 0.3));\n",
              "      fill: #FFFFFF;\n",
              "    }\n",
              "  </style>\n",
              "\n",
              "      <script>\n",
              "        const buttonEl =\n",
              "          document.querySelector('#df-a901428c-2d9e-4bbe-b6d4-1c9b4bb66756 button.colab-df-convert');\n",
              "        buttonEl.style.display =\n",
              "          google.colab.kernel.accessAllowed ? 'block' : 'none';\n",
              "\n",
              "        async function convertToInteractive(key) {\n",
              "          const element = document.querySelector('#df-a901428c-2d9e-4bbe-b6d4-1c9b4bb66756');\n",
              "          const dataTable =\n",
              "            await google.colab.kernel.invokeFunction('convertToInteractive',\n",
              "                                                     [key], {});\n",
              "          if (!dataTable) return;\n",
              "\n",
              "          const docLinkHtml = 'Like what you see? Visit the ' +\n",
              "            '<a target=\"_blank\" href=https://colab.research.google.com/notebooks/data_table.ipynb>data table notebook</a>'\n",
              "            + ' to learn more about interactive tables.';\n",
              "          element.innerHTML = '';\n",
              "          dataTable['output_type'] = 'display_data';\n",
              "          await google.colab.output.renderOutput(dataTable, element);\n",
              "          const docLink = document.createElement('div');\n",
              "          docLink.innerHTML = docLinkHtml;\n",
              "          element.appendChild(docLink);\n",
              "        }\n",
              "      </script>\n",
              "    </div>\n",
              "  </div>\n",
              "  "
            ]
          },
          "metadata": {},
          "execution_count": 50
        }
      ]
    },
    {
      "cell_type": "markdown",
      "metadata": {
        "deletable": false,
        "editable": false,
        "nbgrader": {
          "cell_type": "markdown",
          "checksum": "d4137c3ea2fa84821d1dbf1b28dde6dd",
          "grade": false,
          "grade_id": "cell-ef13337bc7694c52",
          "locked": true,
          "schema_version": 3,
          "solution": false,
          "task": false
        },
        "id": "Ul3rT1F88eEs"
      },
      "source": [
        "## Part 2: Vector Representation\n",
        "<a id=\"#p2\"></a>\n",
        "1. Create a vector representation of the reviews (i.e. create a doc-term matrix).\n",
        "    * Name that doc-term matrix `dtm`"
      ]
    },
    {
      "cell_type": "code",
      "execution_count": null,
      "metadata": {
        "deletable": false,
        "nbgrader": {
          "cell_type": "code",
          "checksum": "fefca7db0abb1474d316d6aa24e032f8",
          "grade": false,
          "grade_id": "cell-0e96491cb529202c",
          "locked": false,
          "schema_version": 3,
          "solution": true,
          "task": false
        },
        "id": "Na5jpgjB8eEt",
        "colab": {
          "base_uri": "https://localhost:8080/"
        },
        "outputId": "bd5ede76-6117-44da-d496-cb13ee0e7431"
      },
      "outputs": [
        {
          "output_type": "stream",
          "name": "stdout",
          "text": [
            "CPU times: user 2.12 s, sys: 18.7 ms, total: 2.14 s\n",
            "Wall time: 2.29 s\n"
          ]
        }
      ],
      "source": [
        "%%time\n",
        "# YOUR CODE HERE\n",
        "vect = CountVectorizer()\n",
        "vect.fit(df['text'])\n",
        "dtm = vect.transform(df['text'])\n",
        "# dtm = pd.DataFrame(dtm.todense(), columns=vect.get_feature_names_out())"
      ]
    },
    {
      "cell_type": "code",
      "source": [
        "doc_len = [len(doc.split()) for doc in df['text']]\n",
        "sns.distplot(doc_len);"
      ],
      "metadata": {
        "colab": {
          "base_uri": "https://localhost:8080/",
          "height": 322
        },
        "id": "C-1mGfjuZzeg",
        "outputId": "7b62d012-066c-4e2a-cef3-412949d6a495"
      },
      "execution_count": null,
      "outputs": [
        {
          "output_type": "stream",
          "name": "stderr",
          "text": [
            "/usr/local/lib/python3.7/dist-packages/seaborn/distributions.py:2619: FutureWarning: `distplot` is a deprecated function and will be removed in a future version. Please adapt your code to use either `displot` (a figure-level function with similar flexibility) or `histplot` (an axes-level function for histograms).\n",
            "  warnings.warn(msg, FutureWarning)\n"
          ]
        },
        {
          "output_type": "display_data",
          "data": {
            "text/plain": [
              "<Figure size 432x288 with 1 Axes>"
            ],
            "image/png": "[encoded data removed]"
          },
          "metadata": {}
        }
      ]
    },
    {
      "cell_type": "code",
      "source": [
        "# 1. Instantiate vectorizer object\n",
        "tfidf = TfidfVectorizer(stop_words='english', min_df=.02, max_df=.97, ngram_range=(1,3))\n",
        "\n",
        "# 2. Create a vocabulary and get word counts per document\n",
        "dtm = tfidf.fit_transform(df['text'])\n",
        "\n",
        "# 3. View term-document matrix as DataFrame\n",
        "# dtm = pd.DataFrame(dtm.todense(), columns=tfidf.get_feature_names_out())\n",
        "print(dtm.shape)\n",
        "dtm"
      ],
      "metadata": {
        "colab": {
          "base_uri": "https://localhost:8080/"
        },
        "id": "O1hmEKY2ONg1",
        "outputId": "67cb39df-38fc-478a-9b4a-3f5a8e42b478"
      },
      "execution_count": null,
      "outputs": [
        {
          "output_type": "stream",
          "name": "stdout",
          "text": [
            "(10000, 413)\n"
          ]
        },
        {
          "output_type": "execute_result",
          "data": {
            "text/plain": [
              "<10000x413 sparse matrix of type '<class 'numpy.float64'>'\n",
              "\twith 204457 stored elements in Compressed Sparse Row format>"
            ]
          },
          "metadata": {},
          "execution_count": 53
        }
      ]
    },
    {
      "cell_type": "markdown",
      "metadata": {
        "deletable": false,
        "editable": false,
        "nbgrader": {
          "cell_type": "markdown",
          "checksum": "86048b7ea6cb011227aefa5a8f7a9e65",
          "grade": false,
          "grade_id": "cell-33c058ea193687c3",
          "locked": true,
          "schema_version": 3,
          "solution": false,
          "task": false
        },
        "id": "0uBxII4J8eEu"
      },
      "source": [
        "\n",
        "2. Write a fake review. Assign the text of the review to an object called `fake_review`. \n",
        "3. Query the fake review for the 10 most similar reviews, print the text of the reviews. \n",
        "    - Given the size of the dataset, use `NearestNeighbors` model for this. Name the model `nn`."
      ]
    },
    {
      "cell_type": "code",
      "execution_count": null,
      "metadata": {
        "deletable": false,
        "nbgrader": {
          "cell_type": "code",
          "checksum": "f6aa466983420c836879d744ffa6c9a8",
          "grade": false,
          "grade_id": "cell-3d5bc610a8ec6b24",
          "locked": false,
          "schema_version": 3,
          "solution": true,
          "task": false
        },
        "id": "ORw96AH18eEv",
        "colab": {
          "base_uri": "https://localhost:8080/"
        },
        "outputId": "cfd5187b-dbeb-4d30-e7d0-a0441d505594"
      },
      "outputs": [
        {
          "output_type": "execute_result",
          "data": {
            "text/plain": [
              "NearestNeighbors(n_neighbors=10)"
            ]
          },
          "metadata": {},
          "execution_count": 54
        }
      ],
      "source": [
        "# Create and fit a NearestNeighbors model named \"nn\"\n",
        "# YOUR CODE HERE\n",
        "nn = NearestNeighbors(n_neighbors=10) #algorithm='kd_tree'\n",
        "nn.fit(dtm)"
      ]
    },
    {
      "cell_type": "code",
      "execution_count": null,
      "metadata": {
        "deletable": false,
        "editable": false,
        "nbgrader": {
          "cell_type": "code",
          "checksum": "d270ed23df3c7d3c6cf08ab174ccaf9e",
          "grade": true,
          "grade_id": "cell-c43704dcff67e99b",
          "locked": true,
          "points": 1,
          "schema_version": 3,
          "solution": false,
          "task": false
        },
        "id": "z54_W1Jg8eEw"
      },
      "outputs": [],
      "source": [
        "'''Testing.'''\n",
        "assert nn.__module__ == 'sklearn.neighbors._unsupervised', ' nn is not a NearestNeighbors instance.'\n",
        "assert nn.n_neighbors == 10, 'nn has the wrong value for n_neighbors'"
      ]
    },
    {
      "cell_type": "code",
      "execution_count": null,
      "metadata": {
        "deletable": false,
        "nbgrader": {
          "cell_type": "code",
          "checksum": "3da2ced9f187ed0aa1a890785e2ba00e",
          "grade": false,
          "grade_id": "cell-496203e8746296ca",
          "locked": false,
          "schema_version": 3,
          "solution": true,
          "task": false
        },
        "id": "kgcVuxBh8eEx"
      },
      "outputs": [],
      "source": [
        "# Create a fake review and find the 10 most similar reviews\n",
        "\n",
        "# YOUR CODE HERE\n",
        "fake_review = \"the food was very delicious. the service was good was well. i didn't have to wait long for my meal, and was greated with a drink. I had a very good time. the atmosphere was wonderful although the lights were too bright\""
      ]
    },
    {
      "cell_type": "code",
      "source": [
        "f_review = [fake_review]\n",
        "doc_tfidf = tfidf.transform(f_review)\n",
        "doc_tfidf"
      ],
      "metadata": {
        "colab": {
          "base_uri": "https://localhost:8080/"
        },
        "id": "Vorg1tVsZv96",
        "outputId": "523ddce8-f047-4b2d-b959-ae422d0e7b83"
      },
      "execution_count": null,
      "outputs": [
        {
          "output_type": "execute_result",
          "data": {
            "text/plain": [
              "<1x413 sparse matrix of type '<class 'numpy.float64'>'\n",
              "\twith 12 stored elements in Compressed Sparse Row format>"
            ]
          },
          "metadata": {},
          "execution_count": 57
        }
      ]
    },
    {
      "cell_type": "code",
      "source": [
        "neigh_dist, neigh_index = nn.kneighbors(doc_tfidf.todense(), n_neighbors=10)"
      ],
      "metadata": {
        "id": "HSbavr6kZ9Cx",
        "colab": {
          "base_uri": "https://localhost:8080/"
        },
        "outputId": "f41e846d-8c3a-4bce-9638-a8675e1cc2a7"
      },
      "execution_count": null,
      "outputs": [
        {
          "output_type": "stream",
          "name": "stderr",
          "text": [
            "/usr/local/lib/python3.7/dist-packages/sklearn/utils/validation.py:598: FutureWarning: np.matrix usage is deprecated in 1.0 and will raise a TypeError in 1.2. Please convert to a numpy array with np.asarray. For more information see: https://numpy.org/doc/stable/reference/generated/numpy.matrix.html\n",
            "  FutureWarning,\n"
          ]
        }
      ]
    },
    {
      "cell_type": "code",
      "source": [
        "print(neigh_index)\n",
        "print(neigh_dist)"
      ],
      "metadata": {
        "colab": {
          "base_uri": "https://localhost:8080/"
        },
        "id": "p_srWwWWHBpv",
        "outputId": "8533fdb2-0f9d-48ca-bf52-18428fcb73f1"
      },
      "execution_count": null,
      "outputs": [
        {
          "output_type": "stream",
          "name": "stdout",
          "text": [
            "[[6311  469 9889 6204 4839 3543 7674 2703 7768 6075]]\n",
            "[[1.         1.         1.         1.         1.         1.\n",
            "  1.         1.08711479 1.09248243 1.10384683]]\n"
          ]
        }
      ]
    },
    {
      "cell_type": "code",
      "source": [
        "df['text'][6311]"
      ],
      "metadata": {
        "colab": {
          "base_uri": "https://localhost:8080/",
          "height": 54
        },
        "id": "fHh17v9bawo8",
        "outputId": "42753293-7c9e-4291-8149-00b0bb7bfbf9"
      },
      "execution_count": null,
      "outputs": [
        {
          "output_type": "execute_result",
          "data": {
            "text/plain": [
              "'天氣很熱吃不下東西，今天我點了一個韓國冷面湯、餐後點了甜點，冰沙系列不會太甜膩，覺得店家很用心製作，包含擺盤精緻、佐料衛生，夏日想開胃，這是一個不錯的選擇，服務人員也很敬業，以後會常常來'"
            ],
            "application/vnd.google.colaboratory.intrinsic+json": {
              "type": "string"
            }
          },
          "metadata": {},
          "execution_count": 60
        }
      ]
    },
    {
      "cell_type": "code",
      "source": [
        "df['text'][469]"
      ],
      "metadata": {
        "colab": {
          "base_uri": "https://localhost:8080/",
          "height": 37
        },
        "id": "RXeshKSna32F",
        "outputId": "05836470-4f40-4ac6-d5ae-d59cb0808e8d"
      },
      "execution_count": null,
      "outputs": [
        {
          "output_type": "execute_result",
          "data": {
            "text/plain": [
              "'O  o  thenk 6nnn  .b  cgv  xx TV cvg  9 nvehxcfvvv3c nb b  c  y4  nb and the vghvhridd h 0d  c       v   3,  vv  4  ruddy'"
            ],
            "application/vnd.google.colaboratory.intrinsic+json": {
              "type": "string"
            }
          },
          "metadata": {},
          "execution_count": 61
        }
      ]
    },
    {
      "cell_type": "code",
      "source": [
        "df['text'][9889]"
      ],
      "metadata": {
        "colab": {
          "base_uri": "https://localhost:8080/",
          "height": 37
        },
        "id": "ps9x3wFHa9Ix",
        "outputId": "5adebf26-7ff4-42e6-98a9-f882bc2bb3cb"
      },
      "execution_count": null,
      "outputs": [
        {
          "output_type": "execute_result",
          "data": {
            "text/plain": [
              "'Bon massage.  Spa propre organisé manque juste le stationnement prix abordable en promotion personnels respectueux'"
            ],
            "application/vnd.google.colaboratory.intrinsic+json": {
              "type": "string"
            }
          },
          "metadata": {},
          "execution_count": 62
        }
      ]
    },
    {
      "cell_type": "code",
      "source": [
        "df['text'][6204]"
      ],
      "metadata": {
        "colab": {
          "base_uri": "https://localhost:8080/",
          "height": 71
        },
        "id": "3-7fFoo9a_WA",
        "outputId": "1f9197cf-36a3-440c-a2da-9741c8a028a3"
      },
      "execution_count": null,
      "outputs": [
        {
          "output_type": "execute_result",
          "data": {
            "text/plain": [
              "'旅行でラスベガスに来ましたがネイルがはげてるのが気になり、探したお店でした。\\n質問にも丁寧に答えてくれましたし、日本人の方も日本語が話せる方も居て、とても綺麗で居心地のいいお店でした。 \\nネイルはちはるさんと言う綺麗な方が丁寧にしてくれとても気に入りました。\\n予定になかったまつ毛エクステもお願いし、日本ではまだあまりないブラウンカラーのエクステをしてもらい、とても気に入りました。\\nまた是非マッサージなどで伺いたいと思います。'"
            ],
            "application/vnd.google.colaboratory.intrinsic+json": {
              "type": "string"
            }
          },
          "metadata": {},
          "execution_count": 63
        }
      ]
    },
    {
      "cell_type": "code",
      "source": [
        "df['text'][4839]"
      ],
      "metadata": {
        "colab": {
          "base_uri": "https://localhost:8080/",
          "height": 54
        },
        "id": "HPN_jbrgbDNY",
        "outputId": "f417b2ee-54bb-4237-f142-d7b3b767631d"
      },
      "execution_count": null,
      "outputs": [
        {
          "output_type": "execute_result",
          "data": {
            "text/plain": [
              "\"Une superbe sélection de bières de microbrasserie québécoise avec sélection de fromages et charcuteries. Le personnel est très sympathique. La sélection de bières evolue constamment. Bravo à l'équipe.\""
            ],
            "application/vnd.google.colaboratory.intrinsic+json": {
              "type": "string"
            }
          },
          "metadata": {},
          "execution_count": 64
        }
      ]
    },
    {
      "cell_type": "code",
      "source": [
        "df['text'][3543]"
      ],
      "metadata": {
        "colab": {
          "base_uri": "https://localhost:8080/",
          "height": 37
        },
        "id": "wtjW_q7Rajzb",
        "outputId": "2e43eb3f-a143-422a-946f-b30fc36dc789"
      },
      "execution_count": null,
      "outputs": [
        {
          "output_type": "execute_result",
          "data": {
            "text/plain": [
              "'$25 for 2 weeks'"
            ],
            "application/vnd.google.colaboratory.intrinsic+json": {
              "type": "string"
            }
          },
          "metadata": {},
          "execution_count": 65
        }
      ]
    },
    {
      "cell_type": "code",
      "source": [
        "df['text'][7674]"
      ],
      "metadata": {
        "colab": {
          "base_uri": "https://localhost:8080/",
          "height": 122
        },
        "id": "VugR5YcvamRk",
        "outputId": "9c9f5b3b-1f8b-4a94-f7bc-c841fe1a5d73"
      },
      "execution_count": null,
      "outputs": [
        {
          "output_type": "execute_result",
          "data": {
            "text/plain": [
              "'J\\'ai une relation amour/haine avec le marché Jean-Talon.\\n\\nDans l\\'optique d\\'y faire son \"épicerie\" pour la semaine, il y a effectivement trop de monde. Les périodes dites tranquilles sont lorsque le commun des mortels se retrouve assis au bureau (et encore là, même un mardi après-midi il peut y avoir trop de monde). À moins de savoir exactement où l\\'on va (ce qui n\\'est pas mon cas puisque je n\\'ai jamais eu la chance de l\\'explorer tranquillement), faire son marché peut être très désagréable.\\n\\nPar contre, si votre but c\\'est d\\'explorer tranquillement sans vous presser, en sirotant un smoothie de Mangue et Melon ou en dégustant un sorbet de Havre-aux-Glaces, c\\'est parfait. \\n\\nBref j\\'y trouve mon bonheur en y allant en \"sortie\" à l\\'occasion, mais comme visite régulière comme je le faisais à une époque, j\\'en vire folle.'"
            ],
            "application/vnd.google.colaboratory.intrinsic+json": {
              "type": "string"
            }
          },
          "metadata": {},
          "execution_count": 66
        }
      ]
    },
    {
      "cell_type": "code",
      "source": [
        "df['text'][2703]"
      ],
      "metadata": {
        "colab": {
          "base_uri": "https://localhost:8080/",
          "height": 54
        },
        "id": "784cmPMVaoTp",
        "outputId": "760d89ba-42ee-466f-b69c-9fd12d2e87bb"
      },
      "execution_count": null,
      "outputs": [
        {
          "output_type": "execute_result",
          "data": {
            "text/plain": [
              "'Wait was long, food wait was long.. decent tasting food. Authentic Mexican food.. just the wait made it a exausting dinner. Alittle more onions then necessary'"
            ],
            "application/vnd.google.colaboratory.intrinsic+json": {
              "type": "string"
            }
          },
          "metadata": {},
          "execution_count": 67
        }
      ]
    },
    {
      "cell_type": "code",
      "source": [
        "df['text'][7768]"
      ],
      "metadata": {
        "colab": {
          "base_uri": "https://localhost:8080/",
          "height": 37
        },
        "id": "Qfs7o8vbatIU",
        "outputId": "a466ef59-efd0-498a-d435-5a949f651e97"
      },
      "execution_count": null,
      "outputs": [
        {
          "output_type": "execute_result",
          "data": {
            "text/plain": [
              "'Delicious food and wonderful staff. Love the seafood here. Very beautiful dining atmosphere. Would be good for a date or a family dinner.'"
            ],
            "application/vnd.google.colaboratory.intrinsic+json": {
              "type": "string"
            }
          },
          "metadata": {},
          "execution_count": 68
        }
      ]
    },
    {
      "cell_type": "code",
      "source": [
        "df['text'][6075]"
      ],
      "metadata": {
        "colab": {
          "base_uri": "https://localhost:8080/",
          "height": 37
        },
        "id": "ghKdmlFkauuk",
        "outputId": "1d53dfd0-e573-4408-add6-323e019dabf3"
      },
      "execution_count": null,
      "outputs": [
        {
          "output_type": "execute_result",
          "data": {
            "text/plain": [
              "'Long hot barbecue, good taste, delicious and delicious Chinese food barbecue \\n\\nThe best barbecue in a\\u2006ri\\u2006zo'"
            ],
            "application/vnd.google.colaboratory.intrinsic+json": {
              "type": "string"
            }
          },
          "metadata": {},
          "execution_count": 69
        }
      ]
    },
    {
      "cell_type": "code",
      "execution_count": null,
      "metadata": {
        "deletable": false,
        "editable": false,
        "nbgrader": {
          "cell_type": "code",
          "checksum": "33e150190aa62764e07f1f6c66bb9393",
          "grade": true,
          "grade_id": "cell-203092260fb65165",
          "locked": true,
          "points": 1,
          "schema_version": 3,
          "solution": false,
          "task": false
        },
        "id": "fD-L90_D8eEy"
      },
      "outputs": [],
      "source": [
        "# Visible Testing\n",
        "assert isinstance(fake_review, str), \"Did you write a review in the correct data type?\""
      ]
    },
    {
      "cell_type": "markdown",
      "metadata": {
        "id": "oXsvgM1t8eEz"
      },
      "source": [
        "## Part 3: Classification\n",
        "<a id=\"#p3\"></a>\n",
        "Your goal in this section will be to predict `stars` from the review dataset. \n",
        "\n",
        "1. Create a pipeline object with a sklearn `CountVectorizer` or `TfidfVector` and any sklearn classifier.\n",
        "    - Use that pipeline to train a model to predict the `stars` feature (i.e. the labels). \n",
        "    - Use that pipeline to predict a star rating for your fake review from Part 2. \n",
        "\n",
        "\n",
        "\n",
        "2. Create a parameter dict including `one parameter for the vectorizer` and `one parameter for the model`. \n",
        "    - Include 2 possible values for each parameter\n",
        "    - **Use `n_jobs` = 1** \n",
        "    - Due to limited computational resources on CodeGrader `DO NOT INCLUDE ADDITIONAL PARAMETERS OR VALUES PLEASE.`\n",
        "    \n",
        "    \n",
        "3. Train the entire pipeline with a GridSearch\n",
        "    - Name your GridSearch object as `gs`"
      ]
    },
    {
      "cell_type": "code",
      "source": [
        "# from sklearn.model_selection import train_test_split"
      ],
      "metadata": {
        "id": "AWdjrXDYKwxP"
      },
      "execution_count": null,
      "outputs": []
    },
    {
      "cell_type": "code",
      "source": [
        "X = df.text\n",
        "y = df.stars"
      ],
      "metadata": {
        "id": "vzuC5BBEMeph"
      },
      "execution_count": null,
      "outputs": []
    },
    {
      "cell_type": "code",
      "source": [
        "#GridSearchCV"
      ],
      "metadata": {
        "id": "VTbB8DyeE8lu"
      },
      "execution_count": null,
      "outputs": []
    },
    {
      "cell_type": "code",
      "execution_count": null,
      "metadata": {
        "deletable": false,
        "jupyter": {
          "outputs_hidden": true
        },
        "nbgrader": {
          "cell_type": "code",
          "checksum": "b3492e82185541e6a463f46b16baff94",
          "grade": false,
          "grade_id": "cell-e2beb0252d274bba",
          "locked": false,
          "schema_version": 3,
          "solution": true,
          "task": false
        },
        "id": "524ZEUif8eE1"
      },
      "outputs": [],
      "source": [
        "from sklearn.ensemble import RandomForestClassifier\n",
        "\n",
        "# # YOUR CODE HERE\n",
        "vect = TfidfVectorizer(stop_words='english')\n",
        "rfc = RandomForestClassifier(random_state=42)"
      ]
    },
    {
      "cell_type": "code",
      "source": [
        "pipe = Pipeline([\n",
        "    ('vect', vect),      # TF-IDF Vectorizer\n",
        "    ('clf', rfc)         # Random Forest Classifier \n",
        "])\n",
        "pipe"
      ],
      "metadata": {
        "id": "zU4Q0W0BJDyC",
        "colab": {
          "base_uri": "https://localhost:8080/"
        },
        "outputId": "ca6c3cba-b55f-48de-aae2-d4794d17ed47"
      },
      "execution_count": null,
      "outputs": [
        {
          "output_type": "execute_result",
          "data": {
            "text/plain": [
              "Pipeline(steps=[('vect', TfidfVectorizer(stop_words='english')),\n",
              "                ('clf', RandomForestClassifier(random_state=42))])"
            ]
          },
          "metadata": {},
          "execution_count": 75
        }
      ]
    },
    {
      "cell_type": "code",
      "source": [
        "parameters = {\n",
        "    'vect__max_df': (0.75, 1),    \n",
        "    'clf__max_depth': (10,20)               \n",
        "}\n",
        "\n",
        "\n",
        "\n",
        "# Run grid search\n",
        "gs = GridSearchCV(pipe, parameters, n_jobs=1, verbose=1) #cv=5,\n",
        "gs.fit(X,y)   #df_train['text']"
      ],
      "metadata": {
        "id": "-AZG7z3GJESo",
        "colab": {
          "base_uri": "https://localhost:8080/"
        },
        "outputId": "ab2b4db3-365b-4182-d220-796eed2a7f50"
      },
      "execution_count": null,
      "outputs": [
        {
          "output_type": "stream",
          "name": "stdout",
          "text": [
            "Fitting 5 folds for each of 4 candidates, totalling 20 fits\n"
          ]
        },
        {
          "output_type": "execute_result",
          "data": {
            "text/plain": [
              "GridSearchCV(estimator=Pipeline(steps=[('vect',\n",
              "                                        TfidfVectorizer(stop_words='english')),\n",
              "                                       ('clf',\n",
              "                                        RandomForestClassifier(random_state=42))]),\n",
              "             n_jobs=1,\n",
              "             param_grid={'clf__max_depth': (10, 20), 'vect__max_df': (0.75, 1)},\n",
              "             verbose=1)"
            ]
          },
          "metadata": {},
          "execution_count": 76
        }
      ]
    },
    {
      "cell_type": "code",
      "source": [
        "# x_train.shape"
      ],
      "metadata": {
        "id": "Ix3AyjT3fNCl"
      },
      "execution_count": null,
      "outputs": []
    },
    {
      "cell_type": "code",
      "source": [
        "# y_train.shape"
      ],
      "metadata": {
        "id": "7kOUI7iIfOy5"
      },
      "execution_count": null,
      "outputs": []
    },
    {
      "cell_type": "code",
      "execution_count": null,
      "metadata": {
        "deletable": false,
        "editable": false,
        "nbgrader": {
          "cell_type": "code",
          "checksum": "ada8e7da1ec21f54451752e97b8cec3e",
          "grade": true,
          "grade_id": "cell-d07134c6fe5d056e",
          "locked": true,
          "points": 1,
          "schema_version": 3,
          "solution": false,
          "task": false
        },
        "id": "w2-tdeFp8eE2"
      },
      "outputs": [],
      "source": [
        "# Visible Testing\n",
        "prediction = gs.predict([\"This is your prediction statement.\"])[0]\n",
        "assert prediction in df.stars.values, 'You gs object should be able to accept raw text within a list. Did you include a vectorizer in your pipeline?'"
      ]
    },
    {
      "cell_type": "code",
      "source": [
        "prediction"
      ],
      "metadata": {
        "colab": {
          "base_uri": "https://localhost:8080/"
        },
        "id": "joilSVsUtMxc",
        "outputId": "71445a8d-e9aa-4f99-e2ed-ef0eb2aa01a2"
      },
      "execution_count": null,
      "outputs": [
        {
          "output_type": "execute_result",
          "data": {
            "text/plain": [
              "5"
            ]
          },
          "metadata": {},
          "execution_count": 80
        }
      ]
    },
    {
      "cell_type": "markdown",
      "metadata": {
        "deletable": false,
        "editable": false,
        "nbgrader": {
          "cell_type": "markdown",
          "checksum": "2990aa9aa4e9c3cf665cee4392cdab92",
          "grade": false,
          "grade_id": "cell-00b8cbd0b1b4ece5",
          "locked": true,
          "schema_version": 3,
          "solution": false,
          "task": false
        },
        "id": "oa9eXsWQ8eE3"
      },
      "source": [
        "## Part 4: Topic Modeling\n",
        "\n",
        "Let's find out what those yelp reviews are saying! :D\n",
        "\n",
        "1. Estimate a LDA topic model of the review text\n",
        "    - Set num_topics to `5`\n",
        "    - Name your LDA model `lda`\n",
        "2. Create 1-2 visualizations of the results\n",
        "    - You can use the most important 3 words of a topic in relevant visualizations. \n",
        "3. In markdown, write 1-2 paragraphs of analysis on the results of your topic model\n",
        "\n",
        "When you instantiate your LDA model, it should look like this: \n",
        "\n",
        "```python\n",
        "lda = LdaModel(corpus=corpus,\n",
        "               id2word=id2word,\n",
        "               random_state=723812,\n",
        "               num_topics = num_topics,\n",
        "               passes=1\n",
        "              )\n",
        "\n",
        "```\n",
        "\n",
        "__*Note*__: You can pass the DataFrame column of text reviews to gensim. You do not have to use a generator."
      ]
    },
    {
      "cell_type": "markdown",
      "metadata": {
        "deletable": false,
        "editable": false,
        "nbgrader": {
          "cell_type": "markdown",
          "checksum": "9b07079124654b07cce6d10dae1912b6",
          "grade": false,
          "grade_id": "cell-9eee6fe0eeebb9a3",
          "locked": true,
          "schema_version": 3,
          "solution": false,
          "task": false
        },
        "id": "oRxHB-FP8eE4"
      },
      "source": [
        "## Note about  pyLDAvis\n",
        "\n",
        "**pyLDAvis** is the Topic modeling package that we used in class to visualize the topics that LDA generates for us.\n",
        "\n",
        "You are welcomed to use pyLDAvis if you'd like for your visualization. However, **you MUST comment out the code that imports the package and the cell that generates the visualization before you submit your notebook to CodeGrade.** \n",
        "\n",
        "Although you should leave the print out of the visualization for graders to see (i.e. comment out the cell after you run it to create the viz). "
      ]
    },
    {
      "cell_type": "markdown",
      "metadata": {
        "deletable": false,
        "editable": false,
        "nbgrader": {
          "cell_type": "markdown",
          "checksum": "58830f560044227aa07c22d463e1596c",
          "grade": false,
          "grade_id": "cell-ec7b71ad284832d4",
          "locked": true,
          "schema_version": 3,
          "solution": false,
          "task": false
        },
        "id": "NDKWV5sx8eE5"
      },
      "source": [
        "### 1. Estimate a LDA topic model of the review text\n",
        "\n",
        "* Use the `tokenize` function you created earlier to create tokens.\n",
        "* Create an `id2word` object. \n",
        "> Hint: Use `corpora.Dictionary`\n",
        "* Create a `corpus` object.\n",
        "> Hint: Use `id2word.doc2bow`\n",
        "* Instantiate an `lda` model. \n",
        "\n",
        ">> Remember to read the LDA docs for more information on the various class attributes and methods available to you in the LDA model: https://radimrehurek.com/gensim/models/ldamodel.html"
      ]
    },
    {
      "cell_type": "code",
      "execution_count": null,
      "metadata": {
        "deletable": false,
        "editable": false,
        "nbgrader": {
          "cell_type": "code",
          "checksum": "bef17fce3f84cc31020898134cfdaec1",
          "grade": false,
          "grade_id": "cell-b4df1a20c7947a8b",
          "locked": true,
          "schema_version": 3,
          "solution": false,
          "task": false
        },
        "id": "T1nsMD0S8eE6"
      },
      "outputs": [],
      "source": [
        "# Do not change this value \n",
        "num_topics = 5"
      ]
    },
    {
      "cell_type": "code",
      "execution_count": null,
      "metadata": {
        "deletable": false,
        "nbgrader": {
          "cell_type": "code",
          "checksum": "fb50f495592df233d97bd4199b958404",
          "grade": false,
          "grade_id": "cell-66331a185ff52f15",
          "locked": false,
          "schema_version": 3,
          "solution": true,
          "task": false
        },
        "id": "I8QtsHkb8eE7"
      },
      "outputs": [],
      "source": [
        "# YOUR CODE HERE\n",
        "tokens = [tokenize(doc) for doc in df['text']]\n",
        "id2word = corpora.Dictionary(tokens)\n",
        "corpus = [id2word.doc2bow(doc_lemmas) for doc_lemmas in tokens]"
      ]
    },
    {
      "cell_type": "code",
      "source": [
        "num_topics = 5\n",
        "lda = LdaMulticore(corpus=corpus,\n",
        "                    id2word=id2word,\n",
        "                    num_topics=num_topics, \n",
        "                    passes=1,              # Runtime related parameter\n",
        "                    random_state=42)"
      ],
      "metadata": {
        "id": "CIZ6fD9TNSzw",
        "colab": {
          "base_uri": "https://localhost:8080/"
        },
        "outputId": "117d14b7-cabe-4d87-ba4d-aad9c8168e36"
      },
      "execution_count": null,
      "outputs": [
        {
          "output_type": "stream",
          "name": "stderr",
          "text": [
            "WARNING:gensim.models.ldamulticore:too few updates, training might not converge; consider increasing the number of passes or iterations to improve accuracy\n"
          ]
        }
      ]
    },
    {
      "cell_type": "markdown",
      "metadata": {
        "id": "O8vTpZCm8eE7"
      },
      "source": [
        "#### Testing"
      ]
    },
    {
      "cell_type": "code",
      "execution_count": null,
      "metadata": {
        "deletable": false,
        "editable": false,
        "nbgrader": {
          "cell_type": "code",
          "checksum": "073be746ce974f75f29c2c92f35af430",
          "grade": true,
          "grade_id": "cell-5a3c181311134fa9",
          "locked": true,
          "points": 1,
          "schema_version": 3,
          "solution": false,
          "task": false
        },
        "id": "ChaLXTlr8eE8"
      },
      "outputs": [],
      "source": [
        "# Visible Testing\n",
        "\n",
        "assert lda.get_topics().shape[0] == 5, 'Did your model complete its training? Did you set num_topics to 5?'"
      ]
    },
    {
      "cell_type": "markdown",
      "metadata": {
        "id": "oyWN_OXj8eE9"
      },
      "source": [
        "\n",
        "#### 2. Create 1-2 visualizations of the results. Assign one of the visualizations to a variable called `visual_plot`.\n"
      ]
    },
    {
      "cell_type": "code",
      "source": [
        "# !pip install pyLDAvis"
      ],
      "metadata": {
        "id": "LQ3S4NdcbR7B",
        "colab": {
          "base_uri": "https://localhost:8080/"
        },
        "outputId": "1333151d-f0fc-49e5-97aa-73e0847ebd43"
      },
      "execution_count": null,
      "outputs": [
        {
          "output_type": "stream",
          "name": "stdout",
          "text": [
            "Looking in indexes: https://pypi.org/simple, https://us-python.pkg.dev/colab-wheels/public/simple/\n",
            "Requirement already satisfied: pyLDAvis in /usr/local/lib/python3.7/dist-packages (3.3.1)\n",
            "Requirement already satisfied: scipy in /usr/local/lib/python3.7/dist-packages (from pyLDAvis) (1.7.3)\n",
            "Requirement already satisfied: joblib in /usr/local/lib/python3.7/dist-packages (from pyLDAvis) (1.1.0)\n",
            "Requirement already satisfied: funcy in /usr/local/lib/python3.7/dist-packages (from pyLDAvis) (1.17)\n",
            "Requirement already satisfied: pandas>=1.2.0 in /usr/local/lib/python3.7/dist-packages (from pyLDAvis) (1.3.5)\n",
            "Requirement already satisfied: numpy>=1.20.0 in /usr/local/lib/python3.7/dist-packages (from pyLDAvis) (1.21.6)\n",
            "Requirement already satisfied: sklearn in /usr/local/lib/python3.7/dist-packages (from pyLDAvis) (0.0)\n",
            "Requirement already satisfied: future in /usr/local/lib/python3.7/dist-packages (from pyLDAvis) (0.16.0)\n",
            "Requirement already satisfied: jinja2 in /usr/local/lib/python3.7/dist-packages (from pyLDAvis) (2.11.3)\n",
            "Requirement already satisfied: gensim in /usr/local/lib/python3.7/dist-packages (from pyLDAvis) (3.8.1)\n",
            "Requirement already satisfied: scikit-learn in /usr/local/lib/python3.7/dist-packages (from pyLDAvis) (1.0.2)\n",
            "Requirement already satisfied: setuptools in /usr/local/lib/python3.7/dist-packages (from pyLDAvis) (57.4.0)\n",
            "Requirement already satisfied: numexpr in /usr/local/lib/python3.7/dist-packages (from pyLDAvis) (2.8.3)\n",
            "Requirement already satisfied: pytz>=2017.3 in /usr/local/lib/python3.7/dist-packages (from pandas>=1.2.0->pyLDAvis) (2022.2.1)\n",
            "Requirement already satisfied: python-dateutil>=2.7.3 in /usr/local/lib/python3.7/dist-packages (from pandas>=1.2.0->pyLDAvis) (2.8.2)\n",
            "Requirement already satisfied: six>=1.5 in /usr/local/lib/python3.7/dist-packages (from python-dateutil>=2.7.3->pandas>=1.2.0->pyLDAvis) (1.15.0)\n",
            "Requirement already satisfied: smart-open>=1.8.1 in /usr/local/lib/python3.7/dist-packages (from gensim->pyLDAvis) (5.2.1)\n",
            "Requirement already satisfied: MarkupSafe>=0.23 in /usr/local/lib/python3.7/dist-packages (from jinja2->pyLDAvis) (2.0.1)\n",
            "Requirement already satisfied: packaging in /usr/local/lib/python3.7/dist-packages (from numexpr->pyLDAvis) (21.3)\n",
            "Requirement already satisfied: pyparsing!=3.0.5,>=2.0.2 in /usr/local/lib/python3.7/dist-packages (from packaging->numexpr->pyLDAvis) (3.0.9)\n",
            "Requirement already satisfied: threadpoolctl>=2.0.0 in /usr/local/lib/python3.7/dist-packages (from scikit-learn->pyLDAvis) (3.1.0)\n"
          ]
        }
      ]
    },
    {
      "cell_type": "code",
      "source": [
        "# import pyLDAvis\n",
        "# import pyLDAvis.gensim_models\n",
        "# import matplotlib.pyplot as plt\n",
        "# %matplotlib inline"
      ],
      "metadata": {
        "id": "71wgxBIw6WWr"
      },
      "execution_count": null,
      "outputs": []
    },
    {
      "cell_type": "code",
      "execution_count": null,
      "metadata": {
        "deletable": false,
        "nbgrader": {
          "cell_type": "code",
          "checksum": "2cb1397c6a59aa5751d77bad34994f29",
          "grade": false,
          "grade_id": "cell-9b043e992fbd218c",
          "locked": false,
          "schema_version": 3,
          "solution": true,
          "task": false
        },
        "id": "XeU6yuqq8eE9",
        "colab": {
          "base_uri": "https://localhost:8080/",
          "height": 915
        },
        "outputId": "92a0d8a4-039d-4ef0-9e33-b522b3a0ef79"
      },
      "outputs": [
        {
          "output_type": "stream",
          "name": "stderr",
          "text": [
            "/usr/local/lib/python3.7/dist-packages/pyLDAvis/_prepare.py:247: FutureWarning: In a future version of pandas all arguments of DataFrame.drop except for the argument 'labels' will be keyword-only\n",
            "  by='saliency', ascending=False).head(R).drop('saliency', 1)\n"
          ]
        },
        {
          "output_type": "execute_result",
          "data": {
            "text/plain": [
              "PreparedData(topic_coordinates=              x         y  topics  cluster       Freq\n",
              "topic                                                \n",
              "1     -0.000209  0.005174       1        1  27.056047\n",
              "0     -0.029205  0.010310       2        1  25.308411\n",
              "4     -0.008291 -0.035680       3        1  18.350581\n",
              "2      0.037920  0.000282       4        1  15.651444\n",
              "3     -0.000216  0.019914       5        1  13.633518, topic_info=        Term         Freq        Total Category  logprob  loglift\n",
              "38      good  6297.000000  6297.000000  Default  30.0000  30.0000\n",
              "1063  coffee   622.000000   622.000000  Default  29.0000  29.0000\n",
              "16      like  3672.000000  3672.000000  Default  28.0000  28.0000\n",
              "85      nice  1698.000000  1698.000000  Default  27.0000  27.0000\n",
              "355    order  3501.000000  3501.000000  Default  26.0000  26.0000\n",
              "...      ...          ...          ...      ...      ...      ...\n",
              "70       get   257.868188  2615.611229   Topic5  -5.5333  -0.3242\n",
              "936      new   189.551616  1126.857595   Topic5  -5.8411   0.2101\n",
              "403      day   203.039222  1571.435704   Topic5  -5.7724  -0.0537\n",
              "44     staff   198.099876  1620.936118   Topic5  -5.7970  -0.1093\n",
              "35      come   206.457588  3981.771484   Topic5  -5.7557  -0.9667\n",
              "\n",
              "[462 rows x 6 columns], token_table=       Topic      Freq  Term\n",
              "term                        \n",
              "2750       1  0.051697  6:30\n",
              "2750       2  0.878856  6:30\n",
              "2750       3  0.051697  6:30\n",
              "1444       1  0.262420  able\n",
              "1444       2  0.451946  able\n",
              "...      ...       ...   ...\n",
              "304        3  0.172167  work\n",
              "304        4  0.284896  work\n",
              "304        5  0.169435  work\n",
              "11250      1  0.985301   yuk\n",
              "12974      1  0.960163  zach\n",
              "\n",
              "[1061 rows x 3 columns], R=30, lambda_step=0.01, plot_opts={'xlab': 'PC1', 'ylab': 'PC2'}, topic_order=[2, 1, 5, 3, 4])"
            ],
            "text/html": [
              "\n",
              "<link rel=\"stylesheet\" type=\"text/css\" href=\"https://cdn.jsdelivr.net/gh/bmabey/pyLDAvis@3.3.1/pyLDAvis/js/ldavis.v1.0.0.css\">\n",
              "\n",
              "\n",
              "<div id=\"ldavis_el3761406164532584484323897822\"></div>\n",
              "<script type=\"text/javascript\">\n",
              "\n",
              "var ldavis_el3761406164532584484323897822_data = {\"mdsDat\": {\"x\": [-0.0002087639062926986, -0.029205217760704644, -0.008290536313289121, 0.03792041161817549, -0.00021589363788903404], \"y\": [0.005174332961385203, 0.010310384559888376, -0.03568032066325222, 0.00028184031621954133, 0.019913762825759112], \"topics\": [1, 2, 3, 4, 5], \"cluster\": [1, 1, 1, 1, 1], \"Freq\": [27.056046770204045, 25.308410584478487, 18.350581047996222, 15.651443586941982, 13.633518010379268]}, \"tinfo\": {\"Term\": [\"good\", \"coffee\", \"like\", \"nice\", \"order\", \"service\", \"ice\", \"work\", \"shop\", \"cream\", \"store\", \"great\", \"cheese\", \"go\", \"look\", \"dog\", \"people\", \"customer\", \"come\", \"chicken\", \"little\", \"food\", \"want\", \"taco\", \"room\", \"sushi\", \"burger\", \"price\", \"wait\", \"amazing\", \"yuk\", \"musician\", \"festival\", \"zach\", \"sporting\", \"moe\", \"antonio\", \"renewal\", \"cobbler\", \"dean\", \"shed\", \"safely\", \"ob\", \"irritation\", \"bi\\u00e8re\", \"shank\", \"courtney\", \"prefect\", \"gladstone\", \"acai\", \"scar\", \"donair\", \"nielsen\", \"singing\", \"blowout\", \"botanical\", \"mont\", \"motel\", \"playful\", \"heap\", \"trustworthy\", \"pakora\", \"hallway\", \"clown\", \"room\", \"lash\", \"eclectic\", \"convenient\", \"food\", \"le\", \"night\", \"place\", \"stay\", \"cheap\", \"price\", \"look\", \"great\", \"hotel\", \"la\", \"visit\", \"amazing\", \"get\", \"de\", \"play\", \"find\", \"feel\", \"indian\", \"time\", \"eat\", \"floor\", \"good\", \"table\", \"huge\", \"bar\", \"come\", \"car\", \"think\", \"friendly\", \"go\", \"staff\", \"like\", \"give\", \"service\", \"nice\", \"menu\", \"need\", \"take\", \"try\", \"order\", \"love\", \"restaurant\", \"know\", \"wait\", \"picasso\", \"victor\", \"erica\", \"outgoing\", \"und\", \"justin\", \"sedona\", \"margaritas\", \"springs\", \"samantha\", \"vanessa\", \"l.a.\", \"bao\", \"amd\", \"turtle\", \"ninja\", \"instruct\", \"lawyer\", \"bennett\", \"knife\", \"flagstaff\", \"eyeglass\", \"machaca\", \"downright\", \"argumentative\", \"gosh\", \"chimi\", \"falls\", \"towing\", \"strain\", \"halal\", \"termite\", \"6:30\", \"biryani\", \"caliber\", \"andy\", \"ming\", \"estimate\", \"tie\", \"gras\", \"sushi\", \"pest\", \"plumbing\", \"plumber\", \"repair\", \"appetizer\", \"order\", \"dish\", \"come\", \"ayce\", \"steak\", \"recommend\", \"tell\", \"highly\", \"korean\", \"different\", \"friend\", \"tire\", \"beef\", \"restaurant\", \"rude\", \"show\", \"call\", \"experience\", \"great\", \"day\", \"able\", \"say\", \"wine\", \"know\", \"get\", \"go\", \"bad\", \"try\", \"place\", \"love\", \"time\", \"service\", \"food\", \"way\", \"good\", \"wait\", \"drink\", \"ask\", \"eat\", \"staff\", \"like\", \"definitely\", \"want\", \"dolphin\", \"jambalaya\", \"grubhub\", \"chief\", \"pierogie\", \"tiki\", \"breezy\", \"burro\", \"acetone\", \"ike\", \"favour\", \"anal\", \"gland\", \"smattering\", \"teller\", \"tamale\", \"cha\", \"russo\", \"applesauce\", \"traditionally\", \"sns\", \"sonic\", \"miguel\", \"crinkle\", \"bachi\", \"disposal\", \"mastro\", \"alliance\", \"eclair\", \"torta\", \"upcharge\", \"pregnancy\", \"popeyes\", \"coca\", \"dog\", \"biscuit\", \"pet\", \"coast\", \"croissant\", \"polish\", \"jalape\\u00f1o\", \"mexican\", \"cajun\", \"good\", \"fry\", \"burger\", \"pie\", \"chicken\", \"minute\", \"wait\", \"well\", \"cheese\", \"nail\", \"pizza\", \"margarita\", \"super\", \"time\", \"potato\", \"come\", \"cream\", \"favorite\", \"like\", \"pretty\", \"love\", \"take\", \"try\", \"service\", \"leave\", \"ask\", \"food\", \"menu\", \"taste\", \"place\", \"get\", \"eat\", \"want\", \"find\", \"say\", \"order\", \"go\", \"drink\", \"great\", \"friendly\", \"pearson\", \"sate\", \"thrifty\", \"visibly\", \"snooze\", \"hoa\", \"jane\", \"schwartz\", \"uppity\", \"ram\", \"linda\", \"serenity\", \"grinder\", \"poo\", \"exhibition\", \"shield\", \"ian\", \"darling\", \"rye\", \"binge\", \"handedly\", \"fascinating\", \"foggy\", \"nitro\", \"gay\", \"shanghai\", \"vital\", \"cal\", \"dane\", \"thurs\", \"bowling\", \"moving\", \"dismissive\", \"coffee\", \"alley\", \"stylist\", \"depot\", \"bumper\", \"shop\", \"mince\", \"barber\", \"haircut\", \"bagel\", \"store\", \"pho\", \"local\", \"lane\", \"tea\", \"starbucks\", \"hair\", \"work\", \"broth\", \"cheese\", \"like\", \"great\", \"good\", \"man\", \"fun\", \"people\", \"patio\", \"usually\", \"cut\", \"place\", \"stop\", \"guy\", \"selection\", \"bar\", \"business\", \"time\", \"want\", \"say\", \"close\", \"thing\", \"price\", \"service\", \"go\", \"pretty\", \"look\", \"nice\", \"way\", \"try\", \"area\", \"little\", \"love\", \"food\", \"order\", \"day\", \"think\", \"drink\", \"get\", \"come\", \"staff\", \"lense\", \"rotisserie\", \"bi\", \"soleil\", \"britney\", \"jeni\", \"lactose\", \"asado\", \"fender\", \"listener\", \"maternity\", \"defective\", \"atomic\", \"gristle\", \"bicycle\", \"solutions\", \"pertain\", \"vain\", \"reiterate\", \"bakersfield\", \"juicing\", \"uniquely\", \"bracelet\", \"awsome\", \"lola\", \"tj\", \"neuter\", \"mahi\", \"skincare\", \"saliva\", \"embassy\", \"canal\", \"contractor\", \"root\", \"ice\", \"michelle\", \"dennis\", \"bike\", \"taco\", \"cream\", \"dr.\", \"office\", \"dental\", \"nice\", \"cirque\", \"patient\", \"dentist\", \"service\", \"doctor\", \"procedure\", \"go\", \"customer\", \"brunch\", \"order\", \"little\", \"unique\", \"like\", \"sell\", \"want\", \"amazing\", \"absolutely\", \"people\", \"try\", \"excellent\", \"look\", \"sweet\", \"food\", \"time\", \"place\", \"work\", \"good\", \"area\", \"think\", \"definitely\", \"know\", \"tell\", \"great\", \"price\", \"love\", \"friendly\", \"get\", \"new\", \"day\", \"staff\", \"come\"], \"Freq\": [6297.0, 622.0, 3672.0, 1698.0, 3501.0, 3701.0, 451.0, 1463.0, 534.0, 549.0, 787.0, 4269.0, 859.0, 3026.0, 1916.0, 391.0, 1435.0, 1112.0, 3981.0, 1406.0, 1387.0, 4904.0, 1748.0, 472.0, 1128.0, 572.0, 708.0, 1735.0, 1698.0, 1348.0, 56.857080542857794, 10.095343135582185, 13.179352569490241, 8.573816517004671, 9.863608435910718, 7.478657668903014, 7.464887856254706, 7.43088391714642, 9.664147735483768, 6.8873978520272665, 6.390230184954101, 8.249883040319178, 8.51343299667395, 7.38394240163793, 7.417241271327194, 5.626878795199396, 5.311375537305532, 5.249088282444628, 4.928803080789023, 10.836851973983151, 6.9882025264523575, 5.0781911357825305, 4.862052741215595, 10.615315112027554, 4.82834787964978, 4.804972732511474, 8.478571387951744, 22.84007622035391, 5.119955077394358, 4.5010944067487335, 10.601342774429227, 14.57412494469783, 21.899141534656927, 8.988139233825178, 645.1162161689003, 30.949747940856746, 15.152738726903753, 64.23278300495946, 2147.9770125166087, 52.908217040174755, 514.0349848528645, 2040.3622397740187, 320.5412836221753, 194.40476584119958, 751.2502319783168, 808.8906940994746, 1513.9530897442337, 242.533842441732, 105.87006645502075, 399.7870697323606, 531.1471863823621, 915.3554416300616, 81.77821837172678, 125.32656116132718, 588.8750639238073, 449.44867429515085, 58.04186845604951, 1301.3807318898066, 558.597497234042, 132.21436123732494, 1718.218932930457, 418.7090417510451, 216.3175057487797, 400.81411049099376, 1102.0353519953258, 277.27408691016853, 481.79765486999815, 482.03801713254046, 851.3844753446754, 525.1566377733068, 962.4742220464332, 372.77510199855, 950.5980233326677, 527.6524987387573, 420.5070865166142, 441.34442082354343, 448.69225962042844, 594.1137796318931, 696.1227521876867, 537.8643681367452, 466.7666034948078, 430.65122403550345, 430.70427615264344, 17.654428557876116, 13.447397793824221, 10.840155976914835, 14.237666789616911, 9.679067300078556, 10.63367344197586, 9.144677057118136, 9.168835032608333, 8.172670335289387, 7.369575152451322, 7.743464254205423, 7.629200034794353, 11.794070430780634, 6.475719485739018, 10.801904307075668, 5.935778556467166, 14.369247881490644, 13.629711779697994, 6.564993060628331, 21.33519751475185, 5.633470795227076, 5.596313930966439, 5.283575337984987, 6.1863916689474845, 8.477978789002464, 5.517757555474845, 7.874033807403782, 5.798283311641242, 5.06940449232129, 5.679450867262855, 16.698557992634594, 9.588830648732635, 16.58042296364084, 12.714810293071645, 9.97731965473902, 11.6373770982726, 11.139095613950552, 42.23250099429152, 22.304641025773403, 36.132876962957425, 347.3734058378556, 18.22562893995017, 33.007761708374986, 28.916662264059774, 128.57262782311903, 194.14819183300608, 1444.064999990834, 440.76195530384365, 1561.3179954558605, 53.1966885305273, 246.9621416200666, 620.9314157443724, 619.796180339552, 263.54314260580765, 57.82770995979247, 314.50196570748113, 435.497865742894, 85.67384357353076, 226.74328100707822, 604.2989848898123, 170.2214181338444, 165.79751894080593, 336.30315477075555, 525.2180613913234, 1194.1868919542874, 529.5870061905415, 185.77487910070488, 512.3331310877512, 197.50093148574783, 532.4719849832101, 734.0564311354702, 818.6192034475895, 418.16216526767346, 710.6107269027867, 1190.516761776128, 636.995354814322, 1018.705923847695, 904.4931554525944, 1072.263477919531, 390.84546112795624, 1238.3762021802536, 492.8215862501248, 441.1782440007978, 444.9874096412086, 446.14305909483664, 435.95768937266433, 596.9718639626986, 406.3858813523119, 408.05143088692876, 21.974213570575497, 13.336087740539842, 10.002988041978282, 9.957087046747256, 8.876131227118464, 9.049560258497726, 9.664106510995934, 11.189569497887398, 9.244405495056737, 5.502331730377527, 7.2057694453713195, 6.51023248560821, 6.476508079814279, 5.076739836485409, 7.636361605658812, 34.57212744109072, 16.395820163181625, 4.894330578382404, 4.209865568613778, 4.167509450159693, 4.179544206192358, 7.667096648843153, 3.883628293969621, 7.42384980468852, 4.071774777170748, 7.84343645945928, 6.835919037754084, 4.402403456793964, 6.500660008587589, 13.747382891154317, 6.62780343343192, 11.926103978201347, 5.164901755678358, 9.34147640482661, 234.9543382200687, 38.67997294467599, 62.11314624658462, 27.589229385215983, 35.859024086173754, 55.72323193239944, 27.671078759577977, 113.81670194181766, 23.029581877378032, 1696.9047866079184, 315.99875306744656, 277.0141015255998, 75.80871777843412, 469.1949196379079, 360.95383960209483, 508.1803276245783, 378.62259157002603, 285.27051277540437, 154.97807457478999, 276.0444414839825, 61.91102725637949, 225.35223207348506, 883.352385909399, 136.9708544371948, 815.0693792367134, 187.72104432120057, 205.23378465537218, 749.2911453751516, 303.9331310193089, 506.72018467042983, 366.3760769867679, 503.27333138706916, 634.9543467281804, 264.4370001099617, 332.544020916653, 689.0395382839234, 290.2274343712729, 272.5443712850569, 659.984942386385, 436.78125894545906, 320.3246156803173, 326.94299677569273, 308.2365456209272, 301.39998130507183, 409.03110103512995, 384.59220878463987, 294.0714825204022, 338.5299119172021, 282.3548268694133, 8.18171419696771, 7.522385673890696, 8.002785888054666, 8.082136660666098, 10.650292647590412, 6.995396715007873, 6.449278454706807, 8.894881581709019, 6.62404468972062, 9.64437747426834, 5.099865219102606, 5.103073143826981, 4.810298109410272, 4.908958005957196, 5.051928895337822, 5.196675123388742, 7.927726334604852, 4.333203087605009, 11.540283327959516, 4.927320609551894, 4.863321230746321, 6.665147757829948, 3.939038941254586, 4.146528515073932, 7.396613445993122, 3.825083232407134, 4.708528373148382, 6.516000237440184, 4.479066122471387, 3.76926196371935, 26.219507103343762, 5.747857839675597, 8.949104609660164, 355.9173856440749, 10.74464388764071, 48.74481452100158, 19.91016925614358, 10.760757075019642, 271.31553396895134, 8.832239045533596, 36.39687742890416, 49.766877756372594, 42.756903429299754, 304.8009540635846, 58.39067307891199, 150.49197815272652, 21.575617841228983, 146.45300311996925, 43.505871842475145, 153.71225286961962, 416.5397804030566, 65.29769302077598, 261.17120739322723, 764.3019685875406, 823.9802014052905, 1035.4143052916677, 94.63568657758249, 144.33215237520108, 323.00703142060274, 82.49006834455844, 133.37720768838804, 135.0742440058367, 770.1648888619198, 174.9599594463949, 173.33373614640539, 143.4266402870098, 233.1449983929155, 143.76961522924177, 553.0551068044572, 310.025144756696, 275.2891189954363, 154.93661534706212, 231.04896097586078, 290.62087836207934, 452.45040248765184, 402.1694285019665, 216.32365468338958, 291.0526616514966, 271.66035726869393, 216.71883700662934, 320.2353670214076, 179.48583718452318, 235.23521174007826, 291.45187199912266, 405.18120500419343, 348.84762741393416, 244.36637683995193, 231.52376217073768, 228.52026840263852, 271.54990918876626, 296.8911696568674, 232.63356135719113, 9.886152782886013, 7.832602602375506, 7.960360018866384, 5.250073445264118, 6.4200903473986495, 4.681023101393163, 5.277012363045779, 8.55763513752063, 4.321144051059824, 4.189054877095018, 4.264707317343754, 5.616742997725666, 4.704162356827815, 6.97183407180248, 4.448766189128603, 4.067885282429768, 3.7851756893171906, 4.2045658535067085, 4.627014259357912, 9.882295686542253, 3.6026117627618124, 5.071471752492832, 4.17296813673243, 6.760661132278937, 5.208684418696693, 6.499877086091167, 3.8916158371215728, 7.212443121313509, 4.376180059780763, 2.747294715268787, 6.789037323962753, 23.828808948961452, 16.969334761248266, 37.5551924163308, 217.5754574412417, 8.165809019821207, 6.394758632203743, 37.20493806973392, 177.23273969356285, 199.66119957900804, 80.98463908808252, 122.43025665408986, 28.991848054736487, 453.8841264776888, 17.15192360751298, 70.0352776505728, 33.003746582201586, 758.649745163824, 57.61647927272834, 29.150223487428974, 569.349965165474, 262.2861056382589, 67.15944636256796, 603.2123661375748, 303.46931534235216, 62.4726461605595, 599.9327235383338, 76.56747298903385, 330.2847073114988, 270.2221663298885, 116.53240604456593, 276.15559753773, 400.290647106938, 159.63711994936773, 324.38508716528156, 149.66660849178342, 589.7331444166185, 529.4645169641557, 592.9735989929527, 247.69863751600386, 608.2271571805306, 167.83725931008962, 235.63996643626382, 227.1668627500929, 247.2270749736917, 233.92843713038627, 398.94312592856517, 242.12745249355189, 274.5671763425733, 207.41559796289903, 257.86818767598004, 189.55161620757298, 203.03922234273264, 198.0998758384505, 206.45758750523262], \"Total\": [6297.0, 622.0, 3672.0, 1698.0, 3501.0, 3701.0, 451.0, 1463.0, 534.0, 549.0, 787.0, 4269.0, 859.0, 3026.0, 1916.0, 391.0, 1435.0, 1112.0, 3981.0, 1406.0, 1387.0, 4904.0, 1748.0, 472.0, 1128.0, 572.0, 708.0, 1735.0, 1698.0, 1348.0, 57.85034498749853, 10.975951008740296, 14.346247115476904, 9.373412570391586, 10.823146991829583, 8.284068951529942, 8.273498831733615, 8.250617305216414, 10.80337429801464, 7.7462813834129625, 7.246282887976205, 9.363841811081903, 9.712142635364899, 8.447699907326244, 8.492300725355603, 6.4563184770599, 6.108889962024193, 6.067529237708056, 5.719074327378644, 12.61154916686013, 8.132991630388677, 5.913748264216268, 5.673006769065376, 12.387838327755283, 5.650499182990478, 5.6325610285947665, 10.013714746710354, 26.98289236688815, 6.061497841640582, 5.334030112610645, 12.979208240739048, 18.099079461174505, 28.014828332495643, 10.955353695769531, 1128.3492611435183, 42.14044857194777, 19.639230743164003, 96.22632081288518, 4904.1943781408745, 80.07810700582112, 1046.4274099305442, 5254.002431791405, 641.557994817563, 361.3147642555235, 1735.6709931188886, 1916.7323165929442, 4269.593220949579, 496.8246188308318, 187.9587560172527, 901.2386692113441, 1348.0315317783734, 2615.6112285757376, 143.88539007059077, 241.29158854657442, 1566.8095316416238, 1143.9124203636447, 96.39109225514586, 4285.958665415513, 1551.7822929930207, 264.03290594618136, 6297.141384190827, 1110.3907784128521, 488.52751796956824, 1072.104563463905, 3981.7714838499996, 687.2503944075667, 1406.202754218225, 1412.6035580832465, 3026.115281244345, 1620.9361182879047, 3672.971923510158, 1029.88019185953, 3701.1456731649187, 1698.2498578989107, 1273.649322827615, 1386.7826457769993, 1442.2108361527476, 2528.523852050095, 3501.27884676516, 2247.598955963193, 1695.02881314209, 1666.250744592356, 1698.7442896436492, 18.694491925193127, 14.280856483527273, 11.609457201048519, 15.322081135406128, 10.4606226151441, 11.548396436695826, 9.9765979099066, 10.009600912895543, 8.949688916287968, 8.174718183613757, 8.590381275125864, 8.485083401596128, 13.2725549847228, 7.288681916558777, 12.182593081339602, 6.709061226057594, 16.252971988685935, 15.418884623844951, 7.432936233326888, 24.169598281320933, 6.437238656419463, 6.406557404275597, 6.050893337160613, 7.095074183935513, 9.747372186641291, 6.350041477824583, 9.073241482607584, 6.689621372957872, 5.853368929944143, 6.561108215043239, 19.301054089191613, 11.085417555530244, 19.343325261609518, 14.884549244428207, 11.760294627015984, 13.84421240325065, 13.237259759773547, 55.20866375042282, 27.87846892280407, 47.39104903250802, 572.921047193139, 22.76308818953088, 44.473767842996544, 38.74340772171387, 213.00728605925153, 346.0457925760488, 3501.27884676516, 904.8535990274441, 3981.7714838499996, 79.48590136196901, 479.84006726651285, 1431.5406652040165, 1536.1601955685042, 564.1039022306836, 91.83037105884169, 711.3458636040207, 1065.0081071532059, 147.4908110762307, 485.6678279160951, 1695.02881314209, 348.3244600495428, 337.08610821948423, 823.3562492474855, 1451.2305556821048, 4269.593220949579, 1571.4357035084495, 411.55324471013944, 1524.8151089745259, 447.42236163397183, 1666.250744592356, 2615.6112285757376, 3026.115281244345, 1236.1405183116613, 2528.523852050095, 5254.002431791405, 2247.598955963193, 4285.958665415513, 3701.1456731649187, 4904.1943781408745, 1157.6994883776715, 6297.141384190827, 1698.7442896436492, 1440.456750573334, 1474.2199860663477, 1551.7822929930207, 1620.9361182879047, 3672.971923510158, 1398.5905303840063, 1748.9108530925425, 23.076424426913164, 14.33450922945905, 10.79456098963217, 10.792418773889196, 9.765797855055627, 10.034108525053995, 10.79245581924507, 12.628231890934876, 10.485164547799688, 6.289518659453994, 8.262933033957177, 7.482465425826798, 7.476088135190185, 5.867594060482013, 8.833547180343812, 40.18478481220616, 19.24438600420818, 5.808437958937349, 5.0055140215835205, 4.97426749175817, 4.9991341511981835, 9.211820646134225, 4.6870840972879355, 8.975408317799792, 4.9261749990608505, 9.50648407642393, 8.289699338416565, 5.339557102703375, 7.890691497918809, 16.694864597256245, 8.056723582802597, 14.73425456902193, 6.295117452126649, 11.774505396772398, 391.24606729257073, 56.0869339452368, 96.75764738453815, 40.79552651447702, 55.045719360981685, 94.4304099032808, 42.19285651575188, 227.3299358909544, 34.965894520396425, 6297.141384190827, 829.8135517129075, 708.8774648485565, 148.62619585455104, 1406.3459500600104, 1078.5702735375858, 1698.7442896436492, 1203.4216816664607, 859.3804332754332, 393.3820496439214, 859.1315005618017, 125.05987269902148, 691.4514595156027, 4285.958665415513, 359.2532213369733, 3981.7714838499996, 549.2011094203908, 623.3653658049034, 3672.971923510158, 1075.827851273488, 2247.598955963193, 1442.2108361527476, 2528.523852050095, 3701.1456731649187, 1029.9725257620375, 1474.2199860663477, 4904.1943781408745, 1273.649322827615, 1155.8500057213673, 5254.002431791405, 2615.6112285757376, 1551.7822929930207, 1748.9108530925425, 1566.8095316416238, 1524.8151089745259, 3501.27884676516, 3026.115281244345, 1440.456750573334, 4269.593220949579, 1412.6035580832465, 9.010130055493587, 8.394885996165923, 8.93437496704883, 9.037069925269742, 12.005635612251883, 7.891089175059797, 7.304740445181118, 10.08007837083696, 7.538765126781095, 11.105198563908461, 5.902456770949627, 5.9063845129634185, 5.621454290606583, 5.746897930005322, 5.914734479789592, 6.088124059122003, 9.417530332289797, 5.1656681611765425, 13.861723286452614, 5.921417779188186, 5.845980472920866, 8.01382815209016, 4.740407006327583, 4.996452108644372, 8.934484100202942, 4.6378700794440055, 5.736345073356687, 7.962905358631166, 5.487263928620505, 4.620904765005406, 32.42986475106682, 7.0781779830672935, 11.458768433486105, 622.5804578568426, 13.973244454987139, 74.57309861604551, 28.009167254037035, 14.211095673644914, 534.2678069169199, 11.431605259106874, 57.241980838494676, 85.51271907750589, 74.93550127995195, 787.4286542349361, 111.12682592770705, 355.1130318593722, 34.03002565733565, 361.3689780612642, 83.48927057216734, 404.6736042034235, 1463.6909107300883, 141.8519891175866, 859.3804332754332, 3672.971923510158, 4269.593220949579, 6297.141384190827, 261.62932099633065, 463.99693752639047, 1435.8332460079919, 222.5747362475993, 437.20174662614687, 450.7218625459224, 5254.002431791405, 659.9435942281606, 671.048200873562, 510.69325353489114, 1072.104563463905, 521.487560697079, 4285.958665415513, 1748.9108530925425, 1524.8151089745259, 598.882251623301, 1167.186803326232, 1735.6709931188886, 3701.1456731649187, 3026.115281244345, 1075.827851273488, 1916.7323165929442, 1698.2498578989107, 1157.6994883776715, 2528.523852050095, 796.4316977476765, 1387.4729919468073, 2247.598955963193, 4904.1943781408745, 3501.27884676516, 1571.4357035084495, 1406.202754218225, 1440.456750573334, 2615.6112285757376, 3981.7714838499996, 1620.9361182879047, 11.044168387319326, 8.91408679871015, 9.158013655322796, 6.073530677625042, 7.47478763365615, 5.516045284208426, 6.235282812098674, 10.145080639572331, 5.1557207874747935, 5.064393277472593, 5.159348335565259, 6.796794822333638, 5.695358306663941, 8.455525790889753, 5.40846396524205, 4.962905093961638, 4.620054565412982, 5.135442569391648, 5.673270568191414, 12.1213424354827, 4.441140972709748, 6.254140511230222, 5.163565239615452, 8.405621304467974, 6.5108787606649585, 8.156204063089266, 4.926875485453636, 9.17283444507164, 5.686751818089658, 3.570988488404376, 8.833333276908117, 32.59180404188759, 24.33126951509471, 58.032427134855226, 451.9570074771518, 11.147968347586541, 8.430180383065938, 68.35572994228761, 472.80752923731166, 549.2011094203908, 186.3051347600277, 318.6805156887513, 54.31152967332739, 1698.2498578989107, 28.47983989878867, 167.47635224674377, 66.8058271556366, 3701.1456731649187, 141.11294031960244, 58.408573605066664, 3026.115281244345, 1112.1489083054535, 182.1963322587299, 3501.27884676516, 1387.4729919468073, 167.39847828541795, 3672.971923510158, 221.8470034115848, 1748.9108530925425, 1348.0315317783734, 412.09606376824536, 1435.8332460079919, 2528.523852050095, 669.477318256119, 1916.7323165929442, 629.5887280751589, 4904.1943781408745, 4285.958665415513, 5254.002431791405, 1463.6909107300883, 6297.141384190827, 796.4316977476765, 1406.202754218225, 1398.5905303840063, 1666.250744592356, 1536.1601955685042, 4269.593220949579, 1735.6709931188886, 2247.598955963193, 1412.6035580832465, 2615.6112285757376, 1126.857595333931, 1571.4357035084495, 1620.9361182879047, 3981.7714838499996], \"Category\": [\"Default\", \"Default\", \"Default\", \"Default\", \"Default\", \"Default\", \"Default\", \"Default\", \"Default\", \"Default\", \"Default\", \"Default\", \"Default\", \"Default\", \"Default\", \"Default\", \"Default\", \"Default\", \"Default\", \"Default\", \"Default\", \"Default\", \"Default\", \"Default\", \"Default\", \"Default\", \"Default\", \"Default\", \"Default\", \"Default\", \"Topic1\", \"Topic1\", \"Topic1\", \"Topic1\", \"Topic1\", \"Topic1\", \"Topic1\", \"Topic1\", \"Topic1\", \"Topic1\", \"Topic1\", \"Topic1\", \"Topic1\", \"Topic1\", \"Topic1\", \"Topic1\", \"Topic1\", \"Topic1\", \"Topic1\", \"Topic1\", \"Topic1\", \"Topic1\", \"Topic1\", \"Topic1\", \"Topic1\", \"Topic1\", \"Topic1\", \"Topic1\", \"Topic1\", \"Topic1\", \"Topic1\", \"Topic1\", \"Topic1\", \"Topic1\", \"Topic1\", \"Topic1\", \"Topic1\", \"Topic1\", \"Topic1\", \"Topic1\", \"Topic1\", \"Topic1\", \"Topic1\", \"Topic1\", \"Topic1\", \"Topic1\", \"Topic1\", \"Topic1\", \"Topic1\", \"Topic1\", \"Topic1\", \"Topic1\", \"Topic1\", \"Topic1\", \"Topic1\", \"Topic1\", \"Topic1\", \"Topic1\", \"Topic1\", \"Topic1\", \"Topic1\", \"Topic1\", \"Topic1\", \"Topic1\", \"Topic1\", \"Topic1\", \"Topic1\", \"Topic1\", \"Topic1\", \"Topic1\", \"Topic1\", \"Topic1\", \"Topic1\", \"Topic1\", \"Topic1\", \"Topic1\", \"Topic1\", \"Topic1\", \"Topic1\", \"Topic1\", \"Topic1\", \"Topic1\", \"Topic1\", \"Topic2\", \"Topic2\", \"Topic2\", \"Topic2\", \"Topic2\", \"Topic2\", \"Topic2\", \"Topic2\", \"Topic2\", \"Topic2\", \"Topic2\", \"Topic2\", \"Topic2\", \"Topic2\", \"Topic2\", \"Topic2\", \"Topic2\", \"Topic2\", \"Topic2\", \"Topic2\", \"Topic2\", \"Topic2\", \"Topic2\", \"Topic2\", \"Topic2\", \"Topic2\", \"Topic2\", \"Topic2\", \"Topic2\", \"Topic2\", \"Topic2\", \"Topic2\", \"Topic2\", \"Topic2\", \"Topic2\", \"Topic2\", \"Topic2\", \"Topic2\", \"Topic2\", \"Topic2\", \"Topic2\", \"Topic2\", \"Topic2\", \"Topic2\", \"Topic2\", \"Topic2\", \"Topic2\", \"Topic2\", \"Topic2\", \"Topic2\", \"Topic2\", \"Topic2\", \"Topic2\", \"Topic2\", \"Topic2\", \"Topic2\", \"Topic2\", \"Topic2\", \"Topic2\", \"Topic2\", \"Topic2\", \"Topic2\", \"Topic2\", \"Topic2\", \"Topic2\", \"Topic2\", \"Topic2\", \"Topic2\", \"Topic2\", \"Topic2\", \"Topic2\", \"Topic2\", \"Topic2\", \"Topic2\", \"Topic2\", \"Topic2\", \"Topic2\", \"Topic2\", \"Topic2\", \"Topic2\", \"Topic2\", \"Topic2\", \"Topic2\", \"Topic2\", \"Topic2\", \"Topic2\", \"Topic2\", \"Topic2\", \"Topic2\", \"Topic3\", \"Topic3\", \"Topic3\", \"Topic3\", \"Topic3\", \"Topic3\", \"Topic3\", \"Topic3\", \"Topic3\", \"Topic3\", \"Topic3\", \"Topic3\", \"Topic3\", \"Topic3\", \"Topic3\", \"Topic3\", \"Topic3\", \"Topic3\", \"Topic3\", \"Topic3\", \"Topic3\", \"Topic3\", \"Topic3\", \"Topic3\", \"Topic3\", \"Topic3\", \"Topic3\", \"Topic3\", \"Topic3\", \"Topic3\", \"Topic3\", \"Topic3\", \"Topic3\", \"Topic3\", \"Topic3\", \"Topic3\", \"Topic3\", \"Topic3\", \"Topic3\", \"Topic3\", \"Topic3\", \"Topic3\", \"Topic3\", \"Topic3\", \"Topic3\", \"Topic3\", \"Topic3\", \"Topic3\", \"Topic3\", \"Topic3\", \"Topic3\", \"Topic3\", \"Topic3\", \"Topic3\", \"Topic3\", \"Topic3\", \"Topic3\", \"Topic3\", \"Topic3\", \"Topic3\", \"Topic3\", \"Topic3\", \"Topic3\", \"Topic3\", \"Topic3\", \"Topic3\", \"Topic3\", \"Topic3\", \"Topic3\", \"Topic3\", \"Topic3\", \"Topic3\", \"Topic3\", \"Topic3\", \"Topic3\", \"Topic3\", \"Topic3\", \"Topic3\", \"Topic3\", \"Topic3\", \"Topic3\", \"Topic3\", \"Topic3\", \"Topic4\", \"Topic4\", \"Topic4\", \"Topic4\", \"Topic4\", \"Topic4\", \"Topic4\", \"Topic4\", \"Topic4\", \"Topic4\", \"Topic4\", \"Topic4\", \"Topic4\", \"Topic4\", \"Topic4\", \"Topic4\", \"Topic4\", \"Topic4\", \"Topic4\", \"Topic4\", \"Topic4\", \"Topic4\", \"Topic4\", \"Topic4\", \"Topic4\", \"Topic4\", \"Topic4\", \"Topic4\", \"Topic4\", \"Topic4\", \"Topic4\", \"Topic4\", \"Topic4\", \"Topic4\", \"Topic4\", \"Topic4\", \"Topic4\", \"Topic4\", \"Topic4\", \"Topic4\", \"Topic4\", \"Topic4\", \"Topic4\", \"Topic4\", \"Topic4\", \"Topic4\", \"Topic4\", \"Topic4\", \"Topic4\", \"Topic4\", \"Topic4\", \"Topic4\", \"Topic4\", \"Topic4\", \"Topic4\", \"Topic4\", \"Topic4\", \"Topic4\", \"Topic4\", \"Topic4\", \"Topic4\", \"Topic4\", \"Topic4\", \"Topic4\", \"Topic4\", \"Topic4\", \"Topic4\", \"Topic4\", \"Topic4\", \"Topic4\", \"Topic4\", \"Topic4\", \"Topic4\", \"Topic4\", \"Topic4\", \"Topic4\", \"Topic4\", \"Topic4\", \"Topic4\", \"Topic4\", \"Topic4\", \"Topic4\", \"Topic4\", \"Topic4\", \"Topic4\", \"Topic4\", \"Topic4\", \"Topic4\", \"Topic4\", \"Topic4\", \"Topic4\", \"Topic4\", \"Topic5\", \"Topic5\", \"Topic5\", \"Topic5\", \"Topic5\", \"Topic5\", \"Topic5\", \"Topic5\", \"Topic5\", \"Topic5\", \"Topic5\", \"Topic5\", \"Topic5\", \"Topic5\", \"Topic5\", \"Topic5\", \"Topic5\", \"Topic5\", \"Topic5\", \"Topic5\", \"Topic5\", \"Topic5\", \"Topic5\", \"Topic5\", \"Topic5\", \"Topic5\", \"Topic5\", \"Topic5\", \"Topic5\", \"Topic5\", \"Topic5\", \"Topic5\", \"Topic5\", \"Topic5\", \"Topic5\", \"Topic5\", \"Topic5\", \"Topic5\", \"Topic5\", \"Topic5\", \"Topic5\", \"Topic5\", \"Topic5\", \"Topic5\", \"Topic5\", \"Topic5\", \"Topic5\", \"Topic5\", \"Topic5\", \"Topic5\", \"Topic5\", \"Topic5\", \"Topic5\", \"Topic5\", \"Topic5\", \"Topic5\", \"Topic5\", \"Topic5\", \"Topic5\", \"Topic5\", \"Topic5\", \"Topic5\", \"Topic5\", \"Topic5\", \"Topic5\", \"Topic5\", \"Topic5\", \"Topic5\", \"Topic5\", \"Topic5\", \"Topic5\", \"Topic5\", \"Topic5\", \"Topic5\", \"Topic5\", \"Topic5\", \"Topic5\", \"Topic5\", \"Topic5\", \"Topic5\", \"Topic5\", \"Topic5\", \"Topic5\", \"Topic5\", \"Topic5\"], \"logprob\": [30.0, 29.0, 28.0, 27.0, 26.0, 25.0, 24.0, 23.0, 22.0, 21.0, 20.0, 19.0, 18.0, 17.0, 16.0, 15.0, 14.0, 13.0, 12.0, 11.0, 10.0, 9.0, 8.0, 7.0, 6.0, 5.0, 4.0, 3.0, 2.0, 1.0, -7.7306, -9.4591, -9.1925, -9.6224, -9.4823, -9.7591, -9.7609, -9.7655, -9.5027, -9.8415, -9.9164, -9.661, -9.6295, -9.7719, -9.7674, -10.0436, -10.1013, -10.1131, -10.1761, -9.3882, -9.8269, -10.1462, -10.1897, -9.4089, -10.1967, -10.2015, -9.6336, -8.6426, -10.138, -10.2668, -9.4102, -9.0919, -8.6847, -9.5753, -5.3017, -8.3388, -9.053, -7.6086, -4.0989, -7.8026, -5.5289, -4.1503, -6.0011, -6.5012, -5.1494, -5.0755, -4.4487, -6.28, -7.1089, -5.7802, -5.4961, -4.9518, -7.3671, -6.9402, -5.3929, -5.6631, -7.71, -4.6, -5.4457, -6.8867, -4.3221, -5.734, -6.3944, -5.7777, -4.7662, -6.1462, -5.5936, -5.5931, -5.0243, -5.5075, -4.9017, -5.8502, -4.9141, -5.5027, -5.7297, -5.6813, -5.6648, -5.3841, -5.2256, -5.4836, -5.6253, -5.7059, -5.7057, -8.8334, -9.1056, -9.3211, -9.0485, -9.4344, -9.3404, -9.4912, -9.4886, -9.6036, -9.707, -9.6575, -9.6724, -9.2368, -9.8363, -9.3247, -9.9234, -9.0393, -9.0921, -9.8226, -8.644, -9.9757, -9.9823, -10.0398, -9.882, -9.5669, -9.9964, -9.6408, -9.9468, -10.0812, -9.9675, -8.8891, -9.4438, -8.8962, -9.1616, -9.4041, -9.2502, -9.2939, -7.9612, -8.5996, -8.1172, -5.854, -8.8016, -8.2076, -8.34, -6.8479, -6.4358, -4.4292, -5.6159, -4.3511, -7.7304, -6.1952, -5.2732, -5.275, -6.1302, -7.6469, -5.9534, -5.6279, -7.2538, -6.2806, -5.3003, -6.5673, -6.5936, -5.8864, -5.4406, -4.6192, -5.4323, -6.4799, -5.4654, -6.4186, -5.4269, -5.1058, -4.9968, -5.6685, -5.1383, -4.6222, -5.2476, -4.7781, -4.897, -4.7269, -5.7361, -4.5828, -5.5042, -5.6149, -5.6063, -5.6037, -5.6268, -5.3125, -5.6971, -5.693, -8.293, -8.7924, -9.08, -9.0846, -9.1995, -9.1802, -9.1145, -8.9679, -9.1589, -9.6777, -9.408, -9.5095, -9.5147, -9.7582, -9.35, -7.8399, -8.5859, -9.7948, -9.9455, -9.9556, -9.9527, -9.346, -10.0261, -9.3782, -9.9788, -9.3232, -9.4607, -9.9008, -9.511, -8.7621, -9.4916, -8.9042, -9.741, -9.1484, -5.9235, -7.7276, -7.254, -8.0655, -7.8033, -7.3625, -8.0625, -6.6483, -8.2461, -3.9463, -5.6272, -5.7588, -7.0547, -5.2319, -5.4942, -5.1521, -5.4464, -5.7295, -6.3396, -5.7623, -7.2572, -5.9652, -4.5992, -6.4631, -4.6796, -6.148, -6.0588, -4.7638, -5.6661, -5.155, -5.4793, -5.1618, -4.9294, -5.8053, -5.5761, -4.8476, -5.7122, -5.7751, -4.8907, -5.3035, -5.6136, -5.5931, -5.652, -5.6745, -5.3691, -5.4307, -5.6991, -5.5583, -5.7397, -9.1219, -9.2059, -9.144, -9.1342, -8.8582, -9.2786, -9.3598, -9.0383, -9.3331, -8.9574, -9.5946, -9.594, -9.6531, -9.6328, -9.604, -9.5758, -9.1534, -9.7575, -8.778, -9.629, -9.6421, -9.3269, -9.8529, -9.8015, -9.2228, -9.8822, -9.6744, -9.3496, -9.7244, -9.8969, -7.9573, -9.475, -9.0323, -5.3491, -8.8494, -7.3372, -8.2326, -8.8479, -5.6205, -9.0454, -7.6293, -7.3165, -7.4683, -5.5042, -7.1567, -6.2099, -8.1522, -6.2371, -7.4509, -6.1887, -5.1918, -7.0449, -5.6586, -4.5848, -4.5097, -4.2813, -6.6738, -6.2517, -5.4461, -6.8111, -6.3306, -6.318, -4.5772, -6.0593, -6.0686, -6.258, -5.7722, -6.2556, -4.9084, -5.4872, -5.606, -6.1808, -5.7812, -5.5518, -5.1091, -5.2269, -5.847, -5.5503, -5.6193, -5.8452, -5.4548, -6.0337, -5.7632, -5.5489, -5.2195, -5.3692, -5.7251, -5.7791, -5.7922, -5.6197, -5.5304, -5.7743, -8.7946, -9.0275, -9.0113, -9.4275, -9.2263, -9.5423, -9.4224, -8.939, -9.6223, -9.6533, -9.6354, -9.36, -9.5373, -9.1439, -9.5932, -9.6827, -9.7547, -9.6496, -9.5539, -8.795, -9.8041, -9.4621, -9.6572, -9.1747, -9.4355, -9.214, -9.727, -9.11, -9.6096, -10.0752, -9.1705, -7.9149, -8.2544, -7.46, -5.7032, -8.9858, -9.2303, -7.4693, -5.9083, -5.7892, -6.6915, -6.2782, -7.7188, -4.9679, -8.2437, -6.8368, -7.5892, -4.4542, -7.032, -7.7133, -4.7413, -5.5163, -6.8787, -4.6835, -5.3705, -6.9511, -4.689, -6.7476, -5.2858, -5.4865, -6.3276, -5.4648, -5.0936, -6.0129, -5.3038, -6.0774, -4.7061, -4.8139, -4.7006, -5.5736, -4.6752, -5.9628, -5.6235, -5.6601, -5.5755, -5.6308, -5.097, -5.5963, -5.4706, -5.7511, -5.5333, -5.8411, -5.7724, -5.797, -5.7557], \"loglift\": [30.0, 29.0, 28.0, 27.0, 26.0, 25.0, 24.0, 23.0, 22.0, 21.0, 20.0, 19.0, 18.0, 17.0, 16.0, 15.0, 14.0, 13.0, 12.0, 11.0, 10.0, 9.0, 8.0, 7.0, 6.0, 5.0, 4.0, 3.0, 2.0, 1.0, 1.2899, 1.2236, 1.2224, 1.2181, 1.2144, 1.205, 1.2044, 1.2026, 1.1958, 1.1897, 1.1815, 1.1806, 1.1755, 1.1727, 1.1719, 1.1698, 1.1674, 1.1624, 1.1585, 1.1556, 1.1556, 1.1549, 1.153, 1.1528, 1.15, 1.1483, 1.1408, 1.1406, 1.1384, 1.1375, 1.1049, 1.0906, 1.061, 1.1093, 0.7482, 0.9986, 1.0479, 0.9031, 0.4817, 0.8928, 0.5964, 0.3614, 0.6134, 0.6875, 0.4698, 0.4445, 0.2705, 0.5902, 0.7332, 0.4944, 0.3759, 0.2573, 0.7423, 0.6522, 0.3287, 0.3731, 0.8, 0.1153, 0.2855, 0.6156, 0.0085, 0.332, 0.4926, 0.3234, 0.0227, 0.3996, 0.2361, 0.2321, 0.0391, 0.1802, -0.032, 0.291, -0.052, 0.1383, 0.1991, 0.1623, 0.1397, -0.1411, -0.3081, -0.1228, 0.0176, -0.0458, -0.065, 1.3168, 1.3139, 1.3055, 1.3006, 1.2964, 1.2915, 1.287, 1.2863, 1.2832, 1.2703, 1.2702, 1.2677, 1.2559, 1.2558, 1.2537, 1.2516, 1.2508, 1.2507, 1.2499, 1.2493, 1.2407, 1.2388, 1.2384, 1.237, 1.2345, 1.2335, 1.2323, 1.231, 1.2302, 1.2297, 1.2292, 1.229, 1.2199, 1.2165, 1.2096, 1.2004, 1.2015, 1.1061, 1.151, 1.1028, 0.8737, 1.1517, 1.0759, 1.0815, 0.8692, 0.7961, 0.4884, 0.6548, 0.4378, 0.9724, 0.7098, 0.5387, 0.4664, 0.613, 0.9116, 0.5579, 0.4798, 0.8308, 0.6123, 0.3426, 0.658, 0.6645, 0.4787, 0.3577, 0.1, 0.2864, 0.5786, 0.2834, 0.5563, 0.2332, 0.1034, 0.0666, 0.2902, 0.1048, -0.1106, 0.1132, -0.0628, -0.035, -0.1463, 0.2882, -0.2523, 0.1365, 0.1908, 0.1762, 0.1275, 0.0608, -0.4429, 0.1381, -0.0813, 1.6466, 1.6233, 1.6194, 1.6149, 1.6, 1.5922, 1.5851, 1.5746, 1.5696, 1.5618, 1.5586, 1.5563, 1.552, 1.5507, 1.5499, 1.5451, 1.5353, 1.5243, 1.5224, 1.5185, 1.5164, 1.512, 1.5075, 1.5057, 1.505, 1.5032, 1.5027, 1.5025, 1.5017, 1.5013, 1.5003, 1.4841, 1.4976, 1.464, 1.1856, 1.3239, 1.2523, 1.3044, 1.2669, 1.168, 1.2736, 1.0037, 1.2779, 0.3842, 0.73, 0.7559, 1.0223, 0.5978, 0.6009, 0.4887, 0.5391, 0.5927, 0.764, 0.5601, 0.9924, 0.5744, 0.1161, 0.7312, 0.1093, 0.622, 0.5845, 0.1059, 0.4315, 0.2059, 0.3252, 0.0813, -0.0673, 0.3358, 0.2064, -0.267, 0.2165, 0.2507, -0.379, -0.0943, 0.1177, 0.0185, 0.0696, 0.0743, -0.4516, -0.3673, 0.1066, -0.8392, 0.0855, 1.7582, 1.7449, 1.7445, 1.7429, 1.7348, 1.7341, 1.7301, 1.7295, 1.7253, 1.7136, 1.7085, 1.7084, 1.6988, 1.697, 1.6969, 1.6963, 1.6824, 1.6789, 1.6713, 1.6708, 1.6706, 1.6703, 1.6694, 1.6682, 1.6657, 1.6619, 1.6572, 1.6541, 1.6516, 1.6509, 1.642, 1.6464, 1.6074, 1.2954, 1.5919, 1.4294, 1.5133, 1.5765, 1.177, 1.5966, 1.4018, 1.3133, 1.2935, 0.9055, 1.2111, 0.9961, 1.3989, 0.9514, 1.2028, 0.8866, 0.5979, 1.0788, 0.6636, 0.2848, 0.2095, 0.0493, 0.8377, 0.6868, 0.3628, 0.862, 0.6674, 0.6496, -0.0655, 0.527, 0.501, 0.5847, 0.3289, 0.5661, -0.193, 0.1245, 0.1428, 0.5026, 0.2349, 0.0675, -0.2471, -0.1636, 0.2505, -0.0303, 0.0218, 0.179, -0.2117, 0.3646, 0.08, -0.1881, -0.6389, -0.4516, -0.0065, 0.0506, 0.0135, -0.4105, -0.7415, -0.0867, 1.8819, 1.8633, 1.8525, 1.8469, 1.8405, 1.8285, 1.8258, 1.8225, 1.8161, 1.8029, 1.8022, 1.8019, 1.8014, 1.7997, 1.7973, 1.7938, 1.7933, 1.7926, 1.7888, 1.7884, 1.7834, 1.783, 1.7796, 1.7749, 1.7695, 1.7656, 1.7568, 1.7522, 1.7307, 1.7304, 1.7294, 1.6795, 1.6323, 1.5574, 1.2616, 1.6813, 1.7163, 1.3844, 1.0114, 0.9808, 1.1595, 1.036, 1.3649, 0.6731, 1.4856, 1.1208, 1.2875, 0.4078, 1.0969, 1.2976, 0.3221, 0.548, 0.9946, 0.234, 0.4727, 1.007, 0.1807, 0.9288, 0.3258, 0.3855, 0.7296, 0.3441, 0.1494, 0.559, 0.2162, 0.556, -0.1255, -0.0986, -0.189, 0.2161, -0.3447, 0.4355, 0.2063, 0.1751, 0.0846, 0.1106, -0.3778, 0.023, -0.1098, 0.0742, -0.3242, 0.2101, -0.0537, -0.1093, -0.9667]}, \"token.table\": {\"Topic\": [1, 2, 3, 1, 2, 3, 4, 5, 1, 2, 3, 4, 5, 1, 2, 3, 3, 1, 3, 4, 5, 3, 1, 2, 3, 4, 5, 2, 3, 2, 4, 1, 1, 2, 3, 4, 5, 3, 1, 2, 3, 4, 5, 2, 1, 4, 5, 1, 2, 3, 4, 5, 5, 1, 5, 1, 2, 3, 4, 5, 3, 1, 2, 3, 4, 5, 1, 2, 3, 4, 5, 4, 5, 2, 5, 1, 2, 3, 4, 5, 1, 2, 3, 4, 5, 1, 2, 3, 4, 5, 2, 5, 5, 1, 2, 3, 4, 5, 4, 1, 2, 3, 5, 1, 2, 3, 4, 5, 1, 1, 1, 1, 3, 4, 5, 5, 3, 5, 1, 2, 3, 4, 5, 1, 2, 3, 4, 5, 1, 2, 4, 1, 2, 3, 4, 5, 3, 5, 1, 2, 3, 4, 5, 1, 2, 3, 4, 5, 2, 4, 2, 4, 5, 1, 2, 3, 4, 5, 1, 2, 3, 4, 5, 1, 2, 3, 4, 5, 2, 3, 1, 2, 3, 4, 5, 1, 2, 3, 4, 5, 1, 2, 3, 4, 5, 3, 2, 3, 1, 2, 3, 4, 5, 1, 2, 3, 4, 5, 1, 4, 1, 3, 4, 5, 1, 4, 1, 3, 1, 2, 3, 4, 5, 1, 2, 3, 4, 5, 1, 2, 4, 5, 1, 2, 3, 4, 5, 1, 1, 2, 3, 4, 5, 3, 5, 1, 2, 3, 4, 5, 1, 2, 3, 4, 5, 1, 2, 3, 4, 5, 4, 4, 1, 2, 3, 4, 5, 1, 2, 3, 4, 5, 1, 5, 1, 2, 3, 4, 5, 2, 4, 5, 1, 2, 3, 4, 5, 1, 2, 3, 4, 5, 1, 2, 3, 4, 5, 1, 2, 3, 4, 5, 1, 2, 3, 4, 5, 2, 3, 4, 1, 3, 1, 2, 3, 4, 5, 1, 2, 3, 4, 5, 3, 1, 2, 1, 2, 3, 4, 5, 1, 2, 3, 4, 5, 1, 2, 3, 4, 5, 3, 4, 1, 2, 4, 5, 4, 5, 2, 1, 2, 3, 4, 5, 1, 2, 3, 4, 5, 4, 1, 2, 3, 4, 5, 2, 2, 4, 1, 2, 3, 4, 5, 3, 1, 2, 3, 4, 5, 5, 1, 1, 2, 3, 4, 5, 2, 1, 2, 3, 4, 5, 4, 1, 2, 3, 4, 5, 1, 2, 3, 4, 5, 1, 2, 3, 4, 5, 1, 2, 3, 4, 5, 1, 2, 3, 4, 5, 4, 5, 1, 2, 3, 4, 5, 1, 2, 3, 4, 5, 1, 3, 1, 2, 3, 4, 5, 1, 2, 3, 4, 5, 2, 1, 2, 3, 4, 5, 1, 2, 3, 4, 5, 4, 2, 5, 3, 1, 2, 3, 4, 5, 1, 2, 3, 4, 5, 1, 2, 3, 4, 5, 1, 2, 3, 5, 1, 2, 3, 4, 5, 4, 1, 1, 2, 3, 4, 5, 4, 1, 2, 3, 4, 5, 1, 2, 3, 4, 5, 1, 4, 1, 2, 3, 4, 5, 3, 1, 2, 3, 4, 5, 1, 2, 5, 1, 1, 2, 3, 4, 5, 3, 4, 5, 5, 2, 1, 2, 1, 2, 3, 4, 5, 1, 2, 3, 4, 5, 2, 1, 2, 3, 4, 5, 5, 1, 2, 3, 4, 5, 1, 2, 3, 4, 5, 2, 3, 5, 1, 2, 3, 4, 5, 1, 2, 3, 4, 5, 5, 1, 2, 3, 4, 5, 4, 5, 1, 2, 3, 4, 5, 1, 2, 3, 4, 5, 5, 1, 2, 3, 4, 5, 1, 2, 3, 4, 5, 2, 2, 5, 1, 2, 3, 4, 5, 1, 2, 3, 4, 5, 2, 1, 3, 4, 5, 1, 2, 3, 4, 5, 1, 2, 3, 4, 5, 2, 5, 3, 2, 4, 1, 2, 3, 1, 2, 3, 4, 5, 1, 1, 3, 1, 2, 3, 5, 2, 4, 1, 1, 2, 3, 4, 5, 1, 2, 3, 4, 5, 5, 1, 2, 3, 4, 5, 1, 2, 3, 4, 5, 1, 1, 2, 3, 4, 5, 2, 4, 1, 1, 2, 3, 4, 5, 1, 2, 3, 4, 5, 2, 1, 3, 5, 1, 2, 3, 4, 5, 1, 2, 3, 4, 5, 4, 1, 2, 3, 4, 5, 5, 1, 2, 3, 4, 5, 1, 2, 3, 4, 5, 1, 2, 3, 4, 5, 2, 1, 2, 3, 4, 5, 3, 1, 2, 3, 4, 5, 1, 2, 3, 4, 5, 1, 2, 3, 4, 5, 1, 1, 2, 3, 4, 5, 1, 2, 3, 4, 5, 1, 2, 3, 4, 5, 4, 3, 1, 2, 3, 4, 5, 1, 1, 2, 3, 5, 1, 2, 3, 4, 5, 1, 2, 3, 4, 5, 1, 2, 3, 4, 5, 1, 4, 1, 2, 3, 4, 5, 5, 1, 1, 2, 3, 4, 5, 1, 2, 3, 4, 5, 1, 2, 3, 4, 5, 1, 2, 3, 4, 5, 5, 1, 2, 3, 4, 5, 3, 1, 3, 4, 1, 5, 2, 4, 1, 2, 3, 4, 5, 1, 4, 2, 1, 2, 3, 4, 5, 1, 2, 3, 4, 5, 4, 1, 2, 3, 4, 5, 4, 1, 1, 4, 1, 2, 3, 4, 5, 1, 2, 3, 4, 5, 1, 2, 5, 3, 4, 5, 3, 5, 5, 1, 3, 1, 2, 1, 2, 3, 4, 5, 1, 2, 3, 4, 5, 1, 2, 3, 4, 5, 1, 2, 3, 4, 5, 1, 2, 3, 4, 5, 1, 2, 3, 4, 5, 2, 1, 2, 3, 4, 5, 1, 2, 3, 4, 5, 1, 2, 3, 4, 5, 1, 2, 3, 4, 5, 1, 2, 3, 4, 5, 1, 2, 3, 4, 5, 1, 2, 3, 4, 5, 1, 3, 4, 5, 1, 2, 3, 4, 5, 1, 2, 3, 4, 5, 1, 2, 3, 4, 5, 3, 2, 5, 1, 2, 3, 4, 5, 1, 2, 3, 4, 5, 4, 4, 1, 2, 3, 4, 5, 3, 1, 2, 3, 4, 5, 1, 2, 3, 4, 5, 3, 5, 1, 2, 3, 2, 3, 1, 3, 1, 2, 3, 4, 5, 2, 2, 1, 2, 3, 4, 5, 5, 2, 3, 4, 1, 2, 3, 4, 5, 5, 2, 2, 4, 1, 2, 3, 4, 5, 4, 1, 2, 3, 4, 5, 1, 2, 3, 4, 5, 1, 2, 3, 4, 5, 1, 2, 3, 4, 5, 1, 2, 3, 4, 5, 1, 2, 3, 4, 5, 1, 1], \"Freq\": [0.05169741947030632, 0.8788561309952074, 0.05169741947030632, 0.26242047994559087, 0.4519463821285176, 0.08504367405644149, 0.09476295109146338, 0.1093418666439962, 0.21354244249585808, 0.2911942397670792, 0.13589064522463695, 0.07765179727122112, 0.28391438377290223, 0.8722163989896767, 0.07929239990815243, 0.07929239990815243, 0.858355627989515, 0.14313068138489393, 0.07156534069244697, 0.7872187476169166, 0.07156534069244697, 0.7491258025829206, 0.39390769984399776, 0.17803737846056394, 0.12314252010189006, 0.10459695984558132, 0.20029205076813444, 0.8231941067930146, 0.9355205272099889, 0.8667882036526957, 0.0722323503043913, 0.8460749366581142, 0.14737933849836354, 0.5606194444839712, 0.1184814289888805, 0.08380393757750085, 0.08958351947939745, 0.7991187284167429, 0.2975773072194896, 0.15318325519315498, 0.11425964116866479, 0.22475248098012082, 0.21094087600368883, 0.82073402418797, 0.09856994099182984, 0.09856994099182984, 0.8871294689264685, 0.25165850653669203, 0.3018545428809379, 0.2258821635491063, 0.1078536456585823, 0.11260191936682178, 0.8779078910890775, 0.11896800531192786, 0.832776037183495, 0.13838932202463622, 0.6667849152096108, 0.06290423728392555, 0.05032338982714044, 0.07548508474071067, 0.811989018003335, 0.2297473432776812, 0.33814925876785473, 0.21114104435026335, 0.07685210426542152, 0.14399657430784243, 0.20017214462823726, 0.04003442892564745, 0.12010328677694236, 0.5738268146009468, 0.06672404820941243, 0.08249911305803131, 0.8249911305803131, 0.90412132508115, 0.0753434437567625, 0.3740306810227477, 0.1772215196865887, 0.11006389117377613, 0.21732954782618508, 0.1212568292592449, 0.06987878374240394, 0.19216665529161087, 0.06987878374240394, 0.6289090536816355, 0.03493939187120197, 0.1461904534723805, 0.46739764701732917, 0.21207910855852383, 0.09883298262921499, 0.0782427779147952, 0.9417543458282688, 0.8735518750127941, 0.7395815199484248, 0.11703481195730568, 0.07314675747331605, 0.04388805448398963, 0.23406962391461136, 0.5412860053025388, 0.8443923712954923, 0.06718376106514169, 0.873388893846842, 0.06718376106514169, 0.06718376106514169, 0.0891473227058907, 0.0891473227058907, 0.6953491171059474, 0.053488393623534414, 0.07131785816471255, 0.8242760385415914, 0.8848775724189722, 0.8876956635918457, 0.03083577460701879, 0.09250732382105636, 0.8017301397824885, 0.06167154921403758, 0.7746585574849624, 0.9265731699515539, 0.8026983901166987, 0.07754561686746368, 0.2819840613362316, 0.15509123373492736, 0.45822409967137634, 0.02819840613362316, 0.25247489578811716, 0.07135160098359833, 0.14270320196719666, 0.16465754073138075, 0.3677351743000837, 0.14073510205895565, 0.07036755102947782, 0.774043061324256, 0.2257089665478111, 0.12555061264221992, 0.390758648335898, 0.09874767286466736, 0.1594069576243916, 0.871064143817022, 0.0791876494379111, 0.2761331445902821, 0.2838035097177899, 0.07286846871132444, 0.2761331445902821, 0.09012679024821707, 0.08579789080614053, 0.20019507854766125, 0.657783829513744, 0.028599296935380176, 0.028599296935380176, 0.1255823038152875, 0.8790761267070125, 0.8503188327465708, 0.08503188327465708, 0.08503188327465708, 0.162748506642745, 0.40808580770121133, 0.2271191846432337, 0.05222526705700026, 0.14938855460490771, 0.18409536312530256, 0.03068256052088376, 0.03068256052088376, 0.06136512104176752, 0.7363814525012102, 0.4030554252919469, 0.27791908386556624, 0.09021457172599533, 0.1251363414263806, 0.10476530910115586, 0.10392641259443969, 0.8314113007555175, 0.536927961966155, 0.09133310693238719, 0.1217774759098496, 0.17989854395773236, 0.06919174767605091, 0.1535990288921248, 0.15941717392591742, 0.33163426692617853, 0.303707170763974, 0.05003604729061641, 0.28442503779595024, 0.19767540126818542, 0.3334883568157517, 0.05617394496470017, 0.12728020441368773, 0.9265763504464498, 0.8817135546689824, 0.1102141943336228, 0.07022511387379905, 0.2457878985582967, 0.035112556936899526, 0.035112556936899526, 0.5969134679272919, 0.23710837917654384, 0.2504665977217012, 0.18868483695034827, 0.2588154843124246, 0.06512131540764232, 0.8215161509094314, 0.09127957232327016, 0.0735374747261908, 0.686349764111114, 0.0735374747261908, 0.1715874410277785, 0.9256367246146162, 0.09256367246146162, 0.16985851486791417, 0.7643633169056138, 0.15580315568193498, 0.04818654299441288, 0.16383424618100378, 0.5718136435336995, 0.05943006969310922, 0.2767612366680745, 0.3920365611967916, 0.20468276577539085, 0.0745899158715228, 0.05173576656408652, 0.12329812869562151, 0.04109937623187384, 0.12329812869562151, 0.6986893959418552, 0.6650986908711788, 0.062353002269173015, 0.08313733635889735, 0.08313733635889735, 0.10392167044862169, 0.8184793032911727, 0.1092495972255447, 0.10196629074384173, 0.34231540464004007, 0.08375802453958427, 0.364165324085149, 0.7799088077271967, 0.11141554396102811, 0.018166716896588234, 0.018166716896588234, 0.6540018082771764, 0.27250075344882346, 0.0545001506897647, 0.22748752267849473, 0.2877312539807048, 0.07463029400124531, 0.17443707272580228, 0.23557996419670205, 0.12646380115229594, 0.27511423408569646, 0.17083706471450505, 0.29951952904491147, 0.1286824643304064, 0.7289607447414321, 0.7743431972774946, 0.22590806560358337, 0.3372711965349273, 0.15209021881480683, 0.15527202255570238, 0.12918123188035893, 0.5698980275882802, 0.07644973540818394, 0.1250995670315737, 0.09729966324677955, 0.13899951892397078, 0.9036594016567785, 0.8827690340577232, 0.2659820668869116, 0.29029225579593043, 0.12512597232583209, 0.1558712112401794, 0.1623062612455079, 0.11862142380829034, 0.11862142380829034, 0.711728542849742, 0.16571067053594582, 0.184122967262162, 0.0368245934524324, 0.0736491869048648, 0.5339566050602699, 0.08981252467725433, 0.31434383637039015, 0.029937508225751443, 0.0748437705643786, 0.4939688857248988, 0.03570259661525165, 0.1428103864610066, 0.03570259661525165, 0.714051932305033, 0.0714051932305033, 0.193998457094873, 0.44282256510786233, 0.14057859209773407, 0.10262237223134588, 0.11949180328307396, 0.1757190336325087, 0.4873716593203543, 0.1414593478299441, 0.07293997622481493, 0.12267177819627965, 0.08726941344566204, 0.08726941344566204, 0.7854247210109583, 0.1051913611763153, 0.8415308894105225, 0.16299001316185457, 0.11338435698215969, 0.22676871396431938, 0.09212479004800475, 0.4110182940603289, 0.13802055666317847, 0.07667808703509915, 0.6006450151082767, 0.08690183197311238, 0.0971255769111256, 0.9533539335644317, 0.8454874601705142, 0.8456571199192036, 0.21470154352708756, 0.13955600329260692, 0.1449235418807841, 0.06441046305812627, 0.4347706256423523, 0.25616874637376635, 0.306152892007672, 0.20410192800511465, 0.15897735208561653, 0.07428199420594309, 0.36023094381481907, 0.2874114507001956, 0.20621449377592507, 0.07281949311462353, 0.0734639134076733, 0.8871212366934215, 0.12673160524191734, 0.7637773697027914, 0.05091849131351943, 0.10183698262703886, 0.05091849131351943, 0.113207547892954, 0.792452835250678, 0.9475033853440215, 0.07245239656736603, 0.7607501639573433, 0.05433929742552453, 0.05433929742552453, 0.036226198283683016, 0.24496722372491078, 0.2897783012355652, 0.10455918085819363, 0.1209899092787669, 0.23899241339015687, 0.8453464846283121, 0.2735609434666312, 0.3617619529470563, 0.14883920349821747, 0.11438568416992638, 0.10129334682517578, 0.9365404259073259, 0.8969117481378546, 0.8734901556597849, 0.22939997607238763, 0.20052445460873045, 0.32886010555831796, 0.14277341168141608, 0.09625173821219062, 0.8471568111750327, 0.3925125665278334, 0.1984417652601741, 0.15298373973801968, 0.11102248540987715, 0.14511600455149296, 0.7758372039303449, 0.9061603285764849, 0.3759231662210247, 0.17104823182892126, 0.19657781866905874, 0.14615688465978718, 0.10977722341259125, 0.9320766745251193, 0.49993768589929455, 0.07196072751580755, 0.20830736912470607, 0.12877182818618194, 0.09089776107259902, 0.843809401737177, 0.437992427374847, 0.21858839950923464, 0.14049198438606592, 0.0825823710832463, 0.12030518256571683, 0.22159455727603247, 0.40844759497912764, 0.191547837645384, 0.07887263903045223, 0.09952975877652306, 0.3412139217984294, 0.20600259594054554, 0.199631381633106, 0.10618690512399255, 0.1465379290711097, 0.2554790766701604, 0.13738025820942587, 0.3808084350366542, 0.12532935836649378, 0.10122755868062959, 0.2521568366889177, 0.3232779957550227, 0.06034522587427091, 0.3103468759248218, 0.05387966595917045, 0.7834811637127429, 0.11192588053039185, 0.34982263036783157, 0.2806227439234845, 0.1670737589844179, 0.10399098957382533, 0.0986385121692902, 0.3621780503677025, 0.2796441782999955, 0.1524449166427059, 0.09127275263958187, 0.11457643416458149, 0.8742673575798351, 0.8025587568661489, 0.2812186321104287, 0.2706440184470518, 0.127225820637503, 0.13284358414617195, 0.18802984920192, 0.2728222053760923, 0.19659714217439014, 0.2694873588610178, 0.16436029252867027, 0.09655174672215606, 0.9448757178914521, 0.06330309333186826, 0.759637119982419, 0.06330309333186826, 0.06330309333186826, 0.06330309333186826, 0.35460052554216837, 0.2796519336177999, 0.07939866456987786, 0.19299262420524885, 0.09345152555569695, 0.889449551934447, 0.11826585652159338, 0.8278609956511537, 0.9263924683555615, 0.2831391243619466, 0.25780562376114086, 0.09835359056783409, 0.25780562376114086, 0.101334002403223, 0.09637396557348789, 0.33113106120121477, 0.08896058360629651, 0.3805536076491573, 0.10131622021828214, 0.11694166795159831, 0.23388333590319663, 0.046776667180639324, 0.5847083397579915, 0.023388333590319662, 0.05181064181152621, 0.8807809107959457, 0.05181064181152621, 0.05181064181152621, 0.7852984047909094, 0.03569538203595043, 0.07139076407190086, 0.03569538203595043, 0.10708614610785128, 0.855288522286462, 0.9373775352672016, 0.23754489105661653, 0.4679988898428863, 0.07622709190622769, 0.10281793792002805, 0.11522699939313488, 0.8870765295776746, 0.48910619721673093, 0.08453687359301522, 0.21536774939172926, 0.15498426825386125, 0.056357915728676815, 0.44214500116133737, 0.13305289386799504, 0.1576165050436249, 0.11258321788830349, 0.15352256984768659, 0.10618495133180612, 0.849479610654449, 0.13054339024267186, 0.05974019553478204, 0.24117338197374974, 0.08629139355024074, 0.4823467639474995, 0.9539680736905346, 0.6017153519380694, 0.15561603929432827, 0.062246415717731304, 0.051872013098109425, 0.1348672340550845, 0.06152720872810972, 0.861380922193536, 0.06152720872810972, 0.828627919645828, 0.1896055555521195, 0.07110208333204482, 0.6636194444324183, 0.07110208333204482, 0.023700694444014937, 0.9069023425848106, 0.8213844208466236, 0.9064465105669486, 0.9006694506162934, 0.9525131961219084, 0.0827485826086595, 0.8688601173909248, 0.25866455057785614, 0.31927967727939555, 0.15183789163850953, 0.12183040317240093, 0.1482369930225765, 0.13067572156831228, 0.6315993209135095, 0.09800679117623422, 0.054448217320130124, 0.08711714771220819, 0.9428310390555643, 0.5639535089829509, 0.06384379346976803, 0.12768758693953605, 0.1542891675519394, 0.09044537408217136, 0.8018882463997007, 0.11754325548496153, 0.029385813871240382, 0.1469290693562019, 0.6464879051672884, 0.08815744161372115, 0.7356352637555028, 0.07119050939569382, 0.023730169798564606, 0.09492067919425842, 0.07119050939569382, 0.9079774796647302, 0.06485553426176645, 0.06485553426176645, 0.6618538072602949, 0.06243903842078253, 0.09990246147325205, 0.07492684610493903, 0.11239026915740856, 0.3320476919973833, 0.2466085197875303, 0.25631751662955904, 0.07767197473623001, 0.08641007189405589, 0.9054552275282024, 0.2619132462849439, 0.16253867778805767, 0.2039220597374459, 0.20800594611403025, 0.16335545506337457, 0.847104891069887, 0.7898280763053648, 0.24721201925431777, 0.1902739740033233, 0.17441780950304636, 0.16937266625295824, 0.21838262925381424, 0.29849650812583217, 0.1295362205074366, 0.05913610066643845, 0.42240071904598897, 0.08729614860283771, 0.7679454930426854, 0.4220724996373122, 0.17529834348348194, 0.0813885166173309, 0.1518208867669442, 0.16903768835907187, 0.23936654649736827, 0.28341355040673527, 0.22557405032372807, 0.12947149633965457, 0.12235278863713062, 0.8263242667480658, 0.10901755678554492, 0.7631228974988145, 0.3095983267148258, 0.175821271961506, 0.08408843441637243, 0.3631091486161537, 0.06879962815885017, 0.09595403978125025, 0.0879578697994794, 0.495762538869793, 0.22389275948958393, 0.09595403978125025, 0.8991367466414314, 0.12063163682737527, 0.8444214577916268, 0.12063163682737527, 0.7752917112470483, 0.3305462441304821, 0.2167001505463493, 0.2276921871682656, 0.09657289317826437, 0.12876385757101916, 0.14516345975582132, 0.11437121071670771, 0.5014737700655646, 0.13636567431607458, 0.10557342527696097, 0.17940488684944877, 0.7176195473977951, 0.8534090528297754, 0.1749535567987462, 0.7872910055943578, 0.07554433607466711, 0.8309876968213382, 0.07554433607466711, 0.165033289315661, 0.3180135855914141, 0.3347023451851327, 0.12238423702060253, 0.05933781188877699, 0.8449953810086535, 0.7989043229564845, 0.09986304036956056, 0.8523919410590791, 0.0370605191764817, 0.0741210383529634, 0.0370605191764817, 0.1412792956594537, 0.8476757739567223, 0.9110827838095183, 0.38893487930751136, 0.13218701780386005, 0.39401899537689056, 0.03558881248565463, 0.05084116069379233, 0.3180022488332427, 0.28194757209477983, 0.1297968362584664, 0.1507085487667749, 0.1197015267716968, 0.811873572167555, 0.31326052330098786, 0.23871694268545532, 0.1419877726010143, 0.13755065470723263, 0.1686104799637045, 0.31090831395872814, 0.133078179838395, 0.12895628931242703, 0.16016488900904177, 0.26733404268420946, 0.8813668313009517, 0.49119508445800014, 0.18634832970682885, 0.13283291194486774, 0.12327658734451755, 0.06593863974241636, 0.8943128997983142, 0.8005680657039805, 0.9266750229993773, 0.16317282494543006, 0.19141427541675451, 0.18827633647549624, 0.07217259564894023, 0.38282855083350903, 0.19878451002068462, 0.41242073630728243, 0.11681446062997128, 0.09967786493853295, 0.17222278669895522, 0.9137139972225395, 0.8287714318387, 0.055251428789246666, 0.11050285757849333, 0.22689770519968339, 0.16718778277871407, 0.10150686811564782, 0.08359389138935704, 0.41796945694678517, 0.2560937551177927, 0.188700661665742, 0.11681469531688791, 0.36841557753787724, 0.06739309345205072, 0.8878895144385072, 0.20754499230918444, 0.21659896848374618, 0.15879281290769817, 0.2249564849525724, 0.19222287878300304, 0.8657906402112903, 0.04393077036269255, 0.7907538665284659, 0.0878615407253851, 0.04393077036269255, 0.04393077036269255, 0.13435630517487548, 0.10335100398067346, 0.6407762246801754, 0.04134040159226938, 0.07234570278647141, 0.11698345463819042, 0.19797200015693764, 0.06299109095902561, 0.5219261822319264, 0.08998727279860802, 0.9628504519955842, 0.10092433513321797, 0.07401117909769317, 0.5113499646749711, 0.18166380323979234, 0.13456578017762394, 0.9215836876390818, 0.12105248140941464, 0.2712041170037847, 0.32125466220190807, 0.12570834607900752, 0.16062733110095403, 0.38827541983158953, 0.22668432598991328, 0.12561851818080838, 0.14655493787760976, 0.11286633527457479, 0.5180454103391687, 0.16163016802582064, 0.07874290237155364, 0.12433089848140048, 0.11604217191597378, 0.8248786241663857, 0.05162168527780517, 0.748514436528175, 0.05162168527780517, 0.05162168527780517, 0.10324337055561034, 0.08994065926954951, 0.7420104389737835, 0.08994065926954951, 0.02248516481738738, 0.04497032963477476, 0.16943694320916117, 0.08471847160458058, 0.5930293012320641, 0.05294904475286286, 0.10589808950572573, 0.8700345927312075, 0.7942663561123667, 0.236601914615183, 0.15309535651570666, 0.38134661532094205, 0.15866246038900508, 0.0695887984162303, 0.824058657834947, 0.06786905949775379, 0.06786905949775379, 0.8144287139730455, 0.06786905949775379, 0.2063527168749278, 0.20263464990420837, 0.2825730897746759, 0.20077561641884867, 0.10782394215086318, 0.4326856892679306, 0.14115578411537016, 0.1186860878684337, 0.16765850276560296, 0.1394273459425289, 0.10272464519625812, 0.27393238719002166, 0.10272464519625812, 0.017120774199376354, 0.4965024517819142, 0.09004791713044807, 0.9004791713044807, 0.2221382931896525, 0.4337983650024346, 0.0859214152903373, 0.1348197817157325, 0.12294446415527938, 0.8813258489791989, 0.8484213654624707, 0.10328285199540232, 0.6056130867003137, 0.0751148014512017, 0.14553492781170327, 0.0751148014512017, 0.27551154079458856, 0.35633612556730515, 0.12389169928664583, 0.13392102732413622, 0.11032260841239414, 0.5716315171300143, 0.10369129845614211, 0.18434008614425265, 0.06646878106162957, 0.07355878437487005, 0.12062221667436834, 0.12062221667436834, 0.051695235717586434, 0.06892698095678192, 0.6548063190894281, 0.897455923489278, 0.14928609949644062, 0.4880507098922097, 0.1378025533813298, 0.14928609949644062, 0.07464304974822031, 0.8608166318289725, 0.0721411024686464, 0.0721411024686464, 0.8656932296237568, 0.8543501867505039, 0.8401035202833962, 0.8562986322918773, 0.9529611246244113, 0.1573961318899874, 0.33577841469863984, 0.19740098207869256, 0.18034973445727726, 0.12788435716061478, 0.8606918976585088, 0.8928502010498476, 0.9021111285905535, 0.18406352413969732, 0.17818915634800486, 0.11944547843108018, 0.28001153140400764, 0.23693283426492953, 0.23439577366535919, 0.07662938754444434, 0.17128921921699325, 0.17128921921699325, 0.3470860494660126, 0.8465415668461692, 0.25694746545514435, 0.24424869481750844, 0.17156849691274098, 0.12212434740875422, 0.20507163646735496, 0.8624648667345864, 0.9293221859049773, 0.8280107322273922, 0.8212710436654724, 0.12727699314769716, 0.23583678142073297, 0.05989505559891631, 0.5072362521033225, 0.06925365803624699, 0.2046954719209982, 0.492455773027329, 0.09493123335466584, 0.09789783439699914, 0.10976423856633237, 0.8879676751475039, 0.08072433410431853, 0.7033892330725475, 0.8521380225797792, 0.9162363705903567, 0.08329421550821424, 0.8001385598026585, 0.8232443804754388, 0.8059795471138057, 0.1085561734660622, 0.8684493877284976, 0.9239456885829067, 0.893885818247874, 0.32388691576230977, 0.26898037194736585, 0.14127638801822656, 0.14374409785260606, 0.12215163680178541, 0.25152932653601034, 0.02395517395581051, 0.11977586977905255, 0.5270138270278313, 0.07186552186743153, 0.5003444779630271, 0.15742925942138858, 0.10910938771779408, 0.17145760927081927, 0.06078951601419955, 0.11045346901087927, 0.5147548461450411, 0.1646381896577257, 0.1271256907483705, 0.08127708097026964, 0.31669373235516696, 0.19092540802273225, 0.10606967112374013, 0.2651741778093503, 0.12122248128427444, 0.22351231321522227, 0.12699563250864904, 0.09651668070657327, 0.38733667915137954, 0.1663642785863302, 0.9144796585191605, 0.05363864549326022, 0.22796424334635595, 0.02681932274663011, 0.6570734072924378, 0.04022898411994517, 0.18945653841235977, 0.26321442741259143, 0.3254024514716103, 0.09400515264735408, 0.1287147474709925, 0.2373800031719775, 0.6056680963285014, 0.05759955959320042, 0.012218088398557665, 0.08727205998969761, 0.14295046271739478, 0.27160587916305007, 0.24142744814493342, 0.10641867780072722, 0.23825077119565796, 0.37734463230944854, 0.2827833282700879, 0.1449939995270196, 0.08375429786343368, 0.11167239715124491, 0.22842275835627104, 0.17343209430753914, 0.14382173674283733, 0.08037097053276204, 0.3743595206394442, 0.31132757343423917, 0.1941463709612182, 0.2537770420421638, 0.12827528081366202, 0.11232754319899052, 0.07465512168398492, 0.8709764196464908, 0.024885040561328307, 0.024885040561328307, 0.2759873672370765, 0.1825496378903547, 0.23618981584865797, 0.1790889812478835, 0.12717913161081582, 0.0996211689037037, 0.14943175335555556, 0.21584586595802469, 0.40401918499835393, 0.13006097051316873, 0.20505673881455078, 0.4036037398889571, 0.10806164648639818, 0.1314967023509183, 0.15232786311938057, 0.9056384526706779, 0.9020860017141388, 0.09020860017141388, 0.29558250574528777, 0.20133880826128298, 0.16792513369877218, 0.19791176471641006, 0.13793850268113428, 0.34276707150098473, 0.15929424069755307, 0.16569445572557975, 0.1649833207224657, 0.16782786073492198, 0.8954179816165171, 0.8656313435179226, 0.07173995119811034, 0.7891394631792138, 0.03586997559905517, 0.03586997559905517, 0.07173995119811034, 0.8969406676764611, 0.30354935769635366, 0.23775310952542994, 0.20602158558484263, 0.1290259760231234, 0.12342629532772566, 0.15594191822643405, 0.5830871724988403, 0.02034025020344792, 0.15594191822643405, 0.08814108421494098, 0.12260605451566366, 0.735636327093982, 0.059898658906424866, 0.059898658906424866, 0.8385812246899481, 0.8542089281988439, 0.8041385001163633, 0.8475093238332734, 0.15409260433332242, 0.23491967438566672, 0.2811917314616314, 0.19893029665991643, 0.12655605354109992, 0.1581950669263749, 0.90292763835714, 0.9559660421668166, 0.18518686858756472, 0.21505571835975257, 0.13739670895206416, 0.08960654931656357, 0.37037373717512945, 0.7994703654357893, 0.12411993408021847, 0.8688395385615294, 0.9285340347231196, 0.24931281917591783, 0.13266186708443334, 0.1738327913520161, 0.30420738486602816, 0.13952368779569713, 0.7789007365871187, 0.93127414765217, 0.9103095472596675, 0.8852426800007539, 0.44383359665429356, 0.16532801475372436, 0.14535550290428115, 0.14202675092937395, 0.10430089521375899, 0.8716351502672404, 0.253716820493573, 0.2902143677571497, 0.2990444195144666, 0.06063302206690957, 0.09654189921333174, 0.2138473778344207, 0.23328804854664079, 0.18697350949694003, 0.17725317414083, 0.1886888627950771, 0.1580721092452454, 0.3377387689338303, 0.1528894171388439, 0.18744069784818718, 0.16411858336938048, 0.2625845992423978, 0.19444555766683888, 0.31493532630654675, 0.10968723765821681, 0.11882784079640153, 0.16762684754088386, 0.4425348775079334, 0.138571527300464, 0.11398625632780103, 0.14080655193434244, 0.14005689213287942, 0.23365588833875492, 0.17216749667066153, 0.28489621472883275, 0.1694346792631907, 0.9853009521778602, 0.9601625803209485], \"Term\": [\"6:30\", \"6:30\", \"6:30\", \"able\", \"able\", \"able\", \"able\", \"able\", \"absolutely\", \"absolutely\", \"absolutely\", \"absolutely\", \"absolutely\", \"acai\", \"acai\", \"acai\", \"acetone\", \"alley\", \"alley\", \"alley\", \"alley\", \"alliance\", \"amazing\", \"amazing\", \"amazing\", \"amazing\", \"amazing\", \"amd\", \"anal\", \"andy\", \"andy\", \"antonio\", \"appetizer\", \"appetizer\", \"appetizer\", \"appetizer\", \"appetizer\", \"applesauce\", \"area\", \"area\", \"area\", \"area\", \"area\", \"argumentative\", \"asado\", \"asado\", \"asado\", \"ask\", \"ask\", \"ask\", \"ask\", \"ask\", \"atomic\", \"awsome\", \"awsome\", \"ayce\", \"ayce\", \"ayce\", \"ayce\", \"ayce\", \"bachi\", \"bad\", \"bad\", \"bad\", \"bad\", \"bad\", \"bagel\", \"bagel\", \"bagel\", \"bagel\", \"bagel\", \"bakersfield\", \"bakersfield\", \"bao\", \"bao\", \"bar\", \"bar\", \"bar\", \"bar\", \"bar\", \"barber\", \"barber\", \"barber\", \"barber\", \"barber\", \"beef\", \"beef\", \"beef\", \"beef\", \"beef\", \"bennett\", \"bi\", \"bicycle\", \"bike\", \"bike\", \"bike\", \"bike\", \"bike\", \"binge\", \"biryani\", \"biryani\", \"biryani\", \"biryani\", \"biscuit\", \"biscuit\", \"biscuit\", \"biscuit\", \"biscuit\", \"bi\\u00e8re\", \"blowout\", \"botanical\", \"bowling\", \"bowling\", \"bowling\", \"bowling\", \"bracelet\", \"breezy\", \"britney\", \"broth\", \"broth\", \"broth\", \"broth\", \"broth\", \"brunch\", \"brunch\", \"brunch\", \"brunch\", \"brunch\", \"bumper\", \"bumper\", \"bumper\", \"burger\", \"burger\", \"burger\", \"burger\", \"burger\", \"burro\", \"burro\", \"business\", \"business\", \"business\", \"business\", \"business\", \"cajun\", \"cajun\", \"cajun\", \"cajun\", \"cajun\", \"cal\", \"cal\", \"caliber\", \"caliber\", \"caliber\", \"call\", \"call\", \"call\", \"call\", \"call\", \"canal\", \"canal\", \"canal\", \"canal\", \"canal\", \"car\", \"car\", \"car\", \"car\", \"car\", \"cha\", \"cha\", \"cheap\", \"cheap\", \"cheap\", \"cheap\", \"cheap\", \"cheese\", \"cheese\", \"cheese\", \"cheese\", \"cheese\", \"chicken\", \"chicken\", \"chicken\", \"chicken\", \"chicken\", \"chief\", \"chimi\", \"chimi\", \"cirque\", \"cirque\", \"cirque\", \"cirque\", \"cirque\", \"close\", \"close\", \"close\", \"close\", \"close\", \"clown\", \"clown\", \"coast\", \"coast\", \"coast\", \"coast\", \"cobbler\", \"cobbler\", \"coca\", \"coca\", \"coffee\", \"coffee\", \"coffee\", \"coffee\", \"coffee\", \"come\", \"come\", \"come\", \"come\", \"come\", \"contractor\", \"contractor\", \"contractor\", \"contractor\", \"convenient\", \"convenient\", \"convenient\", \"convenient\", \"convenient\", \"courtney\", \"cream\", \"cream\", \"cream\", \"cream\", \"cream\", \"crinkle\", \"crinkle\", \"croissant\", \"croissant\", \"croissant\", \"croissant\", \"croissant\", \"customer\", \"customer\", \"customer\", \"customer\", \"customer\", \"cut\", \"cut\", \"cut\", \"cut\", \"cut\", \"dane\", \"darling\", \"day\", \"day\", \"day\", \"day\", \"day\", \"de\", \"de\", \"de\", \"de\", \"de\", \"dean\", \"defective\", \"definitely\", \"definitely\", \"definitely\", \"definitely\", \"definitely\", \"dennis\", \"dennis\", \"dennis\", \"dental\", \"dental\", \"dental\", \"dental\", \"dental\", \"dentist\", \"dentist\", \"dentist\", \"dentist\", \"dentist\", \"depot\", \"depot\", \"depot\", \"depot\", \"depot\", \"different\", \"different\", \"different\", \"different\", \"different\", \"dish\", \"dish\", \"dish\", \"dish\", \"dish\", \"dismissive\", \"dismissive\", \"dismissive\", \"disposal\", \"disposal\", \"doctor\", \"doctor\", \"doctor\", \"doctor\", \"doctor\", \"dog\", \"dog\", \"dog\", \"dog\", \"dog\", \"dolphin\", \"donair\", \"downright\", \"dr.\", \"dr.\", \"dr.\", \"dr.\", \"dr.\", \"drink\", \"drink\", \"drink\", \"drink\", \"drink\", \"eat\", \"eat\", \"eat\", \"eat\", \"eat\", \"eclair\", \"eclair\", \"eclectic\", \"eclectic\", \"eclectic\", \"eclectic\", \"embassy\", \"embassy\", \"erica\", \"estimate\", \"estimate\", \"estimate\", \"estimate\", \"estimate\", \"excellent\", \"excellent\", \"excellent\", \"excellent\", \"excellent\", \"exhibition\", \"experience\", \"experience\", \"experience\", \"experience\", \"experience\", \"eyeglass\", \"falls\", \"fascinating\", \"favorite\", \"favorite\", \"favorite\", \"favorite\", \"favorite\", \"favour\", \"feel\", \"feel\", \"feel\", \"feel\", \"feel\", \"fender\", \"festival\", \"find\", \"find\", \"find\", \"find\", \"find\", \"flagstaff\", \"floor\", \"floor\", \"floor\", \"floor\", \"floor\", \"foggy\", \"food\", \"food\", \"food\", \"food\", \"food\", \"friend\", \"friend\", \"friend\", \"friend\", \"friend\", \"friendly\", \"friendly\", \"friendly\", \"friendly\", \"friendly\", \"fry\", \"fry\", \"fry\", \"fry\", \"fry\", \"fun\", \"fun\", \"fun\", \"fun\", \"fun\", \"gay\", \"gay\", \"get\", \"get\", \"get\", \"get\", \"get\", \"give\", \"give\", \"give\", \"give\", \"give\", \"gladstone\", \"gland\", \"go\", \"go\", \"go\", \"go\", \"go\", \"good\", \"good\", \"good\", \"good\", \"good\", \"gosh\", \"gras\", \"gras\", \"gras\", \"gras\", \"gras\", \"great\", \"great\", \"great\", \"great\", \"great\", \"grinder\", \"gristle\", \"gristle\", \"grubhub\", \"guy\", \"guy\", \"guy\", \"guy\", \"guy\", \"hair\", \"hair\", \"hair\", \"hair\", \"hair\", \"haircut\", \"haircut\", \"haircut\", \"haircut\", \"haircut\", \"halal\", \"halal\", \"halal\", \"halal\", \"hallway\", \"hallway\", \"hallway\", \"hallway\", \"hallway\", \"handedly\", \"heap\", \"highly\", \"highly\", \"highly\", \"highly\", \"highly\", \"hoa\", \"hotel\", \"hotel\", \"hotel\", \"hotel\", \"hotel\", \"huge\", \"huge\", \"huge\", \"huge\", \"huge\", \"ian\", \"ian\", \"ice\", \"ice\", \"ice\", \"ice\", \"ice\", \"ike\", \"indian\", \"indian\", \"indian\", \"indian\", \"indian\", \"instruct\", \"instruct\", \"instruct\", \"irritation\", \"jalape\\u00f1o\", \"jalape\\u00f1o\", \"jalape\\u00f1o\", \"jalape\\u00f1o\", \"jalape\\u00f1o\", \"jambalaya\", \"jane\", \"jeni\", \"juicing\", \"justin\", \"knife\", \"knife\", \"know\", \"know\", \"know\", \"know\", \"know\", \"korean\", \"korean\", \"korean\", \"korean\", \"korean\", \"l.a.\", \"la\", \"la\", \"la\", \"la\", \"la\", \"lactose\", \"lane\", \"lane\", \"lane\", \"lane\", \"lane\", \"lash\", \"lash\", \"lash\", \"lash\", \"lash\", \"lawyer\", \"lawyer\", \"lawyer\", \"le\", \"le\", \"le\", \"le\", \"le\", \"leave\", \"leave\", \"leave\", \"leave\", \"leave\", \"lense\", \"like\", \"like\", \"like\", \"like\", \"like\", \"linda\", \"listener\", \"little\", \"little\", \"little\", \"little\", \"little\", \"local\", \"local\", \"local\", \"local\", \"local\", \"lola\", \"look\", \"look\", \"look\", \"look\", \"look\", \"love\", \"love\", \"love\", \"love\", \"love\", \"machaca\", \"mahi\", \"mahi\", \"man\", \"man\", \"man\", \"man\", \"man\", \"margarita\", \"margarita\", \"margarita\", \"margarita\", \"margarita\", \"margaritas\", \"mastro\", \"mastro\", \"mastro\", \"maternity\", \"menu\", \"menu\", \"menu\", \"menu\", \"menu\", \"mexican\", \"mexican\", \"mexican\", \"mexican\", \"mexican\", \"michelle\", \"michelle\", \"miguel\", \"mince\", \"mince\", \"ming\", \"ming\", \"ming\", \"minute\", \"minute\", \"minute\", \"minute\", \"minute\", \"moe\", \"mont\", \"mont\", \"motel\", \"motel\", \"motel\", \"motel\", \"moving\", \"moving\", \"musician\", \"nail\", \"nail\", \"nail\", \"nail\", \"nail\", \"need\", \"need\", \"need\", \"need\", \"need\", \"neuter\", \"new\", \"new\", \"new\", \"new\", \"new\", \"nice\", \"nice\", \"nice\", \"nice\", \"nice\", \"nielsen\", \"night\", \"night\", \"night\", \"night\", \"night\", \"ninja\", \"nitro\", \"ob\", \"office\", \"office\", \"office\", \"office\", \"office\", \"order\", \"order\", \"order\", \"order\", \"order\", \"outgoing\", \"pakora\", \"pakora\", \"pakora\", \"patient\", \"patient\", \"patient\", \"patient\", \"patient\", \"patio\", \"patio\", \"patio\", \"patio\", \"patio\", \"pearson\", \"people\", \"people\", \"people\", \"people\", \"people\", \"pertain\", \"pest\", \"pest\", \"pest\", \"pest\", \"pest\", \"pet\", \"pet\", \"pet\", \"pet\", \"pet\", \"pho\", \"pho\", \"pho\", \"pho\", \"pho\", \"picasso\", \"pie\", \"pie\", \"pie\", \"pie\", \"pie\", \"pierogie\", \"pizza\", \"pizza\", \"pizza\", \"pizza\", \"pizza\", \"place\", \"place\", \"place\", \"place\", \"place\", \"play\", \"play\", \"play\", \"play\", \"play\", \"playful\", \"plumber\", \"plumber\", \"plumber\", \"plumber\", \"plumber\", \"plumbing\", \"plumbing\", \"plumbing\", \"plumbing\", \"plumbing\", \"polish\", \"polish\", \"polish\", \"polish\", \"polish\", \"poo\", \"popeyes\", \"potato\", \"potato\", \"potato\", \"potato\", \"potato\", \"prefect\", \"pregnancy\", \"pregnancy\", \"pregnancy\", \"pregnancy\", \"pretty\", \"pretty\", \"pretty\", \"pretty\", \"pretty\", \"price\", \"price\", \"price\", \"price\", \"price\", \"procedure\", \"procedure\", \"procedure\", \"procedure\", \"procedure\", \"ram\", \"ram\", \"recommend\", \"recommend\", \"recommend\", \"recommend\", \"recommend\", \"reiterate\", \"renewal\", \"repair\", \"repair\", \"repair\", \"repair\", \"repair\", \"restaurant\", \"restaurant\", \"restaurant\", \"restaurant\", \"restaurant\", \"room\", \"room\", \"room\", \"room\", \"room\", \"root\", \"root\", \"root\", \"root\", \"root\", \"rotisserie\", \"rude\", \"rude\", \"rude\", \"rude\", \"rude\", \"russo\", \"rye\", \"rye\", \"rye\", \"safely\", \"saliva\", \"samantha\", \"sate\", \"say\", \"say\", \"say\", \"say\", \"say\", \"scar\", \"schwartz\", \"sedona\", \"selection\", \"selection\", \"selection\", \"selection\", \"selection\", \"sell\", \"sell\", \"sell\", \"sell\", \"sell\", \"serenity\", \"service\", \"service\", \"service\", \"service\", \"service\", \"shanghai\", \"shank\", \"shed\", \"shield\", \"shop\", \"shop\", \"shop\", \"shop\", \"shop\", \"show\", \"show\", \"show\", \"show\", \"show\", \"singing\", \"singing\", \"skincare\", \"smattering\", \"snooze\", \"snooze\", \"sns\", \"soleil\", \"solutions\", \"sonic\", \"sonic\", \"sporting\", \"springs\", \"staff\", \"staff\", \"staff\", \"staff\", \"staff\", \"starbucks\", \"starbucks\", \"starbucks\", \"starbucks\", \"starbucks\", \"stay\", \"stay\", \"stay\", \"stay\", \"stay\", \"steak\", \"steak\", \"steak\", \"steak\", \"steak\", \"stop\", \"stop\", \"stop\", \"stop\", \"stop\", \"store\", \"store\", \"store\", \"store\", \"store\", \"strain\", \"stylist\", \"stylist\", \"stylist\", \"stylist\", \"stylist\", \"super\", \"super\", \"super\", \"super\", \"super\", \"sushi\", \"sushi\", \"sushi\", \"sushi\", \"sushi\", \"sweet\", \"sweet\", \"sweet\", \"sweet\", \"sweet\", \"table\", \"table\", \"table\", \"table\", \"table\", \"taco\", \"taco\", \"taco\", \"taco\", \"taco\", \"take\", \"take\", \"take\", \"take\", \"take\", \"tamale\", \"tamale\", \"tamale\", \"tamale\", \"taste\", \"taste\", \"taste\", \"taste\", \"taste\", \"tea\", \"tea\", \"tea\", \"tea\", \"tea\", \"tell\", \"tell\", \"tell\", \"tell\", \"tell\", \"teller\", \"termite\", \"termite\", \"thing\", \"thing\", \"thing\", \"thing\", \"thing\", \"think\", \"think\", \"think\", \"think\", \"think\", \"thrifty\", \"thurs\", \"tie\", \"tie\", \"tie\", \"tie\", \"tie\", \"tiki\", \"time\", \"time\", \"time\", \"time\", \"time\", \"tire\", \"tire\", \"tire\", \"tire\", \"tire\", \"tj\", \"tj\", \"torta\", \"torta\", \"torta\", \"towing\", \"traditionally\", \"trustworthy\", \"trustworthy\", \"try\", \"try\", \"try\", \"try\", \"try\", \"turtle\", \"und\", \"unique\", \"unique\", \"unique\", \"unique\", \"unique\", \"uniquely\", \"upcharge\", \"upcharge\", \"uppity\", \"usually\", \"usually\", \"usually\", \"usually\", \"usually\", \"vain\", \"vanessa\", \"victor\", \"visibly\", \"visit\", \"visit\", \"visit\", \"visit\", \"visit\", \"vital\", \"wait\", \"wait\", \"wait\", \"wait\", \"wait\", \"want\", \"want\", \"want\", \"want\", \"want\", \"way\", \"way\", \"way\", \"way\", \"way\", \"well\", \"well\", \"well\", \"well\", \"well\", \"wine\", \"wine\", \"wine\", \"wine\", \"wine\", \"work\", \"work\", \"work\", \"work\", \"work\", \"yuk\", \"zach\"]}, \"R\": 30, \"lambda.step\": 0.01, \"plot.opts\": {\"xlab\": \"PC1\", \"ylab\": \"PC2\"}, \"topic.order\": [2, 1, 5, 3, 4]};\n",
              "\n",
              "function LDAvis_load_lib(url, callback){\n",
              "  var s = document.createElement('script');\n",
              "  s.src = url;\n",
              "  s.async = true;\n",
              "  s.onreadystatechange = s.onload = callback;\n",
              "  s.onerror = function(){console.warn(\"failed to load library \" + url);};\n",
              "  document.getElementsByTagName(\"head\")[0].appendChild(s);\n",
              "}\n",
              "\n",
              "if(typeof(LDAvis) !== \"undefined\"){\n",
              "   // already loaded: just create the visualization\n",
              "   !function(LDAvis){\n",
              "       new LDAvis(\"#\" + \"ldavis_el3761406164532584484323897822\", ldavis_el3761406164532584484323897822_data);\n",
              "   }(LDAvis);\n",
              "}else if(typeof define === \"function\" && define.amd){\n",
              "   // require.js is available: use it to load d3/LDAvis\n",
              "   require.config({paths: {d3: \"https://d3js.org/d3.v5\"}});\n",
              "   require([\"d3\"], function(d3){\n",
              "      window.d3 = d3;\n",
              "      LDAvis_load_lib(\"https://cdn.jsdelivr.net/gh/bmabey/pyLDAvis@3.3.1/pyLDAvis/js/ldavis.v3.0.0.js\", function(){\n",
              "        new LDAvis(\"#\" + \"ldavis_el3761406164532584484323897822\", ldavis_el3761406164532584484323897822_data);\n",
              "      });\n",
              "    });\n",
              "}else{\n",
              "    // require.js not available: dynamically load d3 & LDAvis\n",
              "    LDAvis_load_lib(\"https://d3js.org/d3.v5.js\", function(){\n",
              "         LDAvis_load_lib(\"https://cdn.jsdelivr.net/gh/bmabey/pyLDAvis@3.3.1/pyLDAvis/js/ldavis.v3.0.0.js\", function(){\n",
              "                 new LDAvis(\"#\" + \"ldavis_el3761406164532584484323897822\", ldavis_el3761406164532584484323897822_data);\n",
              "            })\n",
              "         });\n",
              "}\n",
              "</script>"
            ]
          },
          "metadata": {},
          "execution_count": 87
        }
      ],
      "source": [
        "\n",
        "# Use a ploting tool of your choice to visualize your results. \n",
        "\n",
        "# YOUR CODE HERE\n",
        "# pyLDAvis.enable_notebook()\n",
        "# visual_plot = pyLDAvis.gensim_models.prepare(lda, corpus, id2word)\n",
        "# visual_plot"
      ]
    },
    {
      "cell_type": "code",
      "source": [
        "f, visual_plot = plt.subplots()\n",
        "plt.plot(gs.predict(X[:20]), y[y[:20]])"
      ],
      "metadata": {
        "colab": {
          "base_uri": "https://localhost:8080/",
          "height": 285
        },
        "id": "SQyCftmYiHLa",
        "outputId": "bbd64b5b-f3f1-483d-e4bb-1abccf9165cb"
      },
      "execution_count": null,
      "outputs": [
        {
          "output_type": "execute_result",
          "data": {
            "text/plain": [
              "[<matplotlib.lines.Line2D at 0x7fe3d1af6910>]"
            ]
          },
          "metadata": {},
          "execution_count": 90
        },
        {
          "output_type": "display_data",
          "data": {
            "text/plain": [
              "<Figure size 432x288 with 1 Axes>"
            ],
            "image/png": "[encoded data removed]"
          },
          "metadata": {
            "needs_background": "light"
          }
        }
      ]
    },
    {
      "cell_type": "code",
      "execution_count": null,
      "metadata": {
        "deletable": false,
        "editable": false,
        "nbgrader": {
          "cell_type": "code",
          "checksum": "97e1c557c7e019c69cc2714b055fb767",
          "grade": true,
          "grade_id": "cell-f5fa579a25122b47",
          "locked": true,
          "points": 1,
          "schema_version": 3,
          "solution": false,
          "task": false
        },
        "id": "LGsRaGrZ8eE-"
      },
      "outputs": [],
      "source": [
        "# Visible Testing\n",
        "assert visual_plot.__module__ == 'matplotlib.axes._subplots', \"You must create and assign to visual_plot a visualization\"\n"
      ]
    },
    {
      "cell_type": "code",
      "source": [],
      "metadata": {
        "id": "jjp_bu0n7E8M"
      },
      "execution_count": null,
      "outputs": []
    }
  ],
  "metadata": {
    "kernel_info": {
      "name": "u4-s1-nlp"
    },
    "kernelspec": {
      "display_name": "Python 3",
      "language": "python",
      "name": "python3"
    },
    "language_info": {
      "codemirror_mode": {
        "name": "ipython",
        "version": 3
      },
      "file_extension": ".py",
      "mimetype": "text/x-python",
      "name": "python",
      "nbconvert_exporter": "python",
      "pygments_lexer": "ipython3",
      "version": "3.8.8"
    },
    "nteract": {
      "version": "0.15.0"
    },
    "toc-autonumbering": false,
    "colab": {
      "provenance": [],
      "collapsed_sections": []
    }
  },
  "nbformat": 4,
  "nbformat_minor": 0
}