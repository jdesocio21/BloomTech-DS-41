{
  "cells": [
    {
      "cell_type": "markdown",
      "metadata": {
        "deletable": false,
        "editable": false,
        "nbgrader": {
          "cell_type": "markdown",
          "checksum": "914bed5d35f91c57b81b0d694bdd0e94",
          "grade": false,
          "grade_id": "cell-89fa18eaaf69c47f",
          "locked": true,
          "schema_version": 3,
          "solution": false,
          "task": false
        },
        "id": "UrRS0aO-H6B_"
      },
      "source": [
        "\n",
        "## *Data Science Unit 4 Sprint 2*\n",
        "\n",
        "# Sprint Challenge - Neural Network Foundations\n",
        "\n",
        "Table of Problems\n",
        "\n",
        "1. [Defining Neural Networks](#Q1)\n",
        "2. [Simple Perceptron](#Q2)\n",
        "    - Perceptron\n",
        "    - Multilayer Perceptron (i.e. Neural Network)\n",
        "    - Analyze and Compare\n",
        "4. [Keras MMP](#Q3)\n",
        "\n",
        "\n",
        "____\n",
        "\n",
        "# Before you submit your notebook you must first\n",
        "\n",
        "1) Restart your notebook's Kernel\n",
        "\n",
        "2) Run all cells sequentially, from top to bottom, so that cell numbers are sequential numbers (i.e. 1,2,3,4,5...)\n",
        "- Easiest way to do this is to click on the **Cell** tab at the top of your notebook and select **Run All** from the drop down menu. \n",
        "\n",
        "____"
      ]
    },
    {
      "cell_type": "markdown",
      "metadata": {
        "deletable": false,
        "editable": false,
        "nbgrader": {
          "cell_type": "markdown",
          "checksum": "80b53343211b3ec6d5a7d63295854bf8",
          "grade": false,
          "grade_id": "cell-d282993617980687",
          "locked": true,
          "schema_version": 3,
          "solution": false,
          "task": false
        },
        "id": "nPPKDFhYH6CB"
      },
      "source": [
        "## Part 0: Import Packages\n",
        "\n",
        "For this notebook, you will need to import: \n",
        "\n",
        "- `numpy`\n",
        "- `pandas`\n",
        "- `matplotlib`\n",
        "- `StandardScaler`\n",
        "- `tensorflow`\n",
        "- `keras`\n",
        "- `Sequential`\n",
        "- `Dense`\n",
        "- `GridSearchCV`\n",
        "- `KerasClassifier`\n",
        "\n",
        "You will also need to install `!pip install mlxtend` if you are working on a notebook. **Be sure to delete the install statement afterwards so that CodeGrade doesn't try to install it and potentially crash.**\n",
        "\n"
      ]
    },
    {
      "cell_type": "code",
      "execution_count": null,
      "metadata": {
        "deletable": false,
        "nbgrader": {
          "cell_type": "code",
          "checksum": "84e2be87dc9ad72d512f91665cd5c2c3",
          "grade": false,
          "grade_id": "cell-22a157c6967388c1",
          "locked": false,
          "schema_version": 3,
          "solution": true,
          "task": false
        },
        "id": "pLz50lyHH6CB"
      },
      "outputs": [],
      "source": [
        "# YOUR CODE HERE\n",
        "import numpy as np # numpy\n",
        "import pandas as pd # pandas\n",
        "import matplotlib.pyplot as plt # matplotlib\n",
        "import seaborn as sns # seaborn (for plotting)\n",
        "import tensorflow as tf # tensorflow \n",
        "from tensorflow.keras import Sequential # sequential \n",
        "from tensorflow.keras.layers import Dense # dense \n",
        "from sklearn.model_selection import GridSearchCV # GridSearchCV\n",
        "from tensorflow.keras.wrappers.scikit_learn import KerasClassifier #KerasClassifier \n",
        "# from tensorflow.keras.optimizers import SGD"
      ]
    },
    {
      "cell_type": "code",
      "source": [
        "# from tensorflow.python.keras import Sequential"
      ],
      "metadata": {
        "id": "fKO7WLFCrdES"
      },
      "execution_count": null,
      "outputs": []
    },
    {
      "cell_type": "code",
      "execution_count": null,
      "metadata": {
        "deletable": false,
        "editable": false,
        "nbgrader": {
          "cell_type": "code",
          "checksum": "111db249c60793826d6f0ef305781ea4",
          "grade": true,
          "grade_id": "cell-ee3f0bbd9fd79ceb",
          "locked": true,
          "points": 1,
          "schema_version": 3,
          "solution": false,
          "task": false
        },
        "id": "RuAK6o4MH6CC"
      },
      "outputs": [],
      "source": [
        "# Visible Testing\n",
        "assert pd.__package__ == 'pandas'\n",
        "assert GridSearchCV.__module__ == 'sklearn.model_selection._search'"
      ]
    },
    {
      "cell_type": "markdown",
      "metadata": {
        "deletable": false,
        "editable": false,
        "nbgrader": {
          "cell_type": "markdown",
          "checksum": "9b2b58b20b3c75b2f8ac786fda7fa46d",
          "grade": false,
          "grade_id": "cell-6adae65226f09553",
          "locked": true,
          "schema_version": 3,
          "solution": false,
          "task": false
        },
        "id": "qc7V3lSFH6CC"
      },
      "source": [
        "<a id=\"Q1\"></a>\n",
        "## Part 1: Review: \n",
        "### Defining Neural Networks \n",
        "\n",
        "\n",
        "- **Neuron:** An individual node of a neural network. It takes in a combination of inputs and weights, multiplies them together, adds a bias term, and then passes the result through an activation function. The result of this process is what the neuron will pass onto the subsequent layer. Neural Network nodes are modeled after the neurons in the human brain. They have a activation function that decides how much signal to pass onto other neurons. In the human brain there is an electrochemical threshold that decides when and when not to fire. \n",
        "- **Input Layer:** The first layer of nodes in a neural network. This layer receives values from our dataset and combines them with the weights and biases before passing the data to the first hidden layer. \n",
        "- **Hidden Layer:** The middle layers of a neural network that are not the input layer or output layer. These nodes perform the same operations as all others, but are not directly accessible during training. Having multiple hidden layers in a neural network architecture is what determines the designation of \"Deep Learning.\"\n",
        "- **Output Layer:** The final layer of our neural network, the output layer outputs our model's final predictions. For regression problems this is a single node that outputs a continuous value. For binary classification, it is a single node that outputs a probability between 0 & 1, and for multi-class implementations the output layer typically includes a node for each of the classes that we are trying to predict.\n",
        "- **Activation:** Activation functions express how strongly or weakly signal should be passed to the next layer given the weighted sum of the previous input + a bias term. The resulting output is usually referred to as an 'activation'. "
      ]
    },
    {
      "cell_type": "markdown",
      "metadata": {
        "id": "VYfBiWKwH6CD"
      },
      "source": [
        "<a id=\"Q2\"></a>\n",
        "## Part 2. Simple Perceptron\n",
        "\n",
        "For this task, you will build two neural networks using `Keras`. After you build these two models, compare the results of the model."
      ]
    },
    {
      "cell_type": "code",
      "execution_count": null,
      "metadata": {
        "id": "dJaQ5Fq_H6CD"
      },
      "outputs": [],
      "source": [
        "\"\"\"\n",
        "Our Dataset\n",
        "\"\"\"\n",
        "\n",
        "\n",
        "rng = np.random.RandomState(0)\n",
        "\n",
        "\"Use this X & y in the following 2 models\"\n",
        "X = rng.randn(300, 2)\n",
        "y = np.array(np.logical_xor(X[:, 0] > 0, X[:, 1] > 0), \n",
        "             dtype=int)"
      ]
    },
    {
      "cell_type": "code",
      "source": [
        "X.shape"
      ],
      "metadata": {
        "colab": {
          "base_uri": "https://localhost:8080/"
        },
        "id": "sZdp1F1X9ZTa",
        "outputId": "7bb1d436-4020-4da7-acbc-c67fb8bc6113"
      },
      "execution_count": null,
      "outputs": [
        {
          "output_type": "execute_result",
          "data": {
            "text/plain": [
              "(300, 2)"
            ]
          },
          "metadata": {},
          "execution_count": 5
        }
      ]
    },
    {
      "cell_type": "code",
      "source": [
        "y.shape"
      ],
      "metadata": {
        "colab": {
          "base_uri": "https://localhost:8080/"
        },
        "id": "deHj3wYn9e3A",
        "outputId": "667d4f2b-b0a9-4db3-8f38-090cf9a3881f"
      },
      "execution_count": null,
      "outputs": [
        {
          "output_type": "execute_result",
          "data": {
            "text/plain": [
              "(300,)"
            ]
          },
          "metadata": {},
          "execution_count": 6
        }
      ]
    },
    {
      "cell_type": "code",
      "source": [
        "y"
      ],
      "metadata": {
        "colab": {
          "base_uri": "https://localhost:8080/"
        },
        "id": "SzntI9_rqsvK",
        "outputId": "03ae9b5f-ab6d-4766-ffc2-f7fdba684355"
      },
      "execution_count": null,
      "outputs": [
        {
          "output_type": "execute_result",
          "data": {
            "text/plain": [
              "array([0, 0, 1, 1, 1, 0, 0, 0, 1, 1, 1, 1, 1, 1, 0, 0, 0, 1, 0, 0, 0, 1,\n",
              "       0, 1, 0, 1, 0, 1, 0, 0, 0, 0, 1, 1, 1, 0, 1, 1, 0, 1, 1, 1, 0, 1,\n",
              "       1, 1, 0, 0, 0, 0, 1, 1, 1, 0, 0, 0, 1, 1, 1, 0, 1, 0, 0, 1, 0, 1,\n",
              "       1, 1, 1, 1, 1, 0, 0, 1, 0, 1, 0, 0, 1, 0, 1, 0, 1, 0, 0, 0, 1, 1,\n",
              "       0, 1, 0, 0, 1, 1, 1, 1, 0, 1, 0, 0, 0, 0, 1, 0, 1, 0, 1, 0, 1, 1,\n",
              "       0, 1, 1, 0, 0, 0, 1, 1, 1, 0, 0, 0, 0, 0, 0, 1, 1, 0, 0, 1, 0, 0,\n",
              "       1, 0, 1, 1, 0, 0, 1, 1, 1, 1, 0, 1, 0, 0, 1, 1, 0, 1, 1, 0, 1, 0,\n",
              "       1, 1, 0, 1, 0, 0, 0, 1, 0, 1, 1, 1, 1, 1, 1, 1, 1, 0, 0, 1, 0, 0,\n",
              "       1, 0, 0, 1, 0, 0, 1, 0, 0, 1, 1, 0, 1, 1, 1, 0, 1, 0, 0, 1, 0, 0,\n",
              "       0, 0, 0, 0, 1, 0, 0, 1, 0, 0, 0, 0, 0, 1, 1, 1, 1, 0, 0, 1, 0, 0,\n",
              "       0, 1, 1, 1, 0, 1, 0, 0, 0, 1, 0, 1, 1, 0, 1, 0, 0, 0, 1, 0, 0, 0,\n",
              "       1, 0, 1, 0, 0, 1, 0, 0, 1, 1, 0, 0, 1, 0, 0, 1, 0, 0, 0, 0, 1, 0,\n",
              "       1, 1, 0, 0, 0, 0, 1, 1, 0, 1, 1, 0, 1, 1, 1, 0, 1, 1, 1, 0, 0, 1,\n",
              "       0, 1, 0, 1, 0, 1, 0, 1, 0, 0, 0, 0, 0, 0])"
            ]
          },
          "metadata": {},
          "execution_count": 7
        }
      ]
    },
    {
      "cell_type": "code",
      "source": [
        "X\n"
      ],
      "metadata": {
        "colab": {
          "base_uri": "https://localhost:8080/"
        },
        "id": "jyQ5HBfeqqwo",
        "outputId": "2547d6a2-cdb8-41c4-ab6d-e69d20383c59"
      },
      "execution_count": null,
      "outputs": [
        {
          "output_type": "execute_result",
          "data": {
            "text/plain": [
              "array([[ 1.76405235,  0.40015721],\n",
              "       [ 0.97873798,  2.2408932 ],\n",
              "       [ 1.86755799, -0.97727788],\n",
              "       [ 0.95008842, -0.15135721],\n",
              "       [-0.10321885,  0.4105985 ],\n",
              "       [ 0.14404357,  1.45427351],\n",
              "       [ 0.76103773,  0.12167502],\n",
              "       [ 0.44386323,  0.33367433],\n",
              "       [ 1.49407907, -0.20515826],\n",
              "       [ 0.3130677 , -0.85409574],\n",
              "       [-2.55298982,  0.6536186 ],\n",
              "       [ 0.8644362 , -0.74216502],\n",
              "       [ 2.26975462, -1.45436567],\n",
              "       [ 0.04575852, -0.18718385],\n",
              "       [ 1.53277921,  1.46935877],\n",
              "       [ 0.15494743,  0.37816252],\n",
              "       [-0.88778575, -1.98079647],\n",
              "       [-0.34791215,  0.15634897],\n",
              "       [ 1.23029068,  1.20237985],\n",
              "       [-0.38732682, -0.30230275],\n",
              "       [-1.04855297, -1.42001794],\n",
              "       [-1.70627019,  1.9507754 ],\n",
              "       [-0.50965218, -0.4380743 ],\n",
              "       [-1.25279536,  0.77749036],\n",
              "       [-1.61389785, -0.21274028],\n",
              "       [-0.89546656,  0.3869025 ],\n",
              "       [-0.51080514, -1.18063218],\n",
              "       [-0.02818223,  0.42833187],\n",
              "       [ 0.06651722,  0.3024719 ],\n",
              "       [-0.63432209, -0.36274117],\n",
              "       [-0.67246045, -0.35955316],\n",
              "       [-0.81314628, -1.7262826 ],\n",
              "       [ 0.17742614, -0.40178094],\n",
              "       [-1.63019835,  0.46278226],\n",
              "       [-0.90729836,  0.0519454 ],\n",
              "       [ 0.72909056,  0.12898291],\n",
              "       [ 1.13940068, -1.23482582],\n",
              "       [ 0.40234164, -0.68481009],\n",
              "       [-0.87079715, -0.57884966],\n",
              "       [-0.31155253,  0.05616534],\n",
              "       [-1.16514984,  0.90082649],\n",
              "       [ 0.46566244, -1.53624369],\n",
              "       [ 1.48825219,  1.89588918],\n",
              "       [ 1.17877957, -0.17992484],\n",
              "       [-1.07075262,  1.05445173],\n",
              "       [-0.40317695,  1.22244507],\n",
              "       [ 0.20827498,  0.97663904],\n",
              "       [ 0.3563664 ,  0.70657317],\n",
              "       [ 0.01050002,  1.78587049],\n",
              "       [ 0.12691209,  0.40198936],\n",
              "       [ 1.8831507 , -1.34775906],\n",
              "       [-1.270485  ,  0.96939671],\n",
              "       [-1.17312341,  1.94362119],\n",
              "       [-0.41361898, -0.74745481],\n",
              "       [ 1.92294203,  1.48051479],\n",
              "       [ 1.86755896,  0.90604466],\n",
              "       [-0.86122569,  1.91006495],\n",
              "       [-0.26800337,  0.8024564 ],\n",
              "       [ 0.94725197, -0.15501009],\n",
              "       [ 0.61407937,  0.92220667],\n",
              "       [ 0.37642553, -1.09940079],\n",
              "       [ 0.29823817,  1.3263859 ],\n",
              "       [-0.69456786, -0.14963454],\n",
              "       [-0.43515355,  1.84926373],\n",
              "       [ 0.67229476,  0.40746184],\n",
              "       [-0.76991607,  0.53924919],\n",
              "       [-0.67433266,  0.03183056],\n",
              "       [-0.63584608,  0.67643329],\n",
              "       [ 0.57659082, -0.20829876],\n",
              "       [ 0.39600671, -1.09306151],\n",
              "       [-1.49125759,  0.4393917 ],\n",
              "       [ 0.1666735 ,  0.63503144],\n",
              "       [ 2.38314477,  0.94447949],\n",
              "       [-0.91282223,  1.11701629],\n",
              "       [-1.31590741, -0.4615846 ],\n",
              "       [-0.06824161,  1.71334272],\n",
              "       [-0.74475482, -0.82643854],\n",
              "       [-0.09845252, -0.66347829],\n",
              "       [ 1.12663592, -1.07993151],\n",
              "       [-1.14746865, -0.43782004],\n",
              "       [-0.49803245,  1.92953205],\n",
              "       [ 0.94942081,  0.08755124],\n",
              "       [-1.22543552,  0.84436298],\n",
              "       [-1.00021535, -1.5447711 ],\n",
              "       [ 1.18802979,  0.31694261],\n",
              "       [ 0.92085882,  0.31872765],\n",
              "       [ 0.85683061, -0.65102559],\n",
              "       [-1.03424284,  0.68159452],\n",
              "       [-0.80340966, -0.68954978],\n",
              "       [-0.4555325 ,  0.01747916],\n",
              "       [-0.35399391, -1.37495129],\n",
              "       [-0.6436184 , -2.22340315],\n",
              "       [ 0.62523145, -1.60205766],\n",
              "       [-1.10438334,  0.05216508],\n",
              "       [-0.739563  ,  1.5430146 ],\n",
              "       [-1.29285691,  0.26705087],\n",
              "       [-0.03928282, -1.1680935 ],\n",
              "       [ 0.52327666, -0.17154633],\n",
              "       [ 0.77179055,  0.82350415],\n",
              "       [ 2.16323595,  1.33652795],\n",
              "       [-0.36918184, -0.23937918],\n",
              "       [ 1.0996596 ,  0.65526373],\n",
              "       [ 0.64013153, -1.61695604],\n",
              "       [-0.02432612, -0.73803091],\n",
              "       [ 0.2799246 , -0.09815039],\n",
              "       [ 0.91017891,  0.31721822],\n",
              "       [ 0.78632796, -0.4664191 ],\n",
              "       [-0.94444626, -0.41004969],\n",
              "       [-0.01702041,  0.37915174],\n",
              "       [ 2.25930895, -0.04225715],\n",
              "       [-0.955945  , -0.34598178],\n",
              "       [-0.46359597,  0.48148147],\n",
              "       [-1.54079701,  0.06326199],\n",
              "       [ 0.15650654,  0.23218104],\n",
              "       [-0.59731607, -0.23792173],\n",
              "       [-1.42406091, -0.49331988],\n",
              "       [-0.54286148,  0.41605005],\n",
              "       [-1.15618243,  0.7811981 ],\n",
              "       [ 1.49448454, -2.06998503],\n",
              "       [ 0.42625873,  0.67690804],\n",
              "       [-0.63743703, -0.39727181],\n",
              "       [-0.13288058, -0.29779088],\n",
              "       [-0.30901297, -1.67600381],\n",
              "       [ 1.15233156,  1.07961859],\n",
              "       [-0.81336426, -1.46642433],\n",
              "       [ 0.52106488, -0.57578797],\n",
              "       [ 0.14195316, -0.31932842],\n",
              "       [ 0.69153875,  0.69474914],\n",
              "       [-0.72559738, -1.38336396],\n",
              "       [-1.5829384 ,  0.61037938],\n",
              "       [-1.18885926, -0.50681635],\n",
              "       [-0.59631404, -0.0525673 ],\n",
              "       [-1.93627981,  0.1887786 ],\n",
              "       [ 0.52389102,  0.08842209],\n",
              "       [-0.31088617,  0.09740017],\n",
              "       [ 0.39904635, -2.77259276],\n",
              "       [ 1.95591231,  0.39009332],\n",
              "       [-0.65240858, -0.39095338],\n",
              "       [ 0.49374178, -0.11610394],\n",
              "       [-2.03068447,  2.06449286],\n",
              "       [-0.11054066,  1.02017271],\n",
              "       [-0.69204985,  1.53637705],\n",
              "       [ 0.28634369,  0.60884383],\n",
              "       [-1.04525337,  1.21114529],\n",
              "       [ 0.68981816,  1.30184623],\n",
              "       [-0.62808756, -0.48102712],\n",
              "       [ 2.3039167 , -1.06001582],\n",
              "       [-0.1359497 ,  1.13689136],\n",
              "       [ 0.09772497,  0.58295368],\n",
              "       [-0.39944903,  0.37005589],\n",
              "       [-1.30652685,  1.65813068],\n",
              "       [-0.11816405, -0.6801782 ],\n",
              "       [ 0.66638308, -0.46071979],\n",
              "       [-1.33425847, -1.34671751],\n",
              "       [ 0.69377315, -0.15957344],\n",
              "       [-0.13370156,  1.07774381],\n",
              "       [-1.12682581, -0.73067775],\n",
              "       [-0.38487981,  0.09435159],\n",
              "       [-0.04217145, -0.28688719],\n",
              "       [-0.0616264 , -0.10730528],\n",
              "       [-0.71960439, -0.81299299],\n",
              "       [ 0.27451636, -0.89091508],\n",
              "       [-1.15735526, -0.31229225],\n",
              "       [-0.15766702,  2.2567235 ],\n",
              "       [-0.70470028,  0.94326072],\n",
              "       [ 0.74718833, -1.18894496],\n",
              "       [ 0.77325298, -1.18388064],\n",
              "       [-2.65917224,  0.60631952],\n",
              "       [-1.75589058,  0.45093446],\n",
              "       [-0.6840109 ,  1.6595508 ],\n",
              "       [ 1.0685094 , -0.4533858 ],\n",
              "       [-0.68783761, -1.2140774 ],\n",
              "       [-0.44092263, -0.2803555 ],\n",
              "       [-0.36469354,  0.15670386],\n",
              "       [ 0.5785215 ,  0.34965446],\n",
              "       [-0.76414392, -1.43779147],\n",
              "       [ 1.36453185, -0.68944918],\n",
              "       [-0.6522936 , -0.52118931],\n",
              "       [-1.84306955, -0.477974  ],\n",
              "       [-0.47965581,  0.6203583 ],\n",
              "       [ 0.69845715,  0.00377089],\n",
              "       [ 0.93184837,  0.33996498],\n",
              "       [-0.01568211,  0.16092817],\n",
              "       [-0.19065349, -0.39484951],\n",
              "       [-0.26773354, -1.12801133],\n",
              "       [ 0.28044171, -0.99312361],\n",
              "       [ 0.84163126, -0.24945858],\n",
              "       [ 0.04949498,  0.49383678],\n",
              "       [ 0.64331447, -1.57062341],\n",
              "       [-0.20690368,  0.88017891],\n",
              "       [-1.69810582,  0.38728048],\n",
              "       [-2.25556423, -1.02250684],\n",
              "       [ 0.03863055, -1.6567151 ],\n",
              "       [-0.98551074, -1.47183501],\n",
              "       [ 1.64813493,  0.16422776],\n",
              "       [ 0.56729028, -0.2226751 ],\n",
              "       [-0.35343175, -1.61647419],\n",
              "       [-0.29183736, -0.76149221],\n",
              "       [ 0.85792392,  1.14110187],\n",
              "       [ 1.46657872,  0.85255194],\n",
              "       [-0.59865394, -1.11589699],\n",
              "       [ 0.76666318,  0.35629282],\n",
              "       [-1.76853845,  0.35548179],\n",
              "       [ 0.81451982,  0.05892559],\n",
              "       [-0.18505367, -0.80764849],\n",
              "       [-1.4465347 ,  0.80029795],\n",
              "       [-0.30911444, -0.23346666],\n",
              "       [ 1.73272119,  0.68450111],\n",
              "       [ 0.370825  ,  0.14206181],\n",
              "       [ 1.51999486,  1.71958931],\n",
              "       [ 0.92950511,  0.58222459],\n",
              "       [-2.09460307,  0.12372191],\n",
              "       [-0.13010695,  0.09395323],\n",
              "       [ 0.94304609, -2.73967717],\n",
              "       [-0.56931205,  0.26990435],\n",
              "       [-0.46684555, -1.41690611],\n",
              "       [ 0.86896349,  0.27687191],\n",
              "       [-0.97110457,  0.3148172 ],\n",
              "       [ 0.82158571,  0.00529265],\n",
              "       [ 0.8005648 ,  0.07826018],\n",
              "       [-0.39522898, -1.15942052],\n",
              "       [-0.08593077,  0.19429294],\n",
              "       [ 0.87583276, -0.11510747],\n",
              "       [ 0.45741561, -0.96461201],\n",
              "       [-0.78262916, -0.1103893 ],\n",
              "       [-1.05462846,  0.82024784],\n",
              "       [ 0.46313033,  0.27909576],\n",
              "       [ 0.33890413,  2.02104356],\n",
              "       [-0.46886419, -2.20144129],\n",
              "       [ 0.1993002 , -0.05060354],\n",
              "       [-0.51751904, -0.97882986],\n",
              "       [-0.43918952,  0.18133843],\n",
              "       [-0.5028167 ,  2.41245368],\n",
              "       [-0.96050438, -0.79311736],\n",
              "       [-2.28862004,  0.25148442],\n",
              "       [-2.01640663, -0.53945463],\n",
              "       [-0.27567053, -0.70972797],\n",
              "       [ 1.73887268,  0.99439439],\n",
              "       [ 1.31913688, -0.88241882],\n",
              "       [ 1.12859406,  0.49600095],\n",
              "       [ 0.77140595,  1.02943883],\n",
              "       [-0.90876325, -0.42431762],\n",
              "       [ 0.86259601, -2.65561909],\n",
              "       [ 1.51332808,  0.55313206],\n",
              "       [-0.04570396,  0.22050766],\n",
              "       [-1.02993528, -0.34994336],\n",
              "       [ 1.10028434,  1.29802197],\n",
              "       [ 2.69622405, -0.07392467],\n",
              "       [-0.65855297, -0.51423397],\n",
              "       [-1.01804188, -0.07785476],\n",
              "       [ 0.38273243, -0.03424228],\n",
              "       [ 1.09634685, -0.2342158 ],\n",
              "       [-0.34745065, -0.58126848],\n",
              "       [-1.63263453, -1.56776772],\n",
              "       [-1.17915793,  1.30142807],\n",
              "       [ 0.89526027,  1.37496407],\n",
              "       [-1.33221165, -1.96862469],\n",
              "       [-0.66005632,  0.17581895],\n",
              "       [ 0.49869027,  1.04797216],\n",
              "       [ 0.28427967,  1.74266878],\n",
              "       [-0.22260568, -0.91307922],\n",
              "       [-1.68121822, -0.88897136],\n",
              "       [ 0.24211796, -0.88872026],\n",
              "       [ 0.93674246,  1.41232771],\n",
              "       [-2.36958691,  0.8640523 ],\n",
              "       [-2.23960406,  0.40149906],\n",
              "       [ 1.22487056,  0.06485611],\n",
              "       [-1.27968917, -0.5854312 ],\n",
              "       [-0.26164545, -0.18224478],\n",
              "       [-0.20289684, -0.10988278],\n",
              "       [ 0.21348005, -1.20857365],\n",
              "       [-0.24201983,  1.51826117],\n",
              "       [-0.38464542, -0.44383609],\n",
              "       [ 1.0781973 , -2.55918467],\n",
              "       [ 1.1813786 , -0.63190376],\n",
              "       [ 0.16392857,  0.09632136],\n",
              "       [ 0.94246812, -0.26759475],\n",
              "       [-0.67802578,  1.29784579],\n",
              "       [-2.36417382,  0.02033418],\n",
              "       [-1.34792542, -0.76157339],\n",
              "       [ 2.01125668, -0.04459543],\n",
              "       [ 0.1950697 , -1.78156286],\n",
              "       [-0.72904466,  0.1965574 ],\n",
              "       [ 0.35475769,  0.61688655],\n",
              "       [ 0.0086279 ,  0.52700421],\n",
              "       [ 0.45378191, -1.82974041],\n",
              "       [ 0.03700572,  0.76790241],\n",
              "       [ 0.58987982, -0.36385881],\n",
              "       [-0.80562651, -1.11831192],\n",
              "       [-0.13105401,  1.13307988],\n",
              "       [-1.9518041 , -0.65989173],\n",
              "       [-1.13980246,  0.78495752],\n",
              "       [-0.55430963, -0.47063766],\n",
              "       [-0.21694957,  0.44539325],\n",
              "       [-0.392389  , -3.04614305],\n",
              "       [ 0.54331189,  0.43904296],\n",
              "       [-0.21954103, -1.08403662],\n",
              "       [ 0.35178011,  0.37923553],\n",
              "       [-0.47003288, -0.21673147],\n",
              "       [-0.9301565 , -0.17858909]])"
            ]
          },
          "metadata": {},
          "execution_count": 8
        }
      ]
    },
    {
      "cell_type": "markdown",
      "metadata": {
        "id": "rjmVzSO4H6CD"
      },
      "source": [
        "### 2a. Simple Perceptron\n",
        "Construct a simple perceptron using Keras. \n",
        "\n",
        "Make sure to include the following in your model:\n",
        "- Add `1 dense layer` with a `single neuron` \n",
        "- Use a `sigmoid activation function`\n",
        "- Set `epochs` to 10 \n",
        "- Use the version of `crossentropy loss` that is appropriate for this data.\n",
        "---\n",
        "* Your model should be called `model1`. \n",
        "\n",
        "* The results of your fit model should be assigned to a variable called `h1`. \n"
      ]
    },
    {
      "cell_type": "code",
      "execution_count": null,
      "metadata": {
        "deletable": false,
        "nbgrader": {
          "cell_type": "code",
          "checksum": "533f2731bf5c6bff190bfb764e02fada",
          "grade": false,
          "grade_id": "cell-427690628f9c900b",
          "locked": false,
          "schema_version": 3,
          "solution": true,
          "task": false
        },
        "id": "UNqPmDCEH6CD",
        "colab": {
          "base_uri": "https://localhost:8080/"
        },
        "outputId": "8f2a8430-8b2f-415b-a4a4-91d87ec59b58"
      },
      "outputs": [
        {
          "output_type": "stream",
          "name": "stdout",
          "text": [
            "Epoch 1/10\n",
            "10/10 [==============================] - 1s 6ms/step - loss: 0.8482 - accuracy: 0.4667\n",
            "Epoch 2/10\n",
            "10/10 [==============================] - 0s 2ms/step - loss: 0.8417 - accuracy: 0.4667\n",
            "Epoch 3/10\n",
            "10/10 [==============================] - 0s 5ms/step - loss: 0.8352 - accuracy: 0.4700\n",
            "Epoch 4/10\n",
            "10/10 [==============================] - 0s 4ms/step - loss: 0.8297 - accuracy: 0.4667\n",
            "Epoch 5/10\n",
            "10/10 [==============================] - 0s 4ms/step - loss: 0.8242 - accuracy: 0.4700\n",
            "Epoch 6/10\n",
            "10/10 [==============================] - 0s 3ms/step - loss: 0.8185 - accuracy: 0.4633\n",
            "Epoch 7/10\n",
            "10/10 [==============================] - 0s 2ms/step - loss: 0.8132 - accuracy: 0.4633\n",
            "Epoch 8/10\n",
            "10/10 [==============================] - 0s 3ms/step - loss: 0.8080 - accuracy: 0.4633\n",
            "Epoch 9/10\n",
            "10/10 [==============================] - 0s 7ms/step - loss: 0.8031 - accuracy: 0.4633\n",
            "Epoch 10/10\n",
            "10/10 [==============================] - 0s 5ms/step - loss: 0.7984 - accuracy: 0.4633\n"
          ]
        }
      ],
      "source": [
        "# build and fit model\n",
        "\n",
        "# YOUR CODE HERE\n",
        "#Instantiate a sequential model \n",
        "model1 = Sequential()\n",
        "\n",
        "#Add a dense layer with single neuron \n",
        "model1.add(Dense(1, #1 neuron\n",
        "                activation='sigmoid'))\n",
        "\n",
        "#Compile model and indicate network-level params\n",
        "model1.compile(loss='binary_crossentropy',\n",
        "               optimizer='sgd',\n",
        "               metrics=['accuracy'])\n",
        "\n",
        "h1 = model1.fit(X, y, epochs=10)\n",
        "\n"
      ]
    },
    {
      "cell_type": "code",
      "execution_count": null,
      "metadata": {
        "deletable": false,
        "editable": false,
        "nbgrader": {
          "cell_type": "code",
          "checksum": "36f7f830036d0443ca8e8ba0f17b2a4e",
          "grade": true,
          "grade_id": "cell-bf2ae566afacde8c",
          "locked": true,
          "points": 1,
          "schema_version": 3,
          "solution": false,
          "task": false
        },
        "id": "sf-86oDnH6CE"
      },
      "outputs": [],
      "source": [
        "# Visible test\n",
        "assert len(model1.get_config()[\"layers\"]) == 2, \"Make sure you only create 1 Dense layer.\"\n",
        "assert len(h1.epoch) <=10, \"Did you make sure to set epochs to 10 or less?\""
      ]
    },
    {
      "cell_type": "code",
      "execution_count": null,
      "metadata": {
        "deletable": false,
        "editable": false,
        "nbgrader": {
          "cell_type": "code",
          "checksum": "95d3ee2935a0de64f2a5a22460520e69",
          "grade": true,
          "grade_id": "cell-a957e14380b2f508",
          "locked": true,
          "points": 1,
          "schema_version": 3,
          "solution": false,
          "task": false
        },
        "id": "oIG0uS2hH6CE"
      },
      "outputs": [],
      "source": [
        "# Hidden tests - you will see the results when you submit to Canvas"
      ]
    },
    {
      "cell_type": "markdown",
      "metadata": {
        "id": "WRdVZawDH6CE"
      },
      "source": [
        "### 2b. Multi-Layer Perceptron\n",
        "Now construct a multi-layer perceptron model (also known as a neural network). \n",
        "\n",
        "Your neural network `must` have: \n",
        "- `2` Hidden Layers\n",
        "- Select any number between `5-32` for the number of neurons in each hidden layers\n",
        "- Your pick of activation function and optimizer\n",
        "- Incorporate the `myCallback` function below into your model\n",
        "- Set epochs to `100`\n",
        "- Your model should be called `model2` \n",
        "- Save the results of your fit statement to a variable called `h2`. \n",
        "- Use the version of `crossentropy loss` that is appropriate for this data."
      ]
    },
    {
      "cell_type": "code",
      "execution_count": null,
      "metadata": {
        "deletable": false,
        "editable": false,
        "nbgrader": {
          "cell_type": "code",
          "checksum": "ad238f5d2d4fce7ec4b2bbeb786faf4e",
          "grade": false,
          "grade_id": "cell-eb88d895e6d9479d",
          "locked": true,
          "schema_version": 3,
          "solution": false,
          "task": false
        },
        "id": "VpLFBIhNH6CF"
      },
      "outputs": [],
      "source": [
        "#do not delete or modify\n",
        "import tensorflow as tf\n",
        "\n",
        "class myCallback(tf.keras.callbacks.Callback): \n",
        "    def on_epoch_end(self, epoch, logs={}): \n",
        "        # if model reaches 99% accuracy, training is terminated \n",
        "        acc_threshold = 0.99\n",
        "        if(logs.get('accuracy') > acc_threshold):   \n",
        "            self.model.stop_training = True\n",
        "            self.model.callback_used = True"
      ]
    },
    {
      "cell_type": "code",
      "source": [
        "from sklearn.model_selection import train_test_split\n",
        "X_train, X_test, y_train, y_test = train_test_split(X, y,test_size=0.5)"
      ],
      "metadata": {
        "id": "eej3PuNzpT63"
      },
      "execution_count": null,
      "outputs": []
    },
    {
      "cell_type": "code",
      "source": [
        "X_test.shape"
      ],
      "metadata": {
        "colab": {
          "base_uri": "https://localhost:8080/"
        },
        "id": "h124mJ8osVg7",
        "outputId": "8a6e5af9-976b-4774-82c3-b4bad14d4207"
      },
      "execution_count": null,
      "outputs": [
        {
          "output_type": "execute_result",
          "data": {
            "text/plain": [
              "(150, 2)"
            ]
          },
          "metadata": {},
          "execution_count": 14
        }
      ]
    },
    {
      "cell_type": "code",
      "source": [
        "X_train.shape"
      ],
      "metadata": {
        "colab": {
          "base_uri": "https://localhost:8080/"
        },
        "id": "KzxI5KuV-wNN",
        "outputId": "8f342501-5536-4982-b58c-da92b2d8c157"
      },
      "execution_count": null,
      "outputs": [
        {
          "output_type": "execute_result",
          "data": {
            "text/plain": [
              "(150, 2)"
            ]
          },
          "metadata": {},
          "execution_count": 15
        }
      ]
    },
    {
      "cell_type": "code",
      "source": [
        "y_train.shape"
      ],
      "metadata": {
        "colab": {
          "base_uri": "https://localhost:8080/"
        },
        "id": "za45e8Vs_1rJ",
        "outputId": "2097c74e-cd82-4197-88f4-74404eaa8740"
      },
      "execution_count": null,
      "outputs": [
        {
          "output_type": "execute_result",
          "data": {
            "text/plain": [
              "(150,)"
            ]
          },
          "metadata": {},
          "execution_count": 16
        }
      ]
    },
    {
      "cell_type": "code",
      "source": [
        "# instantiate a sequential model\n",
        "model2 = Sequential()\n",
        "\n",
        "# add a dense layer\n",
        "# with some layer-specific hyperparameters\n",
        "\n",
        "model2.add(Dense(32, activation='relu', input_dim=2)) \n",
        "# model2.add(Dense(12, activation='relu')) \n",
        "model2.add(Dense(12, activation='relu')) \n",
        "model2.add(Dense(1, activation='elu'))\n",
        "\n",
        "# compile the model \n",
        "# locks the model architecture. \n",
        "# indicate network-level hyperparameters\n",
        "model2.compile(loss='binary_crossentropy', \n",
        "             optimizer='adam',\n",
        "             metrics=['accuracy']) \n",
        "\n",
        "# fit the model \n",
        "h2 = model2.fit(X_train,\n",
        "                y_train,\n",
        "                epochs=100, \n",
        "                validation_data=(X_test, y_test),\n",
        "                callbacks=[myCallback()])"
      ],
      "metadata": {
        "colab": {
          "base_uri": "https://localhost:8080/"
        },
        "id": "s3Xd-c1flqOb",
        "outputId": "f0aac806-c910-449c-9eeb-e544c7fe35c8"
      },
      "execution_count": null,
      "outputs": [
        {
          "output_type": "stream",
          "name": "stdout",
          "text": [
            "Epoch 1/100\n",
            "5/5 [==============================] - 1s 88ms/step - loss: 2.6704 - accuracy: 0.6333 - val_loss: 2.7923 - val_accuracy: 0.6267\n",
            "Epoch 2/100\n",
            "5/5 [==============================] - 0s 14ms/step - loss: 2.2966 - accuracy: 0.6200 - val_loss: 2.4443 - val_accuracy: 0.6267\n",
            "Epoch 3/100\n",
            "5/5 [==============================] - 0s 24ms/step - loss: 2.1898 - accuracy: 0.6267 - val_loss: 2.3562 - val_accuracy: 0.6400\n",
            "Epoch 4/100\n",
            "5/5 [==============================] - 0s 20ms/step - loss: 1.9803 - accuracy: 0.6400 - val_loss: 2.0179 - val_accuracy: 0.6467\n",
            "Epoch 5/100\n",
            "5/5 [==============================] - 0s 26ms/step - loss: 1.6617 - accuracy: 0.6600 - val_loss: 1.6634 - val_accuracy: 0.6467\n",
            "Epoch 6/100\n",
            "5/5 [==============================] - 0s 13ms/step - loss: 1.5306 - accuracy: 0.6667 - val_loss: 1.2532 - val_accuracy: 0.6533\n",
            "Epoch 7/100\n",
            "5/5 [==============================] - 0s 21ms/step - loss: 1.0796 - accuracy: 0.6667 - val_loss: 0.8605 - val_accuracy: 0.6600\n",
            "Epoch 8/100\n",
            "5/5 [==============================] - 0s 24ms/step - loss: 0.7272 - accuracy: 0.6733 - val_loss: 0.7651 - val_accuracy: 0.6667\n",
            "Epoch 9/100\n",
            "5/5 [==============================] - 0s 10ms/step - loss: 0.6677 - accuracy: 0.6867 - val_loss: 0.7274 - val_accuracy: 0.6667\n",
            "Epoch 10/100\n",
            "5/5 [==============================] - 0s 16ms/step - loss: 0.6411 - accuracy: 0.6933 - val_loss: 0.7036 - val_accuracy: 0.6733\n",
            "Epoch 11/100\n",
            "5/5 [==============================] - 0s 28ms/step - loss: 0.6200 - accuracy: 0.6933 - val_loss: 0.6862 - val_accuracy: 0.6733\n",
            "Epoch 12/100\n",
            "5/5 [==============================] - 0s 16ms/step - loss: 0.6025 - accuracy: 0.6933 - val_loss: 0.6721 - val_accuracy: 0.6733\n",
            "Epoch 13/100\n",
            "5/5 [==============================] - 0s 15ms/step - loss: 0.5878 - accuracy: 0.7000 - val_loss: 0.6597 - val_accuracy: 0.6733\n",
            "Epoch 14/100\n",
            "5/5 [==============================] - 0s 12ms/step - loss: 0.5739 - accuracy: 0.7000 - val_loss: 0.6482 - val_accuracy: 0.6733\n",
            "Epoch 15/100\n",
            "5/5 [==============================] - 0s 14ms/step - loss: 0.5597 - accuracy: 0.7000 - val_loss: 0.6374 - val_accuracy: 0.6733\n",
            "Epoch 16/100\n",
            "5/5 [==============================] - 0s 20ms/step - loss: 0.5471 - accuracy: 0.7067 - val_loss: 0.6272 - val_accuracy: 0.6733\n",
            "Epoch 17/100\n",
            "5/5 [==============================] - 0s 22ms/step - loss: 0.5346 - accuracy: 0.7267 - val_loss: 0.6183 - val_accuracy: 0.6733\n",
            "Epoch 18/100\n",
            "5/5 [==============================] - 0s 14ms/step - loss: 0.5245 - accuracy: 0.7267 - val_loss: 0.6102 - val_accuracy: 0.6800\n",
            "Epoch 19/100\n",
            "5/5 [==============================] - 0s 18ms/step - loss: 0.5156 - accuracy: 0.7267 - val_loss: 0.6032 - val_accuracy: 0.6800\n",
            "Epoch 20/100\n",
            "5/5 [==============================] - 0s 21ms/step - loss: 0.5063 - accuracy: 0.7267 - val_loss: 0.5959 - val_accuracy: 0.6800\n",
            "Epoch 21/100\n",
            "5/5 [==============================] - 0s 27ms/step - loss: 0.4977 - accuracy: 0.7333 - val_loss: 0.5889 - val_accuracy: 0.6800\n",
            "Epoch 22/100\n",
            "5/5 [==============================] - 0s 24ms/step - loss: 0.4899 - accuracy: 0.7333 - val_loss: 0.5818 - val_accuracy: 0.6800\n",
            "Epoch 23/100\n",
            "5/5 [==============================] - 0s 21ms/step - loss: 0.4821 - accuracy: 0.7333 - val_loss: 0.5749 - val_accuracy: 0.6800\n",
            "Epoch 24/100\n",
            "5/5 [==============================] - 0s 24ms/step - loss: 0.4742 - accuracy: 0.7400 - val_loss: 0.5678 - val_accuracy: 0.6800\n",
            "Epoch 25/100\n",
            "5/5 [==============================] - 0s 16ms/step - loss: 0.4665 - accuracy: 0.7400 - val_loss: 0.5608 - val_accuracy: 0.6800\n",
            "Epoch 26/100\n",
            "5/5 [==============================] - 0s 27ms/step - loss: 0.4590 - accuracy: 0.7467 - val_loss: 0.5541 - val_accuracy: 0.6800\n",
            "Epoch 27/100\n",
            "5/5 [==============================] - 0s 15ms/step - loss: 0.4513 - accuracy: 0.7467 - val_loss: 0.5476 - val_accuracy: 0.6933\n",
            "Epoch 28/100\n",
            "5/5 [==============================] - 0s 24ms/step - loss: 0.4444 - accuracy: 0.7600 - val_loss: 0.5411 - val_accuracy: 0.6933\n",
            "Epoch 29/100\n",
            "5/5 [==============================] - 0s 14ms/step - loss: 0.4383 - accuracy: 0.7600 - val_loss: 0.5355 - val_accuracy: 0.7000\n",
            "Epoch 30/100\n",
            "5/5 [==============================] - 0s 17ms/step - loss: 0.4319 - accuracy: 0.7600 - val_loss: 0.5294 - val_accuracy: 0.7067\n",
            "Epoch 31/100\n",
            "5/5 [==============================] - 0s 15ms/step - loss: 0.4259 - accuracy: 0.7600 - val_loss: 0.5233 - val_accuracy: 0.7067\n",
            "Epoch 32/100\n",
            "5/5 [==============================] - 0s 13ms/step - loss: 0.4202 - accuracy: 0.7600 - val_loss: 0.5172 - val_accuracy: 0.7067\n",
            "Epoch 33/100\n",
            "5/5 [==============================] - 0s 20ms/step - loss: 0.4142 - accuracy: 0.7600 - val_loss: 0.5112 - val_accuracy: 0.7067\n",
            "Epoch 34/100\n",
            "5/5 [==============================] - 0s 18ms/step - loss: 0.4084 - accuracy: 0.7667 - val_loss: 0.5050 - val_accuracy: 0.7067\n",
            "Epoch 35/100\n",
            "5/5 [==============================] - 0s 16ms/step - loss: 0.4026 - accuracy: 0.7800 - val_loss: 0.4984 - val_accuracy: 0.7067\n",
            "Epoch 36/100\n",
            "5/5 [==============================] - 0s 17ms/step - loss: 0.3969 - accuracy: 0.7800 - val_loss: 0.4918 - val_accuracy: 0.7133\n",
            "Epoch 37/100\n",
            "5/5 [==============================] - 0s 20ms/step - loss: 0.3910 - accuracy: 0.7800 - val_loss: 0.4845 - val_accuracy: 0.7133\n",
            "Epoch 38/100\n",
            "5/5 [==============================] - 0s 15ms/step - loss: 0.3843 - accuracy: 0.7800 - val_loss: 0.4777 - val_accuracy: 0.7133\n",
            "Epoch 39/100\n",
            "5/5 [==============================] - 0s 21ms/step - loss: 0.3787 - accuracy: 0.7800 - val_loss: 0.4703 - val_accuracy: 0.7067\n",
            "Epoch 40/100\n",
            "5/5 [==============================] - 0s 33ms/step - loss: 0.3722 - accuracy: 0.7867 - val_loss: 0.4637 - val_accuracy: 0.7067\n",
            "Epoch 41/100\n",
            "5/5 [==============================] - 0s 14ms/step - loss: 0.3661 - accuracy: 0.7867 - val_loss: 0.4566 - val_accuracy: 0.7067\n",
            "Epoch 42/100\n",
            "5/5 [==============================] - 0s 13ms/step - loss: 0.3600 - accuracy: 0.7867 - val_loss: 0.4496 - val_accuracy: 0.7133\n",
            "Epoch 43/100\n",
            "5/5 [==============================] - 0s 17ms/step - loss: 0.3541 - accuracy: 0.7867 - val_loss: 0.4425 - val_accuracy: 0.7133\n",
            "Epoch 44/100\n",
            "5/5 [==============================] - 0s 23ms/step - loss: 0.3477 - accuracy: 0.7867 - val_loss: 0.4359 - val_accuracy: 0.7133\n",
            "Epoch 45/100\n",
            "5/5 [==============================] - 0s 21ms/step - loss: 0.3420 - accuracy: 0.7933 - val_loss: 0.4291 - val_accuracy: 0.7133\n",
            "Epoch 46/100\n",
            "5/5 [==============================] - 0s 13ms/step - loss: 0.3361 - accuracy: 0.7933 - val_loss: 0.4218 - val_accuracy: 0.7200\n",
            "Epoch 47/100\n",
            "5/5 [==============================] - 0s 14ms/step - loss: 0.3299 - accuracy: 0.7933 - val_loss: 0.4150 - val_accuracy: 0.7200\n",
            "Epoch 48/100\n",
            "5/5 [==============================] - 0s 17ms/step - loss: 0.3240 - accuracy: 0.7933 - val_loss: 0.4080 - val_accuracy: 0.7333\n",
            "Epoch 49/100\n",
            "5/5 [==============================] - 0s 26ms/step - loss: 0.3179 - accuracy: 0.7933 - val_loss: 0.4013 - val_accuracy: 0.7400\n",
            "Epoch 50/100\n",
            "5/5 [==============================] - 0s 23ms/step - loss: 0.3125 - accuracy: 0.7933 - val_loss: 0.3944 - val_accuracy: 0.7400\n",
            "Epoch 51/100\n",
            "5/5 [==============================] - 0s 29ms/step - loss: 0.3067 - accuracy: 0.7933 - val_loss: 0.3877 - val_accuracy: 0.7400\n",
            "Epoch 52/100\n",
            "5/5 [==============================] - 0s 21ms/step - loss: 0.3004 - accuracy: 0.8000 - val_loss: 0.3810 - val_accuracy: 0.7400\n",
            "Epoch 53/100\n",
            "5/5 [==============================] - 0s 18ms/step - loss: 0.2944 - accuracy: 0.8067 - val_loss: 0.3746 - val_accuracy: 0.7467\n",
            "Epoch 54/100\n",
            "5/5 [==============================] - 0s 26ms/step - loss: 0.2890 - accuracy: 0.8133 - val_loss: 0.3673 - val_accuracy: 0.7533\n",
            "Epoch 55/100\n",
            "5/5 [==============================] - 0s 23ms/step - loss: 0.2835 - accuracy: 0.8267 - val_loss: 0.3603 - val_accuracy: 0.7600\n",
            "Epoch 56/100\n",
            "5/5 [==============================] - 0s 16ms/step - loss: 0.2781 - accuracy: 0.8267 - val_loss: 0.3533 - val_accuracy: 0.7733\n",
            "Epoch 57/100\n",
            "5/5 [==============================] - 0s 23ms/step - loss: 0.2727 - accuracy: 0.8333 - val_loss: 0.3461 - val_accuracy: 0.7733\n",
            "Epoch 58/100\n",
            "5/5 [==============================] - 0s 32ms/step - loss: 0.2676 - accuracy: 0.8400 - val_loss: 0.3384 - val_accuracy: 0.7733\n",
            "Epoch 59/100\n",
            "5/5 [==============================] - 0s 17ms/step - loss: 0.2618 - accuracy: 0.8400 - val_loss: 0.3311 - val_accuracy: 0.7800\n",
            "Epoch 60/100\n",
            "5/5 [==============================] - 0s 22ms/step - loss: 0.2564 - accuracy: 0.8467 - val_loss: 0.3235 - val_accuracy: 0.7800\n",
            "Epoch 61/100\n",
            "5/5 [==============================] - 0s 15ms/step - loss: 0.2502 - accuracy: 0.8533 - val_loss: 0.3166 - val_accuracy: 0.7933\n",
            "Epoch 62/100\n",
            "5/5 [==============================] - 0s 17ms/step - loss: 0.2452 - accuracy: 0.8667 - val_loss: 0.3092 - val_accuracy: 0.8067\n",
            "Epoch 63/100\n",
            "5/5 [==============================] - 0s 23ms/step - loss: 0.2387 - accuracy: 0.8667 - val_loss: 0.3021 - val_accuracy: 0.8133\n",
            "Epoch 64/100\n",
            "5/5 [==============================] - 0s 14ms/step - loss: 0.2331 - accuracy: 0.8733 - val_loss: 0.2945 - val_accuracy: 0.8267\n",
            "Epoch 65/100\n",
            "5/5 [==============================] - 0s 15ms/step - loss: 0.2274 - accuracy: 0.8733 - val_loss: 0.2866 - val_accuracy: 0.8333\n",
            "Epoch 66/100\n",
            "5/5 [==============================] - 0s 29ms/step - loss: 0.2221 - accuracy: 0.8800 - val_loss: 0.2787 - val_accuracy: 0.8333\n",
            "Epoch 67/100\n",
            "5/5 [==============================] - 0s 14ms/step - loss: 0.2163 - accuracy: 0.8933 - val_loss: 0.2714 - val_accuracy: 0.8400\n",
            "Epoch 68/100\n",
            "5/5 [==============================] - 0s 16ms/step - loss: 0.2105 - accuracy: 0.9067 - val_loss: 0.2646 - val_accuracy: 0.8467\n",
            "Epoch 69/100\n",
            "5/5 [==============================] - 0s 26ms/step - loss: 0.2047 - accuracy: 0.9200 - val_loss: 0.2585 - val_accuracy: 0.8600\n",
            "Epoch 70/100\n",
            "5/5 [==============================] - 0s 33ms/step - loss: 0.1994 - accuracy: 0.9333 - val_loss: 0.2518 - val_accuracy: 0.8600\n",
            "Epoch 71/100\n",
            "5/5 [==============================] - 0s 25ms/step - loss: 0.1941 - accuracy: 0.9400 - val_loss: 0.2451 - val_accuracy: 0.8600\n",
            "Epoch 72/100\n",
            "5/5 [==============================] - 0s 27ms/step - loss: 0.1883 - accuracy: 0.9400 - val_loss: 0.2393 - val_accuracy: 0.8733\n",
            "Epoch 73/100\n",
            "5/5 [==============================] - 0s 20ms/step - loss: 0.1830 - accuracy: 0.9467 - val_loss: 0.2335 - val_accuracy: 0.8800\n",
            "Epoch 74/100\n",
            "5/5 [==============================] - 0s 17ms/step - loss: 0.1778 - accuracy: 0.9533 - val_loss: 0.2275 - val_accuracy: 0.8867\n",
            "Epoch 75/100\n",
            "5/5 [==============================] - 0s 18ms/step - loss: 0.1728 - accuracy: 0.9600 - val_loss: 0.2219 - val_accuracy: 0.8867\n",
            "Epoch 76/100\n",
            "5/5 [==============================] - 0s 18ms/step - loss: 0.1689 - accuracy: 0.9600 - val_loss: 0.2157 - val_accuracy: 0.8867\n",
            "Epoch 77/100\n",
            "5/5 [==============================] - 0s 21ms/step - loss: 0.1644 - accuracy: 0.9733 - val_loss: 0.2108 - val_accuracy: 0.8933\n",
            "Epoch 78/100\n",
            "5/5 [==============================] - 0s 17ms/step - loss: 0.1605 - accuracy: 0.9733 - val_loss: 0.2053 - val_accuracy: 0.9000\n",
            "Epoch 79/100\n",
            "5/5 [==============================] - 0s 36ms/step - loss: 0.1564 - accuracy: 0.9733 - val_loss: 0.2001 - val_accuracy: 0.9000\n",
            "Epoch 80/100\n",
            "5/5 [==============================] - 0s 25ms/step - loss: 0.1526 - accuracy: 0.9800 - val_loss: 0.1959 - val_accuracy: 0.9000\n",
            "Epoch 81/100\n",
            "5/5 [==============================] - 0s 16ms/step - loss: 0.1495 - accuracy: 0.9800 - val_loss: 0.1921 - val_accuracy: 0.9067\n",
            "Epoch 82/100\n",
            "5/5 [==============================] - 0s 16ms/step - loss: 0.1465 - accuracy: 0.9800 - val_loss: 0.1886 - val_accuracy: 0.9200\n",
            "Epoch 83/100\n",
            "5/5 [==============================] - 0s 15ms/step - loss: 0.1431 - accuracy: 0.9800 - val_loss: 0.1858 - val_accuracy: 0.9200\n",
            "Epoch 84/100\n",
            "5/5 [==============================] - 0s 18ms/step - loss: 0.1403 - accuracy: 0.9800 - val_loss: 0.1826 - val_accuracy: 0.9200\n",
            "Epoch 85/100\n",
            "5/5 [==============================] - 0s 15ms/step - loss: 0.1375 - accuracy: 0.9800 - val_loss: 0.1797 - val_accuracy: 0.9200\n",
            "Epoch 86/100\n",
            "5/5 [==============================] - 0s 14ms/step - loss: 0.1345 - accuracy: 0.9800 - val_loss: 0.1764 - val_accuracy: 0.9400\n",
            "Epoch 87/100\n",
            "5/5 [==============================] - 0s 14ms/step - loss: 0.1320 - accuracy: 0.9867 - val_loss: 0.1734 - val_accuracy: 0.9400\n",
            "Epoch 88/100\n",
            "5/5 [==============================] - 0s 24ms/step - loss: 0.1291 - accuracy: 0.9867 - val_loss: 0.1704 - val_accuracy: 0.9467\n",
            "Epoch 89/100\n",
            "5/5 [==============================] - 0s 15ms/step - loss: 0.1267 - accuracy: 0.9867 - val_loss: 0.1679 - val_accuracy: 0.9467\n",
            "Epoch 90/100\n",
            "5/5 [==============================] - 0s 15ms/step - loss: 0.1243 - accuracy: 0.9867 - val_loss: 0.1651 - val_accuracy: 0.9467\n",
            "Epoch 91/100\n",
            "5/5 [==============================] - 0s 16ms/step - loss: 0.1218 - accuracy: 0.9867 - val_loss: 0.1627 - val_accuracy: 0.9467\n",
            "Epoch 92/100\n",
            "5/5 [==============================] - 0s 22ms/step - loss: 0.1200 - accuracy: 0.9867 - val_loss: 0.1608 - val_accuracy: 0.9533\n",
            "Epoch 93/100\n",
            "5/5 [==============================] - 0s 20ms/step - loss: 0.1182 - accuracy: 0.9867 - val_loss: 0.1586 - val_accuracy: 0.9533\n",
            "Epoch 94/100\n",
            "5/5 [==============================] - 0s 19ms/step - loss: 0.1158 - accuracy: 0.9867 - val_loss: 0.1564 - val_accuracy: 0.9533\n",
            "Epoch 95/100\n",
            "5/5 [==============================] - 0s 14ms/step - loss: 0.1138 - accuracy: 0.9867 - val_loss: 0.1543 - val_accuracy: 0.9533\n",
            "Epoch 96/100\n",
            "5/5 [==============================] - 0s 19ms/step - loss: 0.1123 - accuracy: 0.9867 - val_loss: 0.1518 - val_accuracy: 0.9467\n",
            "Epoch 97/100\n",
            "5/5 [==============================] - 0s 11ms/step - loss: 0.1103 - accuracy: 0.9867 - val_loss: 0.1500 - val_accuracy: 0.9533\n",
            "Epoch 98/100\n",
            "5/5 [==============================] - 0s 31ms/step - loss: 0.1087 - accuracy: 0.9867 - val_loss: 0.1485 - val_accuracy: 0.9467\n",
            "Epoch 99/100\n",
            "5/5 [==============================] - 0s 16ms/step - loss: 0.1069 - accuracy: 0.9867 - val_loss: 0.1464 - val_accuracy: 0.9533\n",
            "Epoch 100/100\n",
            "5/5 [==============================] - 0s 23ms/step - loss: 0.1052 - accuracy: 0.9867 - val_loss: 0.1448 - val_accuracy: 0.9600\n"
          ]
        }
      ]
    },
    {
      "cell_type": "code",
      "execution_count": null,
      "metadata": {
        "deletable": false,
        "editable": false,
        "nbgrader": {
          "cell_type": "code",
          "checksum": "4a5f575f46f151f97f1cebc19a484bae",
          "grade": true,
          "grade_id": "cell-770612ca24334d8a",
          "locked": true,
          "points": 1,
          "schema_version": 3,
          "solution": false,
          "task": false
        },
        "id": "oeFnURuWH6CF"
      },
      "outputs": [],
      "source": [
        "# Visible test\n",
        "assert len(model2.get_config()[\"layers\"]) == 4, \"You should have 4 layers: Input, hidden 1, hidden 2, output.\"\n",
        "assert 5 <= model2.get_config()[\"layers\"][1][\"config\"][\"units\"] <= 32, \"You should have 5 - 32 units in hidden layer 1, but don't.\"\n",
        "assert 5 <= model2.get_config()[\"layers\"][2][\"config\"][\"units\"] <= 32, \"You should have 5 - 32 units in hidden layer 2, but don't.\"\n",
        "assert h2.params[\"epochs\"] == 100, \"You didn't set epochs to 100.\""
      ]
    },
    {
      "cell_type": "code",
      "execution_count": null,
      "metadata": {
        "deletable": false,
        "editable": false,
        "nbgrader": {
          "cell_type": "code",
          "checksum": "3ca73d4d3d17897a570e19a8a97c050f",
          "grade": true,
          "grade_id": "cell-49b1bf7cce22b5b9",
          "locked": true,
          "points": 1,
          "schema_version": 3,
          "solution": false,
          "task": false
        },
        "id": "Zuj_2C9oH6CF"
      },
      "outputs": [],
      "source": [
        "# Hidden tests - you will see the results when you submit to Canvas"
      ]
    },
    {
      "cell_type": "code",
      "source": [
        "h2.history"
      ],
      "metadata": {
        "colab": {
          "base_uri": "https://localhost:8080/"
        },
        "id": "RC4DWfkqX4ez",
        "outputId": "35fa90cc-cd1c-47b4-bd8c-58d4e2af44e7"
      },
      "execution_count": null,
      "outputs": [
        {
          "output_type": "execute_result",
          "data": {
            "text/plain": [
              "{'loss': [2.670442819595337,\n",
              "  2.2966487407684326,\n",
              "  2.1898417472839355,\n",
              "  1.9803214073181152,\n",
              "  1.6616606712341309,\n",
              "  1.5306240320205688,\n",
              "  1.079641580581665,\n",
              "  0.7272243499755859,\n",
              "  0.6677443981170654,\n",
              "  0.641130805015564,\n",
              "  0.6200234889984131,\n",
              "  0.6025139689445496,\n",
              "  0.5878023505210876,\n",
              "  0.5739016532897949,\n",
              "  0.5597056150436401,\n",
              "  0.5471396446228027,\n",
              "  0.5346450805664062,\n",
              "  0.5245383381843567,\n",
              "  0.5155995488166809,\n",
              "  0.506270170211792,\n",
              "  0.49768123030662537,\n",
              "  0.48994842171669006,\n",
              "  0.4820506274700165,\n",
              "  0.4741818606853485,\n",
              "  0.466524213552475,\n",
              "  0.45901358127593994,\n",
              "  0.4513114392757416,\n",
              "  0.4443608224391937,\n",
              "  0.4382578432559967,\n",
              "  0.4319208860397339,\n",
              "  0.4258553385734558,\n",
              "  0.42020732164382935,\n",
              "  0.41417455673217773,\n",
              "  0.4084218144416809,\n",
              "  0.4025861620903015,\n",
              "  0.39685508608818054,\n",
              "  0.3910221457481384,\n",
              "  0.38428395986557007,\n",
              "  0.37867018580436707,\n",
              "  0.3721748888492584,\n",
              "  0.3661437928676605,\n",
              "  0.3599676191806793,\n",
              "  0.35412755608558655,\n",
              "  0.34771546721458435,\n",
              "  0.3419930636882782,\n",
              "  0.3360823690891266,\n",
              "  0.3299109935760498,\n",
              "  0.3240366578102112,\n",
              "  0.3179377019405365,\n",
              "  0.3124920725822449,\n",
              "  0.30670422315597534,\n",
              "  0.3004433810710907,\n",
              "  0.29441753029823303,\n",
              "  0.288955420255661,\n",
              "  0.2834697961807251,\n",
              "  0.27814024686813354,\n",
              "  0.2726626992225647,\n",
              "  0.2675878405570984,\n",
              "  0.2618207037448883,\n",
              "  0.25639909505844116,\n",
              "  0.25016388297080994,\n",
              "  0.24516037106513977,\n",
              "  0.23866267502307892,\n",
              "  0.23312166333198547,\n",
              "  0.227409228682518,\n",
              "  0.2220538854598999,\n",
              "  0.21631410717964172,\n",
              "  0.2104763239622116,\n",
              "  0.20474985241889954,\n",
              "  0.19943499565124512,\n",
              "  0.1941380500793457,\n",
              "  0.18834225833415985,\n",
              "  0.1829795092344284,\n",
              "  0.17780940234661102,\n",
              "  0.17284247279167175,\n",
              "  0.16885751485824585,\n",
              "  0.16438499093055725,\n",
              "  0.16053232550621033,\n",
              "  0.15640269219875336,\n",
              "  0.1526033580303192,\n",
              "  0.14949515461921692,\n",
              "  0.14653514325618744,\n",
              "  0.14310070872306824,\n",
              "  0.14025302231311798,\n",
              "  0.13747969269752502,\n",
              "  0.13449127972126007,\n",
              "  0.13198353350162506,\n",
              "  0.1291453242301941,\n",
              "  0.1267060786485672,\n",
              "  0.12427391111850739,\n",
              "  0.12183399498462677,\n",
              "  0.1200110986828804,\n",
              "  0.11817140877246857,\n",
              "  0.1157689020037651,\n",
              "  0.11377951502799988,\n",
              "  0.11233175545930862,\n",
              "  0.11034706234931946,\n",
              "  0.10865256935358047,\n",
              "  0.10686782747507095,\n",
              "  0.10515633970499039],\n",
              " 'accuracy': [0.6333333253860474,\n",
              "  0.6200000047683716,\n",
              "  0.6266666650772095,\n",
              "  0.6399999856948853,\n",
              "  0.6600000262260437,\n",
              "  0.6666666865348816,\n",
              "  0.6666666865348816,\n",
              "  0.6733333468437195,\n",
              "  0.6866666674613953,\n",
              "  0.6933333277702332,\n",
              "  0.6933333277702332,\n",
              "  0.6933333277702332,\n",
              "  0.699999988079071,\n",
              "  0.699999988079071,\n",
              "  0.699999988079071,\n",
              "  0.7066666483879089,\n",
              "  0.7266666889190674,\n",
              "  0.7266666889190674,\n",
              "  0.7266666889190674,\n",
              "  0.7266666889190674,\n",
              "  0.7333333492279053,\n",
              "  0.7333333492279053,\n",
              "  0.7333333492279053,\n",
              "  0.7400000095367432,\n",
              "  0.7400000095367432,\n",
              "  0.746666669845581,\n",
              "  0.746666669845581,\n",
              "  0.7599999904632568,\n",
              "  0.7599999904632568,\n",
              "  0.7599999904632568,\n",
              "  0.7599999904632568,\n",
              "  0.7599999904632568,\n",
              "  0.7599999904632568,\n",
              "  0.7666666507720947,\n",
              "  0.7799999713897705,\n",
              "  0.7799999713897705,\n",
              "  0.7799999713897705,\n",
              "  0.7799999713897705,\n",
              "  0.7799999713897705,\n",
              "  0.7866666913032532,\n",
              "  0.7866666913032532,\n",
              "  0.7866666913032532,\n",
              "  0.7866666913032532,\n",
              "  0.7866666913032532,\n",
              "  0.7933333516120911,\n",
              "  0.7933333516120911,\n",
              "  0.7933333516120911,\n",
              "  0.7933333516120911,\n",
              "  0.7933333516120911,\n",
              "  0.7933333516120911,\n",
              "  0.7933333516120911,\n",
              "  0.800000011920929,\n",
              "  0.8066666722297668,\n",
              "  0.8133333325386047,\n",
              "  0.8266666531562805,\n",
              "  0.8266666531562805,\n",
              "  0.8333333134651184,\n",
              "  0.8399999737739563,\n",
              "  0.8399999737739563,\n",
              "  0.846666693687439,\n",
              "  0.8533333539962769,\n",
              "  0.8666666746139526,\n",
              "  0.8666666746139526,\n",
              "  0.8733333349227905,\n",
              "  0.8733333349227905,\n",
              "  0.8799999952316284,\n",
              "  0.8933333158493042,\n",
              "  0.9066666960716248,\n",
              "  0.9200000166893005,\n",
              "  0.9333333373069763,\n",
              "  0.9399999976158142,\n",
              "  0.9399999976158142,\n",
              "  0.9466666579246521,\n",
              "  0.95333331823349,\n",
              "  0.9599999785423279,\n",
              "  0.9599999785423279,\n",
              "  0.9733333587646484,\n",
              "  0.9733333587646484,\n",
              "  0.9733333587646484,\n",
              "  0.9800000190734863,\n",
              "  0.9800000190734863,\n",
              "  0.9800000190734863,\n",
              "  0.9800000190734863,\n",
              "  0.9800000190734863,\n",
              "  0.9800000190734863,\n",
              "  0.9800000190734863,\n",
              "  0.9866666793823242,\n",
              "  0.9866666793823242,\n",
              "  0.9866666793823242,\n",
              "  0.9866666793823242,\n",
              "  0.9866666793823242,\n",
              "  0.9866666793823242,\n",
              "  0.9866666793823242,\n",
              "  0.9866666793823242,\n",
              "  0.9866666793823242,\n",
              "  0.9866666793823242,\n",
              "  0.9866666793823242,\n",
              "  0.9866666793823242,\n",
              "  0.9866666793823242,\n",
              "  0.9866666793823242],\n",
              " 'val_loss': [2.792285442352295,\n",
              "  2.4443368911743164,\n",
              "  2.3561851978302,\n",
              "  2.017946720123291,\n",
              "  1.6633872985839844,\n",
              "  1.253173589706421,\n",
              "  0.8604894280433655,\n",
              "  0.7651112675666809,\n",
              "  0.7274065613746643,\n",
              "  0.7035922408103943,\n",
              "  0.6862043738365173,\n",
              "  0.6720582842826843,\n",
              "  0.6596813201904297,\n",
              "  0.6481928825378418,\n",
              "  0.637397289276123,\n",
              "  0.6272183656692505,\n",
              "  0.6183111667633057,\n",
              "  0.610238254070282,\n",
              "  0.6031543016433716,\n",
              "  0.5958722233772278,\n",
              "  0.5889249444007874,\n",
              "  0.581823468208313,\n",
              "  0.5749484300613403,\n",
              "  0.5678457021713257,\n",
              "  0.5608062148094177,\n",
              "  0.5541108250617981,\n",
              "  0.5476255416870117,\n",
              "  0.5411236882209778,\n",
              "  0.5355144739151001,\n",
              "  0.5293662548065186,\n",
              "  0.5233163237571716,\n",
              "  0.5172078609466553,\n",
              "  0.5111998319625854,\n",
              "  0.5049764513969421,\n",
              "  0.49839651584625244,\n",
              "  0.4917568862438202,\n",
              "  0.48451441526412964,\n",
              "  0.47774893045425415,\n",
              "  0.47031986713409424,\n",
              "  0.4637080430984497,\n",
              "  0.45662662386894226,\n",
              "  0.4495949447154999,\n",
              "  0.44248566031455994,\n",
              "  0.4358842968940735,\n",
              "  0.4290720224380493,\n",
              "  0.42178887128829956,\n",
              "  0.41497746109962463,\n",
              "  0.408035546541214,\n",
              "  0.4012543857097626,\n",
              "  0.3943726718425751,\n",
              "  0.3877444565296173,\n",
              "  0.38103219866752625,\n",
              "  0.3745924234390259,\n",
              "  0.36730876564979553,\n",
              "  0.3602719008922577,\n",
              "  0.3533371388912201,\n",
              "  0.3460887670516968,\n",
              "  0.33837687969207764,\n",
              "  0.33114388585090637,\n",
              "  0.32350656390190125,\n",
              "  0.31658458709716797,\n",
              "  0.30916449427604675,\n",
              "  0.3020791709423065,\n",
              "  0.2945217788219452,\n",
              "  0.28662556409835815,\n",
              "  0.2786800265312195,\n",
              "  0.27144259214401245,\n",
              "  0.2646385729312897,\n",
              "  0.2585128843784332,\n",
              "  0.25181323289871216,\n",
              "  0.24514947831630707,\n",
              "  0.23930010199546814,\n",
              "  0.233500137925148,\n",
              "  0.2274874597787857,\n",
              "  0.22191177308559418,\n",
              "  0.21574988961219788,\n",
              "  0.21080262959003448,\n",
              "  0.20533594489097595,\n",
              "  0.20010346174240112,\n",
              "  0.19594933092594147,\n",
              "  0.19212298095226288,\n",
              "  0.18862882256507874,\n",
              "  0.18579377233982086,\n",
              "  0.18258318305015564,\n",
              "  0.17966175079345703,\n",
              "  0.17636951804161072,\n",
              "  0.1733541339635849,\n",
              "  0.17039541900157928,\n",
              "  0.16789135336875916,\n",
              "  0.1651202291250229,\n",
              "  0.1627388298511505,\n",
              "  0.1607562005519867,\n",
              "  0.158620685338974,\n",
              "  0.15637195110321045,\n",
              "  0.15428070724010468,\n",
              "  0.1517753303050995,\n",
              "  0.15003624558448792,\n",
              "  0.14845305681228638,\n",
              "  0.1464204341173172,\n",
              "  0.14480243623256683],\n",
              " 'val_accuracy': [0.6266666650772095,\n",
              "  0.6266666650772095,\n",
              "  0.6399999856948853,\n",
              "  0.6466666460037231,\n",
              "  0.6466666460037231,\n",
              "  0.653333306312561,\n",
              "  0.6600000262260437,\n",
              "  0.6666666865348816,\n",
              "  0.6666666865348816,\n",
              "  0.6733333468437195,\n",
              "  0.6733333468437195,\n",
              "  0.6733333468437195,\n",
              "  0.6733333468437195,\n",
              "  0.6733333468437195,\n",
              "  0.6733333468437195,\n",
              "  0.6733333468437195,\n",
              "  0.6733333468437195,\n",
              "  0.6800000071525574,\n",
              "  0.6800000071525574,\n",
              "  0.6800000071525574,\n",
              "  0.6800000071525574,\n",
              "  0.6800000071525574,\n",
              "  0.6800000071525574,\n",
              "  0.6800000071525574,\n",
              "  0.6800000071525574,\n",
              "  0.6800000071525574,\n",
              "  0.6933333277702332,\n",
              "  0.6933333277702332,\n",
              "  0.699999988079071,\n",
              "  0.7066666483879089,\n",
              "  0.7066666483879089,\n",
              "  0.7066666483879089,\n",
              "  0.7066666483879089,\n",
              "  0.7066666483879089,\n",
              "  0.7066666483879089,\n",
              "  0.7133333086967468,\n",
              "  0.7133333086967468,\n",
              "  0.7133333086967468,\n",
              "  0.7066666483879089,\n",
              "  0.7066666483879089,\n",
              "  0.7066666483879089,\n",
              "  0.7133333086967468,\n",
              "  0.7133333086967468,\n",
              "  0.7133333086967468,\n",
              "  0.7133333086967468,\n",
              "  0.7200000286102295,\n",
              "  0.7200000286102295,\n",
              "  0.7333333492279053,\n",
              "  0.7400000095367432,\n",
              "  0.7400000095367432,\n",
              "  0.7400000095367432,\n",
              "  0.7400000095367432,\n",
              "  0.746666669845581,\n",
              "  0.753333330154419,\n",
              "  0.7599999904632568,\n",
              "  0.7733333110809326,\n",
              "  0.7733333110809326,\n",
              "  0.7733333110809326,\n",
              "  0.7799999713897705,\n",
              "  0.7799999713897705,\n",
              "  0.7933333516120911,\n",
              "  0.8066666722297668,\n",
              "  0.8133333325386047,\n",
              "  0.8266666531562805,\n",
              "  0.8333333134651184,\n",
              "  0.8333333134651184,\n",
              "  0.8399999737739563,\n",
              "  0.846666693687439,\n",
              "  0.8600000143051147,\n",
              "  0.8600000143051147,\n",
              "  0.8600000143051147,\n",
              "  0.8733333349227905,\n",
              "  0.8799999952316284,\n",
              "  0.8866666555404663,\n",
              "  0.8866666555404663,\n",
              "  0.8866666555404663,\n",
              "  0.8933333158493042,\n",
              "  0.8999999761581421,\n",
              "  0.8999999761581421,\n",
              "  0.8999999761581421,\n",
              "  0.9066666960716248,\n",
              "  0.9200000166893005,\n",
              "  0.9200000166893005,\n",
              "  0.9200000166893005,\n",
              "  0.9200000166893005,\n",
              "  0.9399999976158142,\n",
              "  0.9399999976158142,\n",
              "  0.9466666579246521,\n",
              "  0.9466666579246521,\n",
              "  0.9466666579246521,\n",
              "  0.9466666579246521,\n",
              "  0.95333331823349,\n",
              "  0.95333331823349,\n",
              "  0.95333331823349,\n",
              "  0.95333331823349,\n",
              "  0.9466666579246521,\n",
              "  0.95333331823349,\n",
              "  0.9466666579246521,\n",
              "  0.95333331823349,\n",
              "  0.9599999785423279]}"
            ]
          },
          "metadata": {},
          "execution_count": 20
        }
      ]
    },
    {
      "cell_type": "markdown",
      "metadata": {
        "deletable": false,
        "editable": false,
        "nbgrader": {
          "cell_type": "markdown",
          "checksum": "b322042f3d8b515b4c5603946e355b13",
          "grade": false,
          "grade_id": "cell-f3490b86d4b284b0",
          "locked": true,
          "schema_version": 3,
          "solution": false,
          "task": false
        },
        "id": "3eAVfuLpH6CG"
      },
      "source": [
        "### 2c. Analyze and Compare\n",
        "\n",
        "**Before you Start**: You will need to install an additional library for this next segment. \n",
        "\n",
        "Install the package `mlxtend` into the environment you are using for the sprint challenge.\n",
        "\n",
        "You can install this package using the following statement in the terminal\n",
        "\n",
        "```python\n",
        "pip install mlxtend\n",
        "```\n",
        "\n",
        "Or you can install this package using the following statement in your notebook\n",
        "\n",
        "```python\n",
        "!pip install mlxtend\n",
        "```\n",
        "\n",
        "If you choose to install this package from within your notebook, be sure to delete the install statement afterwards so that CodeGrade doesn't try to install it and potentially crash. \n",
        "\n",
        "\n",
        "The cells below generate decision boundary plots of your models (`model1` & `model2`). Review the plots."
      ]
    },
    {
      "cell_type": "code",
      "source": [
        "# !pip install mlxtend"
      ],
      "metadata": {
        "id": "RcFi7OA2fbJY"
      },
      "execution_count": null,
      "outputs": []
    },
    {
      "cell_type": "code",
      "execution_count": null,
      "metadata": {
        "deletable": false,
        "editable": false,
        "nbgrader": {
          "cell_type": "code",
          "checksum": "77f6f2a9a5839eeba03aabe273a272d0",
          "grade": false,
          "grade_id": "cell-40d69928751b50a3",
          "locked": true,
          "schema_version": 3,
          "solution": false,
          "task": false
        },
        "id": "BaLKw72zH6CG",
        "colab": {
          "base_uri": "https://localhost:8080/",
          "height": 445
        },
        "outputId": "4fe1bfe0-563e-41c0-b48f-72d584e0146d"
      },
      "outputs": [
        {
          "output_type": "stream",
          "name": "stderr",
          "text": [
            "/usr/local/lib/python3.7/dist-packages/mlxtend/plotting/decision_regions.py:244: MatplotlibDeprecationWarning: Passing unsupported keyword arguments to axis() will raise a TypeError in 3.3.\n",
            "  ax.axis(xmin=xx.min(), xmax=xx.max(), y_min=yy.min(), y_max=yy.max())\n"
          ]
        },
        {
          "output_type": "display_data",
          "data": {
            "text/plain": [
              "<Figure size 864x432 with 2 Axes>"
            ],
            "image/png": "[encoded data removed]"
          },
          "metadata": {
            "needs_background": "light"
          }
        }
      ],
      "source": [
        "from mlxtend.plotting import plot_decision_regions\n",
        "\n",
        "\n",
        "fig = plt.figure(figsize=(12,6))\n",
        "\n",
        "for clf, hist, name, grd in zip([model1,model2], [h1, h2],['Perceptron', 'Multi-Layer Perceptron'],[1,2]):\n",
        "\n",
        "    ax = plt.subplot(1,2, grd)\n",
        "    fig = plot_decision_regions(X=X, y=y, clf=clf, legend=2)\n",
        "    title = f\"{name} with {hist.history['accuracy'][-1]:,.2f} Accuracy\"\n",
        "    plt.title(title)\n",
        "\n",
        "plt.show()"
      ]
    },
    {
      "cell_type": "markdown",
      "metadata": {
        "deletable": false,
        "editable": false,
        "nbgrader": {
          "cell_type": "markdown",
          "checksum": "6115e8a53cd304ed19dcead4c4ebcaae",
          "grade": false,
          "grade_id": "cell-302694c508c8da0e",
          "locked": true,
          "schema_version": 3,
          "solution": false,
          "task": false
        },
        "id": "wNWTa_jpH6CG"
      },
      "source": [
        "#### Review\n",
        "1) Why does the Perceptron (model1) only achieve about 50% accuracy?\n",
        "\n",
        "A simple perceptron can only learn a linear decision boundary as seen in the visualization above. Since the data points are distributed in a way where only a single class is represented per quadrant, a linear decision boundary can never reach an accuracy much higher than about 50% since each class will be equally represented on either side of that linear decision boundary.\n",
        "\n",
        "2) What is the architectural property of the Multi-Layer Perceptron that allows it to more accurately learn the relationship between X and Y?\n",
        "\n",
        "The additional layers and neurons allow a neural networks to learn non-linear relationships between X and Y. Each layer in a neural net represents an N-dimensional vector space. So by passing data from one layer to another, we are passing a data vector from one vector space to another, each with a different dimensions, often times this will change the geometry of the data points (i.e. their distribution in space) in such a way where a linear separation then becomes possible. This is the same idea behind the Kernel Trick in Support Vector Machines (SVM). "
      ]
    },
    {
      "cell_type": "markdown",
      "metadata": {
        "deletable": false,
        "editable": false,
        "nbgrader": {
          "cell_type": "markdown",
          "checksum": "54d26b93a7851569bb4b1b4800181af4",
          "grade": false,
          "grade_id": "cell-db1863a277e4fd6b",
          "locked": true,
          "schema_version": 3,
          "solution": false,
          "task": false
        },
        "id": "repi1iHbH6CG"
      },
      "source": [
        "## 3. Keras MMP <a id=\"Q3\"></a>\n",
        "\n",
        "- Implement a Multilayer Perceptron architecture of your choosing using the Keras library. \n",
        "- Train your model and report its baseline accuracy. \n",
        "- Then `hyper-parameters tune two parameters each with no more than 2 values each`\n",
        "    - Due to limited computational resources on CodeGrade `DO NOT INCLUDE ADDITIONAL PARAMETERS OR VALUES PLEASE`\n",
        "- Report your optimized model's accuracy\n",
        "- Use the Heart Disease Dataset provided (binary classification)\n",
        "- Use an appropriate loss function for a binary classification task\n",
        "- Use an appropriate activation function on the final layer of your network.\n",
        "- Train your model using verbose output for ease of grading.\n",
        "- Use GridSearchCV to hyper-parameters tune your model. \n",
        "    - **Use `n_jobs` = 1**\n",
        "- When hyper-parameters tuning, show you work by adding code cells for each new experiment.\n",
        "- Report the accuracy for each combination of hyper-parameters as you test them so that we can easily see which resulted in the highest accuracy."
      ]
    },
    {
      "cell_type": "code",
      "execution_count": null,
      "metadata": {
        "inputHidden": false,
        "jupyter": {
          "outputs_hidden": false
        },
        "outputHidden": false,
        "id": "HplFZRVIH6CG",
        "colab": {
          "base_uri": "https://localhost:8080/",
          "height": 224
        },
        "outputId": "20e1644d-da51-4cac-bb5c-598484adc1f5"
      },
      "outputs": [
        {
          "output_type": "stream",
          "name": "stdout",
          "text": [
            "(303, 14)\n"
          ]
        },
        {
          "output_type": "execute_result",
          "data": {
            "text/plain": [
              "     age  sex  cp  trestbps  chol  fbs  restecg  thalach  exang  oldpeak  \\\n",
              "140   51    0   2       120   295    0        0      157      0      0.6   \n",
              "153   66    0   2       146   278    0        0      152      0      0.0   \n",
              "38    65    0   2       155   269    0        1      148      0      0.8   \n",
              "104   50    1   2       129   196    0        1      163      0      0.0   \n",
              "217   63    1   0       130   330    1        0      132      1      1.8   \n",
              "\n",
              "     slope  ca  thal  target  \n",
              "140      2   0     2       1  \n",
              "153      1   1     2       1  \n",
              "38       2   0     2       1  \n",
              "104      2   0     2       1  \n",
              "217      2   3     3       0  "
            ],
            "text/html": [
              "\n",
              "  <div id=\"df-7ca3a5e4-8603-43d4-b2dd-41cf360f4725\">\n",
              "    <div class=\"colab-df-container\">\n",
              "      <div>\n",
              "<style scoped>\n",
              "    .dataframe tbody tr th:only-of-type {\n",
              "        vertical-align: middle;\n",
              "    }\n",
              "\n",
              "    .dataframe tbody tr th {\n",
              "        vertical-align: top;\n",
              "    }\n",
              "\n",
              "    .dataframe thead th {\n",
              "        text-align: right;\n",
              "    }\n",
              "</style>\n",
              "<table border=\"1\" class=\"dataframe\">\n",
              "  <thead>\n",
              "    <tr style=\"text-align: right;\">\n",
              "      <th></th>\n",
              "      <th>age</th>\n",
              "      <th>sex</th>\n",
              "      <th>cp</th>\n",
              "      <th>trestbps</th>\n",
              "      <th>chol</th>\n",
              "      <th>fbs</th>\n",
              "      <th>restecg</th>\n",
              "      <th>thalach</th>\n",
              "      <th>exang</th>\n",
              "      <th>oldpeak</th>\n",
              "      <th>slope</th>\n",
              "      <th>ca</th>\n",
              "      <th>thal</th>\n",
              "      <th>target</th>\n",
              "    </tr>\n",
              "  </thead>\n",
              "  <tbody>\n",
              "    <tr>\n",
              "      <th>140</th>\n",
              "      <td>51</td>\n",
              "      <td>0</td>\n",
              "      <td>2</td>\n",
              "      <td>120</td>\n",
              "      <td>295</td>\n",
              "      <td>0</td>\n",
              "      <td>0</td>\n",
              "      <td>157</td>\n",
              "      <td>0</td>\n",
              "      <td>0.6</td>\n",
              "      <td>2</td>\n",
              "      <td>0</td>\n",
              "      <td>2</td>\n",
              "      <td>1</td>\n",
              "    </tr>\n",
              "    <tr>\n",
              "      <th>153</th>\n",
              "      <td>66</td>\n",
              "      <td>0</td>\n",
              "      <td>2</td>\n",
              "      <td>146</td>\n",
              "      <td>278</td>\n",
              "      <td>0</td>\n",
              "      <td>0</td>\n",
              "      <td>152</td>\n",
              "      <td>0</td>\n",
              "      <td>0.0</td>\n",
              "      <td>1</td>\n",
              "      <td>1</td>\n",
              "      <td>2</td>\n",
              "      <td>1</td>\n",
              "    </tr>\n",
              "    <tr>\n",
              "      <th>38</th>\n",
              "      <td>65</td>\n",
              "      <td>0</td>\n",
              "      <td>2</td>\n",
              "      <td>155</td>\n",
              "      <td>269</td>\n",
              "      <td>0</td>\n",
              "      <td>1</td>\n",
              "      <td>148</td>\n",
              "      <td>0</td>\n",
              "      <td>0.8</td>\n",
              "      <td>2</td>\n",
              "      <td>0</td>\n",
              "      <td>2</td>\n",
              "      <td>1</td>\n",
              "    </tr>\n",
              "    <tr>\n",
              "      <th>104</th>\n",
              "      <td>50</td>\n",
              "      <td>1</td>\n",
              "      <td>2</td>\n",
              "      <td>129</td>\n",
              "      <td>196</td>\n",
              "      <td>0</td>\n",
              "      <td>1</td>\n",
              "      <td>163</td>\n",
              "      <td>0</td>\n",
              "      <td>0.0</td>\n",
              "      <td>2</td>\n",
              "      <td>0</td>\n",
              "      <td>2</td>\n",
              "      <td>1</td>\n",
              "    </tr>\n",
              "    <tr>\n",
              "      <th>217</th>\n",
              "      <td>63</td>\n",
              "      <td>1</td>\n",
              "      <td>0</td>\n",
              "      <td>130</td>\n",
              "      <td>330</td>\n",
              "      <td>1</td>\n",
              "      <td>0</td>\n",
              "      <td>132</td>\n",
              "      <td>1</td>\n",
              "      <td>1.8</td>\n",
              "      <td>2</td>\n",
              "      <td>3</td>\n",
              "      <td>3</td>\n",
              "      <td>0</td>\n",
              "    </tr>\n",
              "  </tbody>\n",
              "</table>\n",
              "</div>\n",
              "      <button class=\"colab-df-convert\" onclick=\"convertToInteractive('df-7ca3a5e4-8603-43d4-b2dd-41cf360f4725')\"\n",
              "              title=\"Convert this dataframe to an interactive table.\"\n",
              "              style=\"display:none;\">\n",
              "        \n",
              "  <svg xmlns=\"http://www.w3.org/2000/svg\" height=\"24px\"viewBox=\"0 0 24 24\"\n",
              "       width=\"24px\">\n",
              "    <path d=\"M0 0h24v24H0V0z\" fill=\"none\"/>\n",
              "    <path d=\"M18.56 5.44l.94 2.06.94-2.06 2.06-.94-2.06-.94-.94-2.06-.94 2.06-2.06.94zm-11 1L8.5 8.5l.94-2.06 2.06-.94-2.06-.94L8.5 2.5l-.94 2.06-2.06.94zm10 10l.94 2.06.94-2.06 2.06-.94-2.06-.94-.94-2.06-.94 2.06-2.06.94z\"/><path d=\"M17.41 7.96l-1.37-1.37c-.4-.4-.92-.59-1.43-.59-.52 0-1.04.2-1.43.59L10.3 9.45l-7.72 7.72c-.78.78-.78 2.05 0 2.83L4 21.41c.39.39.9.59 1.41.59.51 0 1.02-.2 1.41-.59l7.78-7.78 2.81-2.81c.8-.78.8-2.07 0-2.86zM5.41 20L4 18.59l7.72-7.72 1.47 1.35L5.41 20z\"/>\n",
              "  </svg>\n",
              "      </button>\n",
              "      \n",
              "  <style>\n",
              "    .colab-df-container {\n",
              "      display:flex;\n",
              "      flex-wrap:wrap;\n",
              "      gap: 12px;\n",
              "    }\n",
              "\n",
              "    .colab-df-convert {\n",
              "      background-color: #E8F0FE;\n",
              "      border: none;\n",
              "      border-radius: 50%;\n",
              "      cursor: pointer;\n",
              "      display: none;\n",
              "      fill: #1967D2;\n",
              "      height: 32px;\n",
              "      padding: 0 0 0 0;\n",
              "      width: 32px;\n",
              "    }\n",
              "\n",
              "    .colab-df-convert:hover {\n",
              "      background-color: #E2EBFA;\n",
              "      box-shadow: 0px 1px 2px rgba(60, 64, 67, 0.3), 0px 1px 3px 1px rgba(60, 64, 67, 0.15);\n",
              "      fill: #174EA6;\n",
              "    }\n",
              "\n",
              "    [theme=dark] .colab-df-convert {\n",
              "      background-color: #3B4455;\n",
              "      fill: #D2E3FC;\n",
              "    }\n",
              "\n",
              "    [theme=dark] .colab-df-convert:hover {\n",
              "      background-color: #434B5C;\n",
              "      box-shadow: 0px 1px 3px 1px rgba(0, 0, 0, 0.15);\n",
              "      filter: drop-shadow(0px 1px 2px rgba(0, 0, 0, 0.3));\n",
              "      fill: #FFFFFF;\n",
              "    }\n",
              "  </style>\n",
              "\n",
              "      <script>\n",
              "        const buttonEl =\n",
              "          document.querySelector('#df-7ca3a5e4-8603-43d4-b2dd-41cf360f4725 button.colab-df-convert');\n",
              "        buttonEl.style.display =\n",
              "          google.colab.kernel.accessAllowed ? 'block' : 'none';\n",
              "\n",
              "        async function convertToInteractive(key) {\n",
              "          const element = document.querySelector('#df-7ca3a5e4-8603-43d4-b2dd-41cf360f4725');\n",
              "          const dataTable =\n",
              "            await google.colab.kernel.invokeFunction('convertToInteractive',\n",
              "                                                     [key], {});\n",
              "          if (!dataTable) return;\n",
              "\n",
              "          const docLinkHtml = 'Like what you see? Visit the ' +\n",
              "            '<a target=\"_blank\" href=https://colab.research.google.com/notebooks/data_table.ipynb>data table notebook</a>'\n",
              "            + ' to learn more about interactive tables.';\n",
              "          element.innerHTML = '';\n",
              "          dataTable['output_type'] = 'display_data';\n",
              "          await google.colab.output.renderOutput(dataTable, element);\n",
              "          const docLink = document.createElement('div');\n",
              "          docLink.innerHTML = docLinkHtml;\n",
              "          element.appendChild(docLink);\n",
              "        }\n",
              "      </script>\n",
              "    </div>\n",
              "  </div>\n",
              "  "
            ]
          },
          "metadata": {},
          "execution_count": 23
        }
      ],
      "source": [
        "# load data\n",
        "data_path = 'https://raw.githubusercontent.com/ryanleeallred/datasets/master/heart.csv'\n",
        "df = pd.read_csv(data_path)\n",
        "df = df.sample(frac=1)\n",
        "print(df.shape)\n",
        "df.head()"
      ]
    },
    {
      "cell_type": "code",
      "execution_count": null,
      "metadata": {
        "deletable": false,
        "nbgrader": {
          "cell_type": "code",
          "checksum": "22de1dc5d17d7a0bc674d082c33e8b65",
          "grade": false,
          "grade_id": "cell-85dc40f19f5a1d6b",
          "locked": false,
          "schema_version": 3,
          "solution": true,
          "task": false
        },
        "id": "fm-vkF8KH6CH"
      },
      "outputs": [],
      "source": [
        "# Create an input matrix named 'X' store it in a 2D numpy array\n",
        "\n",
        "# Create an output vector for the labels named 'Y', store it in 1D numpy array\n",
        "\n",
        "# YOUR CODE HERE\n",
        "target = 'target'\n",
        "Y=df['target']\n",
        "X = df.drop(columns=target)"
      ]
    },
    {
      "cell_type": "code",
      "execution_count": null,
      "metadata": {
        "deletable": false,
        "editable": false,
        "nbgrader": {
          "cell_type": "code",
          "checksum": "825d4f808810a2a8d6301d7453afe478",
          "grade": true,
          "grade_id": "cell-c17c686c974edc2e",
          "locked": true,
          "points": 1,
          "schema_version": 3,
          "solution": false,
          "task": false
        },
        "id": "Otj11jUuH6CH"
      },
      "outputs": [],
      "source": [
        "# Visible Testing\n",
        "assert X.shape[0] == 303, \"Did you drop/lose some rows in X? Did you properly load and split the data?\"\n",
        "assert X.shape[1] == 13, \"Did you drop/lose some columns in X? Did you properly load and split the data?\"\n",
        "assert len(Y)== 303, \"Did you drop/lose some rows in Y? Did you properly load and split the data?\""
      ]
    },
    {
      "cell_type": "code",
      "source": [
        "# from tensorflow.keras.models import Sequential # sequential "
      ],
      "metadata": {
        "id": "-LaMPWtpLvyB"
      },
      "execution_count": null,
      "outputs": []
    },
    {
      "cell_type": "code",
      "source": [
        "from tensorflow.python.keras import Sequential"
      ],
      "metadata": {
        "id": "YA-BwFotMAVN"
      },
      "execution_count": null,
      "outputs": []
    },
    {
      "cell_type": "code",
      "execution_count": null,
      "metadata": {
        "deletable": false,
        "nbgrader": {
          "cell_type": "code",
          "checksum": "475835631ff6a34028443dbf604bd922",
          "grade": false,
          "grade_id": "cell-cfc5517cd0b6fa64",
          "locked": false,
          "schema_version": 3,
          "solution": true,
          "task": false
        },
        "id": "YNDE-ozqH6CH"
      },
      "outputs": [],
      "source": [
        "# Create a function named 'create_model' that returns a complied keras model -  required for KerasClassifier\n",
        "# YOUR CODE HERE\n",
        "def create_model(units=32, optimizer='adam', activation='sigmoid'):\n",
        "    \"\"\"\"mmode\n",
        "    Returns a compiled keras model \n",
        "    \n",
        "    Parameters\n",
        "    ----------\n",
        "    units: int \n",
        "        number of neruons/nodes/units to use in each hidden layer\n",
        "        \n",
        "    Returns\n",
        "    -------\n",
        "    model: keras object \n",
        "    \"\"\"\n",
        "    \n",
        "    model = Sequential()\n",
        "    model.add(Dense(units, input_dim=13, activation=activation))\n",
        "    model.add(Dense(10, activation='sigmoid')) \n",
        "    \n",
        "    model.compile(loss='sparse_categorical_crossentropy', \n",
        "                  optimizer=optimizer, \n",
        "                  metrics=['accuracy']) \n",
        "    \n",
        "    return model"
      ]
    },
    {
      "cell_type": "code",
      "execution_count": null,
      "metadata": {
        "deletable": false,
        "editable": false,
        "nbgrader": {
          "cell_type": "code",
          "checksum": "7b906697afb0a3b52cd19e9548eae6a7",
          "grade": true,
          "grade_id": "cell-fac25126eaf1eee4",
          "locked": true,
          "points": 1,
          "schema_version": 3,
          "solution": false,
          "task": false
        },
        "id": "1EoqBnMsH6CH"
      },
      "outputs": [],
      "source": [
        "# Visible Testing\n",
        "assert create_model().__module__ == 'tensorflow.python.keras.engine.sequential', \"create_model should return a keras model that was created using the Sequential class.\""
      ]
    },
    {
      "cell_type": "code",
      "source": [
        "from tensorflow.python.keras.wrappers.scikit_learn import KerasClassifier #KerasClassifier "
      ],
      "metadata": {
        "id": "7LPNoZ45uFoU"
      },
      "execution_count": null,
      "outputs": []
    },
    {
      "cell_type": "code",
      "execution_count": null,
      "metadata": {
        "deletable": false,
        "nbgrader": {
          "cell_type": "code",
          "checksum": "0412c74b7803790452d4914d99995dd2",
          "grade": false,
          "grade_id": "cell-fbc3d0a07230078c",
          "locked": false,
          "schema_version": 3,
          "solution": true,
          "task": false
        },
        "id": "EhAcLp9aH6CH"
      },
      "outputs": [],
      "source": [
        "# Pass 'create_model' into KerasClassifier, store KerasClassifier to a variable named 'model'\n",
        "# YOUR CODE HERE\n",
        "model = KerasClassifier(build_fn=create_model)"
      ]
    },
    {
      "cell_type": "code",
      "source": [
        "model.__module__"
      ],
      "metadata": {
        "colab": {
          "base_uri": "https://localhost:8080/",
          "height": 36
        },
        "id": "XG3LMacrN31z",
        "outputId": "170824eb-3a2c-4fcf-84d0-495fb3bfcac2"
      },
      "execution_count": null,
      "outputs": [
        {
          "output_type": "execute_result",
          "data": {
            "text/plain": [
              "'tensorflow.python.keras.wrappers.scikit_learn'"
            ],
            "application/vnd.google.colaboratory.intrinsic+json": {
              "type": "string"
            }
          },
          "metadata": {},
          "execution_count": 32
        }
      ]
    },
    {
      "cell_type": "code",
      "execution_count": null,
      "metadata": {
        "deletable": false,
        "editable": false,
        "nbgrader": {
          "cell_type": "code",
          "checksum": "0442c29a94065e922c5ae929976a52ab",
          "grade": true,
          "grade_id": "cell-464e7506993775f2",
          "locked": true,
          "points": 1,
          "schema_version": 3,
          "solution": false,
          "task": false
        },
        "id": "gPEGlVPlH6CI"
      },
      "outputs": [],
      "source": [
        "# Visible Testing\n",
        "assert model.__module__ == 'tensorflow.python.keras.wrappers.scikit_learn', \"model should be a instance of KerasClassifier.\""
      ]
    },
    {
      "cell_type": "code",
      "execution_count": null,
      "metadata": {
        "deletable": false,
        "nbgrader": {
          "cell_type": "code",
          "checksum": "f88603ef37a4d3d2ef8699a41ac9a0b2",
          "grade": false,
          "grade_id": "cell-985c0425f3b1304d",
          "locked": false,
          "schema_version": 3,
          "solution": true,
          "task": false
        },
        "id": "bs5oyFE0H6CI"
      },
      "outputs": [],
      "source": [
        "# Define the grid search parameters inside a dictionary named 'param_grid' \n",
        "# Use 2 hyper-parameters with 2 possible values for each \n",
        "\n",
        "# YOUR CODE HERE\n",
        "param_grid = {'units':[64, 128],\n",
        "              'activation': ['sigmoid', 'relu']}"
      ]
    },
    {
      "cell_type": "code",
      "execution_count": null,
      "metadata": {
        "deletable": false,
        "editable": false,
        "nbgrader": {
          "cell_type": "code",
          "checksum": "a551fd8278b30c1318c036f6ad43b503",
          "grade": true,
          "grade_id": "cell-c765b5db5489d7a2",
          "locked": true,
          "points": 1,
          "schema_version": 3,
          "solution": false,
          "task": false
        },
        "id": "5LQQ0aIJH6CI"
      },
      "outputs": [],
      "source": [
        "assert len(param_grid.keys()) == 2, \"Did you create a param dict with 2 hyper-parameters as keys?\""
      ]
    },
    {
      "cell_type": "code",
      "execution_count": null,
      "metadata": {
        "deletable": false,
        "nbgrader": {
          "cell_type": "code",
          "checksum": "2ea6312f4bc1f42809196b696037dd52",
          "grade": false,
          "grade_id": "cell-7cfb4315eab5031c",
          "locked": false,
          "schema_version": 3,
          "solution": true,
          "task": false
        },
        "id": "t9Qc9YeAH6CI",
        "colab": {
          "base_uri": "https://localhost:8080/"
        },
        "outputId": "0b0b9320-3245-4589-c0f3-2037656583ef"
      },
      "outputs": [
        {
          "output_type": "stream",
          "name": "stdout",
          "text": [
            "Fitting 3 folds for each of 4 candidates, totalling 12 fits\n",
            "7/7 [==============================] - 0s 3ms/step - loss: 3.2773 - accuracy: 0.0000e+00\n",
            "4/4 [==============================] - 0s 2ms/step - loss: 2.9336 - accuracy: 0.0000e+00\n",
            "[CV] END .......................activation=sigmoid, units=64; total time=   0.7s\n",
            "7/7 [==============================] - 0s 2ms/step - loss: 2.1101 - accuracy: 0.0446\n",
            "4/4 [==============================] - 0s 3ms/step - loss: 1.8496 - accuracy: 0.2277\n",
            "[CV] END .......................activation=sigmoid, units=64; total time=   0.6s\n",
            "7/7 [==============================] - 0s 2ms/step - loss: 2.1865 - accuracy: 0.0990\n",
            "4/4 [==============================] - 0s 3ms/step - loss: 1.9021 - accuracy: 0.4554\n",
            "[CV] END .......................activation=sigmoid, units=64; total time=   0.6s\n",
            "7/7 [==============================] - 0s 2ms/step - loss: 2.8221 - accuracy: 0.0396\n",
            "4/4 [==============================] - 0s 3ms/step - loss: 2.2622 - accuracy: 0.4554\n",
            "[CV] END ......................activation=sigmoid, units=128; total time=   0.6s\n",
            "7/7 [==============================] - 0s 2ms/step - loss: 1.8640 - accuracy: 0.3020\n",
            "4/4 [==============================] - 0s 3ms/step - loss: 1.3428 - accuracy: 0.7426\n",
            "[CV] END ......................activation=sigmoid, units=128; total time=   0.6s\n",
            "7/7 [==============================] - 0s 2ms/step - loss: 2.5377 - accuracy: 0.1337\n",
            "4/4 [==============================] - 0s 3ms/step - loss: 2.0547 - accuracy: 0.4950\n",
            "[CV] END ......................activation=sigmoid, units=128; total time=   0.6s\n",
            "7/7 [==============================] - 0s 2ms/step - loss: 58.8553 - accuracy: 0.0000e+00\n",
            "4/4 [==============================] - 0s 3ms/step - loss: 45.2921 - accuracy: 0.0000e+00\n",
            "[CV] END ..........................activation=relu, units=64; total time=   0.6s\n",
            "7/7 [==============================] - 1s 2ms/step - loss: 76.7390 - accuracy: 0.0000e+00\n",
            "4/4 [==============================] - 0s 3ms/step - loss: 52.8745 - accuracy: 0.0000e+00\n",
            "[CV] END ..........................activation=relu, units=64; total time=   0.8s\n",
            "7/7 [==============================] - 0s 2ms/step - loss: 9.0378 - accuracy: 0.3713\n",
            "4/4 [==============================] - 0s 3ms/step - loss: 7.3040 - accuracy: 0.3762\n",
            "[CV] END ..........................activation=relu, units=64; total time=   0.6s\n",
            "7/7 [==============================] - 0s 3ms/step - loss: 48.3777 - accuracy: 0.0000e+00\n",
            "4/4 [==============================] - 0s 3ms/step - loss: 16.4109 - accuracy: 0.0000e+00\n",
            "[CV] END .........................activation=relu, units=128; total time=   0.6s\n",
            "7/7 [==============================] - 0s 2ms/step - loss: 49.8284 - accuracy: 0.0000e+00\n",
            "4/4 [==============================] - 0s 3ms/step - loss: 14.4661 - accuracy: 0.1089\n",
            "[CV] END .........................activation=relu, units=128; total time=   0.6s\n",
            "7/7 [==============================] - 0s 2ms/step - loss: 29.2688 - accuracy: 0.2921\n",
            "4/4 [==============================] - 0s 3ms/step - loss: 8.5058 - accuracy: 0.4653\n",
            "[CV] END .........................activation=relu, units=128; total time=   0.6s\n",
            "10/10 [==============================] - 0s 2ms/step - loss: 2.5809 - accuracy: 0.1188\n"
          ]
        }
      ],
      "source": [
        "# Create Grid Search object and name it 'gs'\n",
        "# Run Grid Search \n",
        "# YOUR CODE HERE\n",
        "grid = GridSearchCV(estimator=model, param_grid=param_grid, n_jobs=1, verbose=2, cv=3)\n",
        "grid_result = grid.fit(X, Y)"
      ]
    },
    {
      "cell_type": "code",
      "execution_count": null,
      "metadata": {
        "id": "9NIuFmCWH6CI",
        "colab": {
          "base_uri": "https://localhost:8080/"
        },
        "outputId": "130615ed-572f-4ab4-a447-4465b1fb8069"
      },
      "outputs": [
        {
          "output_type": "stream",
          "name": "stdout",
          "text": [
            "Best: 0.5643564462661743 using {'activation': 'sigmoid', 'units': 128}\n",
            "Means: 0.22772277891635895, Stdev: 0.18593487038456752 with: {'activation': 'sigmoid', 'units': 64}\n",
            "Means: 0.5643564462661743, Stdev: 0.12705199440126103 with: {'activation': 'sigmoid', 'units': 128}\n",
            "Means: 0.1254125436147054, Stdev: 0.1773601200716237 with: {'activation': 'relu', 'units': 64}\n",
            "Means: 0.19141914447148642, Stdev: 0.19873359213994155 with: {'activation': 'relu', 'units': 128}\n"
          ]
        }
      ],
      "source": [
        "# your grid_result object should be able to run in this code \n",
        "print(f\"Best: {grid_result.best_score_} using {grid_result.best_params_}\")\n",
        "means = grid_result.cv_results_['mean_test_score']\n",
        "stds = grid_result.cv_results_['std_test_score']\n",
        "params = grid_result.cv_results_['params']\n",
        "for mean, stdev, param in zip(means, stds, params):\n",
        "    print(f\"Means: {mean}, Stdev: {stdev} with: {param}\") "
      ]
    },
    {
      "cell_type": "code",
      "execution_count": null,
      "metadata": {
        "id": "6IS4wX7qH6CI"
      },
      "outputs": [],
      "source": []
    }
  ],
  "metadata": {
    "kernelspec": {
      "display_name": "Python 3",
      "language": "python",
      "name": "python3"
    },
    "language_info": {
      "codemirror_mode": {
        "name": "ipython",
        "version": 3
      },
      "file_extension": ".py",
      "mimetype": "text/x-python",
      "name": "python",
      "nbconvert_exporter": "python",
      "pygments_lexer": "ipython3",
      "version": "3.8.8"
    },
    "colab": {
      "provenance": [],
      "collapsed_sections": []
    }
  },
  "nbformat": 4,
  "nbformat_minor": 0
}